{
 "cells": [
  {
   "cell_type": "markdown",
   "metadata": {},
   "source": [
    "# Lattice Dynamics under DissDTWA"
   ]
  },
  {
   "cell_type": "code",
   "execution_count": 367,
   "metadata": {},
   "outputs": [],
   "source": [
    "import matplotlib.pyplot as plt\n",
    "import numpy as np\n",
    "import matplotlib\n",
    "from numpy import cos, sin\n",
    "from numpy import sqrt\n",
    "import time\n",
    "from numpy import sin, cos\n",
    "\n",
    "\n",
    "\n",
    "\"\"\"In order to provide a better presentation of the graphs we use the rcParams options shown below.\"\"\"\n",
    "\n",
    "matplotlib.rcParams['text.usetex'] = False\n",
    "matplotlib.rcParams['mathtext.fontset'] = 'stix'\n",
    "matplotlib.rcParams['font.family'] = 'STIXGeneral'\n",
    "matplotlib.rcParams['font.size'] = 15\n",
    "matplotlib.rcParams['figure.figsize'] = (11.0, 8.0)\n",
    "\n",
    "\n",
    "label_size = 20\n"
   ]
  },
  {
   "cell_type": "code",
   "execution_count": 368,
   "metadata": {},
   "outputs": [],
   "source": [
    "import matplotlib.pyplot as plt\n",
    "import numpy as np\n",
    "#from google.colab import files\n",
    "\n",
    "\"\"\"In order to provide a better presentation of the graphs we use the rcParams options shown below.\"\"\"\n",
    "\n",
    "import matplotlib\n",
    "matplotlib.rcParams['text.usetex'] = False\n",
    "matplotlib.rcParams['mathtext.fontset'] = 'stix'\n",
    "matplotlib.rcParams['font.family'] = 'STIXGeneral'\n",
    "matplotlib.rcParams['font.size'] = 15\n",
    "matplotlib.rcParams['figure.figsize'] = (11.0, 8.0)\n",
    "\n",
    "from numpy import cos, sin\n",
    "\n",
    "label_size = 20\n",
    "\n",
    "from numpy import sqrt\n",
    "\n",
    "import time\n",
    "from numba import jit\n",
    "from numpy import sin, cos\n",
    "\n",
    "T0=time.time()\n",
    "\n",
    "import matplotlib\n",
    "matplotlib.rcParams['text.usetex'] = False\n",
    "matplotlib.rcParams['mathtext.fontset'] = 'stix'\n",
    "matplotlib.rcParams['font.family'] = 'STIXGeneral'\n",
    "matplotlib.rcParams['font.size'] = 15\n",
    "matplotlib.rcParams['figure.figsize'] = (11.0, 8.0)"
   ]
  },
  {
   "cell_type": "code",
   "execution_count": 369,
   "metadata": {},
   "outputs": [],
   "source": [
    "\n",
    "import matplotlib.pyplot as plt\n",
    "%matplotlib inline\n",
    "from numpy import random, zeros, sqrt,cos,sin\n",
    "\n",
    "import matplotlib.pyplot as plt\n",
    "import numpy as np\n",
    "\n",
    "from numba import jit\n",
    "import numbers\n",
    "\n",
    "from numpy import sqrt, zeros, diag, random, real, array, complex_, transpose, conjugate, exp, matmul, real\n",
    "\n",
    "\n",
    "import matplotlib\n",
    "import matplotlib.pyplot as plt\n",
    "from scipy.linalg import norm\n",
    "from numpy import dot\n",
    "\n",
    "from numpy import pi as pi\n",
    "from numpy import array\n",
    "\n",
    "import scipy\n",
    "\n",
    "from numpy import exp, imag, real,zeros, conj\n",
    "from numpy import sum\n",
    "from scipy import sparse\n",
    "from numpy import array\n",
    "import scipy.sparse as sp\n",
    "from numpy import concatenate\n",
    "\n",
    "from scipy.sparse import csr_matrix\n",
    "from numpy import sqrt, dot\n",
    "from numpy.random import choice\n",
    "from numpy.random import normal\n",
    "from numpy import sqrt\n",
    "\n",
    "\n",
    "from numpy import add\n"
   ]
  },
  {
   "cell_type": "markdown",
   "metadata": {},
   "source": [
    "The set of equations to solve are:\n",
    "\n",
    "\n",
    "\\begin{align*}\n",
    "{\\rm d}\\left\\langle \\sigma_{x}^{k}\\right\\rangle  & =\\left(-\\Delta\\left\\langle \\sigma_{y}^{k}\\right\\rangle +2C_{0}^{0}\\Omega\\left\\langle \\sigma_{z}^{k}\\right\\rangle \\mathcal{I}\\left({\\rm e}^{{\\rm i}\\overrightarrow{{\\rm k}}_{{\\rm L}}\\cdot\\overrightarrow{r}_{k}}\\left(\\hat{e}_{{\\rm L}}\\cdot\\hat{e}_{0}^{*}\\right)\\right)-\\left(C_{0}^{0}\\right)^{2}\\left(\\overrightarrow{\\mathcal{R}}_{0,0}^{k}\\cdot\\left\\langle \\overrightarrow{\\sigma}_{y}\\right\\rangle \\right)\\left\\langle \\sigma_{z}^{k}\\right\\rangle \\right.\\\\\n",
    " & \\,\\,\\,\\,\\,\\left.+\\left(C_{0}^{0}\\right)^{2}\\Gamma\\left(\\left\\langle S^{x}\\right\\rangle \\left\\langle \\sigma_{z}^{k}\\right\\rangle -\\frac{\\left\\langle \\sigma_{x}^{k}\\right\\rangle \\left(1+\\left\\langle \\sigma_{z}^{k}\\right\\rangle \\right)}{2}\\right)\\right){\\rm d}t-C_{0}^{0}\\sqrt{\\Gamma}\\left\\langle \\sigma_{y}^{k}\\right\\rangle {\\rm d}W,\\\\\n",
    "{\\rm d}_{t}\\left\\langle \\sigma_{y}^{k}\\right\\rangle  & =\\left(\\Delta\\left\\langle \\sigma_{x}^{k}\\right\\rangle +2C_{0}^{0}\\Omega\\left\\langle \\sigma_{z}^{k}\\right\\rangle \\mathcal{R}\\left({\\rm e}^{{\\rm i}\\overrightarrow{{\\rm k}}_{{\\rm L}}\\cdot\\overrightarrow{r}_{k}}\\left(\\hat{e}_{{\\rm L}}\\cdot\\hat{e}_{0}^{*}\\right)\\right)+\\left(C_{0}^{0}\\right)^{2}\\left\\langle \\sigma_{z}^{k}\\right\\rangle \\left(\\overrightarrow{\\mathcal{R}}_{0,0}^{k}\\cdot\\left\\langle \\overrightarrow{\\sigma}_{x}\\right\\rangle \\right)\\right.\\\\\n",
    " & \\,\\,\\,\\,\\,\\left.+\\left(C_{0}^{0}\\right)^{2}\\Gamma\\left(\\left\\langle S^{y}\\right\\rangle \\left\\langle \\sigma_{z}^{k}\\right\\rangle -\\frac{\\left\\langle \\sigma_{y}^{k}\\right\\rangle \\left(1+\\left\\langle \\sigma_{z}^{k}\\right\\rangle \\right)}{2}\\right)\\right){\\rm d}t+C_{0}^{0}\\sqrt{\\Gamma}\\left\\langle \\sigma_{x}^{k}\\right\\rangle {\\rm d}W,\\\\\n",
    "{\\rm d}_{t}\\left\\langle \\sigma_{z}^{k}\\right\\rangle  & =\\left(-2C_{0}^{0}\\Omega\\left(\\left\\langle \\sigma_{x}^{k}\\right\\rangle \\mathcal{I}\\left({\\rm e}^{{\\rm i}\\overrightarrow{{\\rm k}}_{{\\rm L}}\\cdot\\overrightarrow{r}_{k}}\\left(\\hat{e}_{{\\rm L}}\\cdot\\hat{e}_{0}^{*}\\right)\\right)+\\left\\langle \\sigma_{y}^{k}\\right\\rangle \\mathcal{R}\\left({\\rm e}^{{\\rm i}\\overrightarrow{{\\rm k}}_{{\\rm L}}\\cdot\\overrightarrow{r}_{k}}\\left(\\hat{e}_{{\\rm L}}\\cdot\\hat{e}_{0}^{*}\\right)\\right)\\right)\\right.\\\\\n",
    " & \\,\\,\\,\\,\\,\\left.-\\left(C_{0}^{0}\\right)^{2}\\overrightarrow{\\mathcal{R}}_{0,0}^{k}\\cdot\\left(\\left\\langle \\overrightarrow{\\sigma}_{x}\\right\\rangle \\left\\langle \\sigma_{y}^{k}\\right\\rangle -\\left\\langle \\sigma_{x}^{k}\\right\\rangle \\left\\langle \\overrightarrow{\\sigma}_{y}\\right\\rangle \\right)-\\left(C_{0}^{0}\\right)^{2}\\Gamma\\left(\\left\\langle \\sigma_{x}^{k}\\right\\rangle \\left\\langle S^{x}\\right\\rangle +\\left\\langle \\sigma_{y}^{k}\\right\\rangle \\left\\langle S^{y}\\right\\rangle +1+\\left\\langle \\sigma_{z}^{k}\\right\\rangle -\\frac{\\left\\langle \\sigma_{x}^{k}\\right\\rangle ^{2}+\\left\\langle \\sigma_{y}^{k}\\right\\rangle ^{2}}{2}\\right)\\right){\\rm d}t\\\\\n",
    " & \\,\\,\\,\\,\\,+C_{0}^{0}\\sqrt{\\Gamma}\\left(1+\\left\\langle \\sigma_{z}^{k}\\right\\rangle \\right){\\rm d}W.\n",
    "\\end{align*}\n",
    "\n",
    "Writing in matricial form:\n",
    "\n",
    "\n",
    "\\begin{align*}\n",
    "\\left\\langle \\overrightarrow{s}_{k}\\right\\rangle  & =\\begin{pmatrix}\\left\\langle \\sigma_{x}^{k}\\right\\rangle \\\\\n",
    "\\left\\langle \\sigma_{y}^{k}\\right\\rangle \\\\\n",
    "\\left\\langle \\sigma_{z}^{k}\\right\\rangle \n",
    "\\end{pmatrix},\\\\\n",
    "{\\rm d}\\left\\langle \\overrightarrow{s}_{k}\\right\\rangle  & =A_{k}\\left\\langle \\overrightarrow{s}_{k}\\right\\rangle {\\rm d}t-\\left(C_{0}^{0}\\right)^{2}\\Gamma\\begin{pmatrix}0\\\\\n",
    "0\\\\\n",
    "1\n",
    "\\end{pmatrix}{\\rm d}t+C_{0}^{0}\\sqrt{\\Gamma}\\begin{pmatrix}-\\left\\langle \\sigma_{y}^{k}\\right\\rangle \\\\\n",
    " \\left\\langle \\sigma_{x}^{k}\\right\\rangle \\\\\n",
    " 1+\\left\\langle \\sigma_{z}^{k}\\right\\rangle \n",
    "\\end{pmatrix}{\\rm d}W\\\\\n",
    "A_{k}^{xx} & =-\\left(C_{0}^{0}\\right)^{2}\\Gamma\\frac{\\left(1+\\left\\langle \\sigma_{z}^{k}\\right\\rangle \\right)}{2},\\\\\n",
    "A_{k}^{xy} & =-\\Delta,\\\\\n",
    "A_{k}^{xz} & =2C_{0}^{0}\\Omega\\mathcal{I}\\left({\\rm e}^{{\\rm i}\\overrightarrow{{\\rm k}}_{{\\rm L}}\\cdot\\overrightarrow{r}_{k}}\\left(\\hat{e}_{{\\rm L}}\\cdot\\hat{e}_{0}^{*}\\right)\\right)-\\left(C_{0}^{0}\\right)^{2}\\left(\\overrightarrow{\\mathcal{R}}_{0,0}^{k}\\cdot\\left\\langle \\overrightarrow{\\sigma}_{y}\\right\\rangle \\right)+\\left(C_{0}^{0}\\right)^{2}\\Gamma\\left\\langle S^{x}\\right\\rangle ,\\\\\n",
    "A_{k}^{yx} & =\\Delta,\\\\\n",
    "A_{k}^{yy} & =-\\left(C_{0}^{0}\\right)^{2}\\Gamma\\frac{\\left(1+\\left\\langle \\sigma_{z}^{k}\\right\\rangle \\right)}{2},\\\\\n",
    "A_{k}^{yz} & =2C_{0}^{0}\\Omega\\mathcal{R}\\left({\\rm e}^{{\\rm i}\\overrightarrow{{\\rm k}}_{{\\rm L}}\\cdot\\overrightarrow{r}_{k}}\\left(\\hat{e}_{{\\rm L}}\\cdot\\hat{e}_{0}^{*}\\right)\\right)+\\left(C_{0}^{0}\\right)^{2}\\left(\\overrightarrow{\\mathcal{R}}_{0,0}^{k}\\cdot\\left\\langle \\overrightarrow{\\sigma}_{x}\\right\\rangle \\right)+\\left(C_{0}^{0}\\right)^{2}\\Gamma\\left\\langle S^{y}\\right\\rangle ,\\\\\n",
    "A_{k}^{zx} & =-2C_{0}^{0}\\Omega\\mathcal{I}\\left({\\rm e}^{{\\rm i}\\overrightarrow{{\\rm k}}_{{\\rm L}}\\cdot\\overrightarrow{r}_{k}}\\left(\\hat{e}_{{\\rm L}}\\cdot\\hat{e}_{0}^{*}\\right)\\right)+\\left(C_{0}^{0}\\right)^{2}\\overrightarrow{\\mathcal{R}}_{0,0}^{k}\\cdot\\left\\langle \\overrightarrow{\\sigma}_{y}\\right\\rangle -\\left(C_{0}^{0}\\right)^{2}\\Gamma\\left(\\left\\langle S^{x}\\right\\rangle -\\frac{\\left\\langle \\sigma_{x}^{k}\\right\\rangle }{2}\\right)\\\\\n",
    "A_{k}^{zy} & =-2C_{0}^{0}\\Omega\\mathcal{R}\\left({\\rm e}^{{\\rm i}\\overrightarrow{{\\rm k}}_{{\\rm L}}\\cdot\\overrightarrow{r}_{k}}\\left(\\hat{e}_{{\\rm L}}\\cdot\\hat{e}_{0}^{*}\\right)\\right)-\\left(C_{0}^{0}\\right)^{2}\\overrightarrow{\\mathcal{R}}_{0,0}^{k}\\cdot\\left\\langle \\overrightarrow{\\sigma}_{x}\\right\\rangle -\\left(C_{0}^{0}\\right)^{2}\\Gamma\\left(\\left\\langle S^{y}\\right\\rangle -\\frac{\\left\\langle \\sigma_{y}^{k}\\right\\rangle }{2}\\right)\\\\\n",
    "A_{k}^{zz} & =-\\left(C_{0}^{0}\\right)^{2}\\Gamma.\n",
    "\\end{align*}\n",
    "\n",
    "We can observe that we can separate $A_{k}$ into an antisymmetric matrix and a “decay” matrix.\n",
    "\n",
    "\\begin{align*}\n",
    "A_{k} & =C_{k}+D_{k},\\\\\n",
    "C_{k}^{{\\rm T}} & =-C_{k},\\\\\n",
    "D_{k}^{xx} & =-\\left(C_{0}^{0}\\right)^{2}\\Gamma\\frac{\\left(1+\\left\\langle \\sigma_{z}^{k}\\right\\rangle \\right)}{2},\\\\\n",
    "D_{k}^{yy} & =-\\left(C_{0}^{0}\\right)^{2}\\Gamma\\frac{\\left(1+\\left\\langle \\sigma_{z}^{k}\\right\\rangle \\right)}{2},\\\\\n",
    "D_{k}^{zx} & =\\left(C_{0}^{0}\\right)^{2}\\Gamma\\frac{\\left\\langle \\sigma_{x}^{k}\\right\\rangle }{2},\\\\\n",
    "D_{k}^{zy} & =\\left(C_{0}^{0}\\right)^{2}\\Gamma\\frac{\\left\\langle \\sigma_{y}^{k}\\right\\rangle }{2},\\\\\n",
    "D_{k}^{zz} & =-\\left(C_{0}^{0}\\right)^{2}\\Gamma,\\\\\n",
    "C_{k}^{xy} & =-\\Delta,\\\\\n",
    "C_{k}^{xz} & =2C_{0}^{0}\\Omega\\mathcal{I}\\left({\\rm e}^{{\\rm i}\\overrightarrow{{\\rm k}}_{{\\rm L}}\\cdot\\overrightarrow{r}_{k}}\\left(\\hat{e}_{{\\rm L}}\\cdot\\hat{e}_{0}^{*}\\right)\\right)-\\left(C_{0}^{0}\\right)^{2}\\left(\\overrightarrow{\\mathcal{R}}_{0,0}^{k}\\cdot\\left\\langle \\overrightarrow{\\sigma}_{y}\\right\\rangle \\right)+\\left(C_{0}^{0}\\right)^{2}\\Gamma\\left\\langle S^{x}\\right\\rangle ,\\\\\n",
    "C_{k}^{yz} & =2C_{0}^{0}\\Omega\\mathcal{R}\\left({\\rm e}^{{\\rm i}\\overrightarrow{{\\rm k}}_{{\\rm L}}\\cdot\\overrightarrow{r}_{k}}\\left(\\hat{e}_{{\\rm L}}\\cdot\\hat{e}_{0}^{*}\\right)\\right)+\\left(C_{0}^{0}\\right)^{2}\\left(\\overrightarrow{\\mathcal{R}}_{0,0}^{k}\\cdot\\left\\langle \\overrightarrow{\\sigma}_{x}\\right\\rangle \\right)+\\left(C_{0}^{0}\\right)^{2}\\Gamma\\left\\langle S^{y}\\right\\rangle .\n",
    "\\end{align*}\n",
    "\n",
    "where:\n",
    "\n",
    "\\begin{align*}\n",
    "\\overrightarrow{\\mathcal{R}}_{0,0}^{k} & =\\begin{pmatrix}\\mathcal{R}_{0,0}^{k0}\\\\\n",
    "\\mathcal{R}_{0,0}^{k1}\\\\\n",
    "\\vdots\\\\\n",
    "\\mathcal{R}_{0,0}^{k\\left(N-1\\right)}\n",
    "\\end{pmatrix},\\\\\n",
    "\\left\\langle \\overrightarrow{\\sigma}_{\\alpha}\\right\\rangle  & =\\begin{pmatrix}\\left\\langle \\sigma_{\\alpha}^{0}\\right\\rangle \\\\\n",
    "\\left\\langle \\sigma_{\\alpha}^{1}\\right\\rangle \\\\\n",
    "\\vdots\\\\\n",
    "\\left\\langle \\sigma_{\\alpha}^{N-1}\\right\\rangle \n",
    "\\end{pmatrix}.\n",
    "\\end{align*}\n",
    "\n",
    "Writing in a more suitable form:\n",
    "\n",
    "\n",
    "\\begin{align*}\n",
    "{\\rm d}\\left\\langle \\sigma_{x}^{k}\\right\\rangle  & =\\left(-\\Delta\\left\\langle \\sigma_{y}^{k}\\right\\rangle +2C_{0}^{0}\\Omega\\left\\langle \\sigma_{z}^{k}\\right\\rangle \\mathcal{I}\\left({\\rm e}^{{\\rm i}\\overrightarrow{{\\rm k}}_{{\\rm L}}\\cdot\\overrightarrow{r}_{k}}\\left(\\hat{e}_{{\\rm L}}\\cdot\\hat{e}_{0}^{*}\\right)\\right)-\\left(C_{0}^{0}\\right)^{2}\\left(\\overrightarrow{\\mathcal{R}}_{0,0}^{k}\\cdot\\left\\langle \\overrightarrow{\\sigma}_{y}\\right\\rangle \\right)\\left\\langle \\sigma_{z}^{k}\\right\\rangle +\\left(C_{0}^{0}\\right)^{2}\\Gamma\\left(\\left\\langle S^{x}\\right\\rangle \\left\\langle \\sigma_{z}^{k}\\right\\rangle -\\frac{\\left\\langle \\sigma_{x}^{k}\\right\\rangle \\left(1+\\left\\langle \\sigma_{z}^{k}\\right\\rangle \\right)}{2}\\right)\\right){\\rm d}t-C_{0}^{0}\\sqrt{\\Gamma}\\left\\langle \\sigma_{y}^{k}\\right\\rangle {\\rm d}W,\\\\\n",
    "{\\rm d}_{t}\\left\\langle \\sigma_{y}^{k}\\right\\rangle  & =\\left(\\Delta\\left\\langle \\sigma_{x}^{k}\\right\\rangle +2C_{0}^{0}\\Omega\\left\\langle \\sigma_{z}^{k}\\right\\rangle \\mathcal{R}\\left({\\rm e}^{{\\rm i}\\overrightarrow{{\\rm k}}_{{\\rm L}}\\cdot\\overrightarrow{r}_{k}}\\left(\\hat{e}_{{\\rm L}}\\cdot\\hat{e}_{0}^{*}\\right)\\right)+\\left(C_{0}^{0}\\right)^{2}\\left\\langle \\sigma_{z}^{k}\\right\\rangle \\left(\\overrightarrow{\\mathcal{R}}_{0,0}^{k}\\cdot\\left\\langle \\overrightarrow{\\sigma}_{x}\\right\\rangle \\right)+\\left(C_{0}^{0}\\right)^{2}\\Gamma\\left(\\left\\langle S^{y}\\right\\rangle \\left\\langle \\sigma_{z}^{k}\\right\\rangle -\\frac{\\left\\langle \\sigma_{y}^{k}\\right\\rangle \\left(1+\\left\\langle \\sigma_{z}^{k}\\right\\rangle \\right)}{2}\\right)\\right){\\rm d}t+C_{0}^{0}\\sqrt{\\Gamma}\\left\\langle \\sigma_{x}^{k}\\right\\rangle {\\rm d}W,\\\\\n",
    "{\\rm d}_{t}\\left\\langle \\sigma_{z}^{k}\\right\\rangle  & =\\left(-2C_{0}^{0}\\Omega\\left(\\left\\langle \\sigma_{x}^{k}\\right\\rangle \\mathcal{I}\\left({\\rm e}^{{\\rm i}\\overrightarrow{{\\rm k}}_{{\\rm L}}\\cdot\\overrightarrow{r}_{k}}\\left(\\hat{e}_{{\\rm L}}\\cdot\\hat{e}_{0}^{*}\\right)\\right)+\\left\\langle \\sigma_{y}^{k}\\right\\rangle \\mathcal{R}\\left({\\rm e}^{{\\rm i}\\overrightarrow{{\\rm k}}_{{\\rm L}}\\cdot\\overrightarrow{r}_{k}}\\left(\\hat{e}_{{\\rm L}}\\cdot\\hat{e}_{0}^{*}\\right)\\right)\\right)-\\left(C_{0}^{0}\\right)^{2}\\overrightarrow{\\mathcal{R}}_{0,0}^{k}\\cdot\\left(\\left\\langle \\overrightarrow{\\sigma}_{x}\\right\\rangle \\left\\langle \\sigma_{y}^{k}\\right\\rangle -\\left\\langle \\sigma_{x}^{k}\\right\\rangle \\left\\langle \\overrightarrow{\\sigma}_{y}\\right\\rangle \\right)\\right){\\rm d}t\\\\\n",
    " & \\,\\,\\,\\,\\,-\\left(C_{0}^{0}\\right)^{2}\\Gamma\\left(\\left\\langle \\sigma_{x}^{k}\\right\\rangle \\left\\langle S^{x}\\right\\rangle +\\left\\langle \\sigma_{y}^{k}\\right\\rangle \\left\\langle S^{y}\\right\\rangle +1+\\left\\langle \\sigma_{z}^{k}\\right\\rangle -\\frac{\\left\\langle \\sigma_{x}^{k}\\right\\rangle ^{2}+\\left\\langle \\sigma_{y}^{k}\\right\\rangle ^{2}}{2}\\right){\\rm d}t+C_{0}^{0}\\sqrt{\\Gamma}\\left(1+\\left\\langle \\sigma_{z}^{k}\\right\\rangle \\right){\\rm d}W.\n",
    "\\end{align*}\n",
    "\n",
    "Define:\n",
    "\n",
    "\\begin{align*}\n",
    "\\mathcal{R}_{{\\rm L}k} & \\equiv\\mathcal{R}\\left({\\rm e}^{{\\rm i}\\overrightarrow{{\\rm k}}_{{\\rm L}}\\cdot\\overrightarrow{r}_{k}}\\left(\\hat{e}_{{\\rm L}}\\cdot\\hat{e}_{0}^{*}\\right)\\right),\\\\\n",
    "\\mathcal{I}_{{\\rm L}k} & \\equiv\\mathcal{I}\\left({\\rm e}^{{\\rm i}\\overrightarrow{{\\rm k}}_{{\\rm L}}\\cdot\\overrightarrow{r}_{k}}\\left(\\hat{e}_{{\\rm L}}\\cdot\\hat{e}_{0}^{*}\\right)\\right).\n",
    "\\end{align*}\n",
    "\n",
    "In this case:\n",
    "\n",
    "\n",
    "\\begin{align*}\n",
    "{\\rm d}\\left\\langle \\sigma_{x}^{k}\\right\\rangle  & =\\left(\\!-\\Delta\\left\\langle \\sigma_{y}^{k}\\right\\rangle +2C_{0}^{0}\\Omega\\left\\langle \\sigma_{z}^{k}\\right\\rangle \\mathcal{I}_{{\\rm L}k}-\\left(C_{0}^{0}\\right)^{4}\\overrightarrow{\\mathcal{R}}_{0,0}^{k}\\cdot\\left\\langle \\overrightarrow{\\sigma}_{y}\\right\\rangle \\!\\left\\langle \\sigma_{z}^{k}\\right\\rangle +\\left(C_{0}^{0}\\right)^{2}\\Gamma\\left(\\!\\left\\langle S^{x}\\right\\rangle \\left\\langle \\sigma_{z}^{k}\\right\\rangle -\\frac{\\left\\langle \\sigma_{x}^{k}\\right\\rangle \\left(1+\\left\\langle \\sigma_{z}^{k}\\right\\rangle \\right)}{2}\\!\\right)\\!\\right){\\rm d}t-C_{0}^{0}\\sqrt{\\Gamma}\\left\\langle \\sigma_{y}^{k}\\right\\rangle {\\rm d}W,\\\\\n",
    "{\\rm d}_{t}\\left\\langle \\sigma_{y}^{k}\\right\\rangle  & =\\left(\\!\\Delta\\left\\langle \\sigma_{x}^{k}\\right\\rangle +2C_{0}^{0}\\Omega\\left\\langle \\sigma_{z}^{k}\\right\\rangle \\mathcal{R}_{{\\rm L}k}+\\left(C_{0}^{0}\\right)^{4}\\left\\langle \\sigma_{z}^{k}\\right\\rangle \\left(\\overrightarrow{\\mathcal{R}}_{0,0}^{k}\\cdot\\left\\langle \\overrightarrow{\\sigma}_{x}\\right\\rangle \\right)+\\left(C_{0}^{0}\\right)^{2}\\Gamma\\left(\\!\\left\\langle S^{y}\\right\\rangle \\left\\langle \\sigma_{z}^{k}\\right\\rangle -\\frac{\\left\\langle \\sigma_{y}^{k}\\right\\rangle \\left(1+\\left\\langle \\sigma_{z}^{k}\\right\\rangle \\right)}{2}\\!\\right)\\!\\right){\\rm d}t+C_{0}^{0}\\sqrt{\\Gamma}\\left\\langle \\sigma_{x}^{k}\\right\\rangle {\\rm d}W,\\\\\n",
    "{\\rm d}_{t}\\left\\langle \\sigma_{z}^{k}\\right\\rangle  & =\\left(-2C_{0}^{0}\\Omega\\left(\\left\\langle \\sigma_{x}^{k}\\right\\rangle \\mathcal{I}_{{\\rm L}k}+\\left\\langle \\sigma_{y}^{k}\\right\\rangle \\mathcal{R}_{{\\rm L}k}\\right)-\\left(C_{0}^{0}\\right)^{4}\\overrightarrow{\\mathcal{R}}_{0,0}^{k}\\cdot\\left(\\left\\langle \\overrightarrow{\\sigma}_{x}\\right\\rangle \\left\\langle \\sigma_{y}^{k}\\right\\rangle -\\left\\langle \\sigma_{x}^{k}\\right\\rangle \\left\\langle \\overrightarrow{\\sigma}_{y}\\right\\rangle \\right)\\right){\\rm d}t+C_{0}^{0}\\sqrt{\\Gamma}\\left(1+\\left\\langle \\sigma_{z}^{k}\\right\\rangle \\right){\\rm d}W\\\\\n",
    " & \\,\\,\\,\\,\\,-\\left(C_{0}^{0}\\right)^{2}\\Gamma\\left(\\left\\langle \\sigma_{x}^{k}\\right\\rangle \\left\\langle S^{x}\\right\\rangle +\\left\\langle \\sigma_{y}^{k}\\right\\rangle \\left\\langle S^{y}\\right\\rangle +1+\\left\\langle \\sigma_{z}^{k}\\right\\rangle -\\frac{\\left\\langle \\sigma_{x}^{k}\\right\\rangle ^{2}+\\left\\langle \\sigma_{y}^{k}\\right\\rangle ^{2}}{2}\\right){\\rm d}t.\n",
    "\\end{align*}\n",
    "\n",
    "In order to perform the sampling using the rotated basis consider the following equation:\n",
    "\n",
    "\n",
    "\\begin{equation}\n",
    "{\\rm d}\\left\\langle \\overrightarrow{S}^{{\\rm R}}\\right\\rangle ={\\rm R\\left(\\left(A\\left({\\rm R}^{{\\rm T}}\\left\\langle \\overrightarrow{S}^{{\\rm R}}\\right\\rangle \\right){\\rm R}^{{\\rm T}}\\left\\langle \\overrightarrow{S}^{{\\rm R}}\\right\\rangle +\\overrightarrow{b}\\left({\\rm R}^{{\\rm T}}\\left\\langle \\overrightarrow{S}^{{\\rm R}}\\right\\rangle \\right)\\right){\\rm d}t+\\overrightarrow{g}\\left({\\rm R}^{{\\rm T}}\\left\\langle \\overrightarrow{S}^{{\\rm R}}\\right\\rangle \\right){\\rm d}W\\right)}.\n",
    "\\end{equation}"
   ]
  },
  {
   "cell_type": "code",
   "execution_count": 370,
   "metadata": {},
   "outputs": [],
   "source": [
    "#t0=time.time()"
   ]
  },
  {
   "cell_type": "markdown",
   "metadata": {},
   "source": [
    "# Parameters"
   ]
  },
  {
   "cell_type": "code",
   "execution_count": 371,
   "metadata": {},
   "outputs": [],
   "source": [
    "#Parameters  (Check the units)\n",
    "\n",
    "Gamma_r=1#  2*pi*6e6  #reference\n",
    "\n",
    "wL=4.5*Gamma_r  #Laser frequency\n",
    "w0=4.5*Gamma_r  #Energy difference, twith hbar=1\n",
    "c_light=3e8     #m/s\n",
    "\n",
    "\n",
    "\n",
    "DeltaL0=wL-w0      #wL − w0, where wL is the laser detuning   , What are the units?\n",
    "Omega=4.5*Gamma_r  #Driving frequency , What are the units?\n",
    "N_atom=10           #Number of atoms\n",
    "\n",
    "lambda_r=29.4    # in units\n",
    "\n",
    "Lambda_las=29.4     # in units    Gamma_r*2*pi/(wL/c_light)   #Laser wavelenght  , What are the units?\n",
    "\n",
    "e_L=array([0,1,0]/sqrt(1))\n",
    "\n",
    "\n",
    "Theta1=pi/2\n",
    "Theta2=pi/2   #they got [0,1,0]\n",
    "\n",
    "e_0=array([sin(Theta1)*cos(Theta2),sin(Theta1)*sin(Theta2),cos(Theta1)])\n",
    "\n",
    "K_laser=(2*pi/Lambda_las)*array([1,0,0])\n",
    "\n",
    "k0=2*pi/Lambda_las\n",
    "\n",
    "Gamma_dec=Gamma_r"
   ]
  },
  {
   "cell_type": "markdown",
   "metadata": {},
   "source": [
    "# Clebsch-Gordan coefficient"
   ]
  },
  {
   "cell_type": "code",
   "execution_count": 372,
   "metadata": {},
   "outputs": [],
   "source": [
    "# Clebsch-Gordan coefficient\n",
    "\n",
    "C00=1    #will change due to the transition nature\n"
   ]
  },
  {
   "cell_type": "markdown",
   "metadata": {},
   "source": [
    "# Positions"
   ]
  },
  {
   "cell_type": "code",
   "execution_count": 373,
   "metadata": {},
   "outputs": [],
   "source": [
    "# Positions\n",
    "\n",
    "\n",
    "## Oblate Variances matrix: Set the shape of the atoms cloud\n",
    "\n",
    "Sigma_x=20 *lambda_r    \n",
    "Sigma_y=0.6*lambda_r    \n",
    "Sigma_z=Sigma_y        \n",
    "\n",
    "\n",
    "Oblate_variances=zeros((3,3))\n",
    "\n",
    "Oblate_variances[0][0]=Sigma_x\n",
    "Oblate_variances[1][1]=Sigma_y\n",
    "Oblate_variances[2][2]=Sigma_z\n",
    "\n",
    "Miu_pos=[0 , 0, 0]\n",
    "\n",
    "Pos_atoms=(random.multivariate_normal(Miu_pos, Oblate_variances, N_atom))\n"
   ]
  },
  {
   "cell_type": "code",
   "execution_count": 374,
   "metadata": {},
   "outputs": [
    {
     "data": {
      "text/plain": [
       "array([[ 0.  ,  0.  ,  0.  ],\n",
       "       [ 8.82,  0.  ,  0.  ],\n",
       "       [17.64,  0.  ,  0.  ],\n",
       "       [26.46,  0.  ,  0.  ],\n",
       "       [35.28,  0.  ,  0.  ],\n",
       "       [44.1 ,  0.  ,  0.  ],\n",
       "       [52.92,  0.  ,  0.  ],\n",
       "       [61.74,  0.  ,  0.  ],\n",
       "       [70.56,  0.  ,  0.  ],\n",
       "       [79.38,  0.  ,  0.  ]])"
      ]
     },
     "execution_count": 374,
     "metadata": {},
     "output_type": "execute_result"
    }
   ],
   "source": [
    "\n",
    "\n",
    "for j in range(N_atom):\n",
    "    Pos_atoms[j]=np.array([0.3*Lambda_las*j,0,0])\n",
    "    \n",
    "\n",
    "#Pos_atoms\n",
    "Pos_atoms    "
   ]
  },
  {
   "cell_type": "markdown",
   "metadata": {},
   "source": [
    "# Construct $I_{Lk}$ and $R_{Lk}$"
   ]
  },
  {
   "cell_type": "code",
   "execution_count": 375,
   "metadata": {},
   "outputs": [],
   "source": [
    "# Construct I_Lk and R_Lk\n",
    "\n",
    "\n",
    "eL_e0c=dot(e_L,conj(e_0))\n",
    "\n",
    "\n",
    "DotKL_rk=[]   #summarize k_L.r_k for all k\n",
    "\n",
    "for j in range(N_atom):\n",
    "    DotKL_rk.append(dot(Pos_atoms[j],K_laser))\n",
    "\n",
    "DotKL_rk_exp=exp(1j*array(DotKL_rk))\n",
    "\n",
    "\n",
    "ImL_k=imag(DotKL_rk_exp*eL_e0c)\n",
    "RmL_k=real(DotKL_rk_exp*eL_e0c)\n"
   ]
  },
  {
   "cell_type": "code",
   "execution_count": 376,
   "metadata": {},
   "outputs": [],
   "source": [
    "conj_0=conj(e_0)"
   ]
  },
  {
   "cell_type": "markdown",
   "metadata": {},
   "source": [
    "# Construct $R_{00}$"
   ]
  },
  {
   "cell_type": "code",
   "execution_count": 377,
   "metadata": {},
   "outputs": [],
   "source": [
    "# Construct the matrix R00\n",
    "#t0=time.time()\n",
    "\n",
    "#@jit\n",
    "def fun_Pkl0(k,l,k0=k0):\n",
    "    \n",
    "    VecR_kl=Pos_atoms[k]-Pos_atoms[l]\n",
    "    R_kl=sqrt(dot(VecR_kl,VecR_kl))\n",
    "    #R_kl=norm(VecR_kl)\n",
    "    \n",
    "    \n",
    "    #Pkl0=dot(conj(e_0),VecR_kl)\n",
    "    Pkl0=dot(conj_0,VecR_kl)\n",
    "    Pkl_0nC=(abs(Pkl0))**2\n",
    "    \n",
    "    M0kl=k0*R_kl\n",
    "    \n",
    "    return (1-Pkl_0nC)/M0kl+(1-3*Pkl_0nC)*(1j/(M0kl)**2-1/(M0kl)**3)\n",
    "    \n",
    "\n",
    "\n",
    "MatL=zeros((N_atom,N_atom),dtype='complex')\n",
    "MatR=zeros((N_atom,N_atom),dtype='complex')\n",
    "\n",
    "\n",
    "for i in range(N_atom):\n",
    "    for j in range(i+1,N_atom):\n",
    "        \n",
    "        MatL[i][j]=exp(1j*k0*dot(e_0,(Pos_atoms[i] -Pos_atoms[j])))\n",
    "        MatR[i][j]=fun_Pkl0(i,j,k0)\n",
    "\n",
    "        \n",
    "        \n",
    "MatR=MatR+MatR.T\n",
    "MatL=MatL+conj(MatL.T)\n",
    "\n",
    "R00=real(MatL*MatR)\n",
    "\n",
    "#t1=time.time()"
   ]
  },
  {
   "cell_type": "markdown",
   "metadata": {},
   "source": [
    "\\begin{align*}\n",
    "A_{k} & =C_{k}+D_{k},\\\\\n",
    "C_{k}^{{\\rm T}} & =-C_{k},\\\\\n",
    "D_{k}^{xx} & =-\\left(C_{0}^{0}\\right)^{2}\\Gamma\\frac{\\left(1+\\left\\langle \\sigma_{z}^{k}\\right\\rangle \\right)}{2},\\\\\n",
    "D_{k}^{yy} & =-\\left(C_{0}^{0}\\right)^{2}\\Gamma\\frac{\\left(1+\\left\\langle \\sigma_{z}^{k}\\right\\rangle \\right)}{2},\\\\\n",
    "D_{k}^{zx} & =\\left(C_{0}^{0}\\right)^{2}\\Gamma\\frac{\\left\\langle \\sigma_{x}^{k}\\right\\rangle }{2},\\\\\n",
    "D_{k}^{zy} & =\\left(C_{0}^{0}\\right)^{2}\\Gamma\\frac{\\left\\langle \\sigma_{y}^{k}\\right\\rangle }{2},\\\\\n",
    "D_{k}^{zz} & =-\\left(C_{0}^{0}\\right)^{2}\\Gamma,\\\\\n",
    "C_{k}^{xy} & =-\\Delta,\\\\\n",
    "C_{k}^{xz} & =2C_{0}^{0}\\Omega\\mathcal{I}\\left({\\rm e}^{{\\rm i}\\overrightarrow{{\\rm k}}_{{\\rm L}}\\cdot\\overrightarrow{r}_{k}}\\left(\\hat{e}_{{\\rm L}}\\cdot\\hat{e}_{+}^{*}\\right)\\right)-\\left(C_{0}^{0}\\right)^{4}\\left(\\overrightarrow{\\mathcal{R}}_{0,0}^{k}\\cdot\\left\\langle \\overrightarrow{\\sigma}_{y}\\right\\rangle \\right)+\\left(C_{0}^{0}\\right)^{2}\\Gamma\\left\\langle S^{x}\\right\\rangle ,\\\\\n",
    "C_{k}^{yz} & =2C_{0}^{0}\\Omega\\mathcal{R}\\left({\\rm e}^{{\\rm i}\\overrightarrow{{\\rm k}}_{{\\rm L}}\\cdot\\overrightarrow{r}_{k}}\\left(\\hat{e}_{{\\rm L}}\\cdot\\hat{e}_{+}^{*}\\right)\\right)+\\left(C_{0}^{0}\\right)^{4}\\left(\\overrightarrow{\\mathcal{R}}_{0,0}^{k}\\cdot\\left\\langle \\overrightarrow{\\sigma}_{x}\\right\\rangle \\right)+\\left(C_{0}^{0}\\right)^{2}\\Gamma\\left\\langle S^{y}\\right\\rangle .\n",
    "\\end{align*}"
   ]
  },
  {
   "cell_type": "markdown",
   "metadata": {},
   "source": [
    "\n",
    "\\begin{equation}\n",
    "{\\rm d}\\left\\langle \\overrightarrow{s}_{k}\\right\\rangle =A_{k}\\left\\langle \\overrightarrow{s}_{k}\\right\\rangle {\\rm d}t-\\left(C_{0}^{0}\\right)^{2}\\Gamma\\begin{pmatrix}0\\\\\n",
    "0\\\\\n",
    "1\n",
    "\\end{pmatrix}{\\rm d}t+C_{0}^{0}\\sqrt{\\Gamma}\\begin{pmatrix}-\\left\\langle \\sigma_{y}^{k}\\right\\rangle \\\\\n",
    "\\left\\langle \\sigma_{x}^{k}\\right\\rangle \\\\\n",
    "1+\\left\\langle \\sigma_{z}^{k}\\right\\rangle \n",
    "\\end{pmatrix}{\\rm d}W\n",
    "\\end{equation}"
   ]
  },
  {
   "cell_type": "markdown",
   "metadata": {},
   "source": [
    "# Construct matrix $A_k$"
   ]
  },
  {
   "cell_type": "code",
   "execution_count": 378,
   "metadata": {},
   "outputs": [],
   "source": [
    "#@jit\n",
    "def Matrix_Ak(Pk,VectSx,VectSy,VectSz,DeltaL0=DeltaL0,C00=C00,Omega=Omega,Gamma_dec=Gamma_dec,N_atom=N_atom):\n",
    "    \n",
    "    \"\"\"\n",
    "    Pk: Index of the kth atom\n",
    "    VectSy: \\overrightarrow{\\sigma_y}\n",
    "    VectSx: \\overrightarrow{\\sigma_X}\n",
    "    \"\"\"\n",
    "\n",
    "    Cxy_k=-DeltaL0\n",
    "    Cxz_k=2*C00*Omega*ImL_k[Pk]-(C00**4)*dot(R00[Pk],VectSy)+(C00**2)*Gamma_dec*sum(VectSx)/2\n",
    "    Cyz_k=2*C00*Omega*RmL_k[Pk]+(C00**4)*dot(R00[Pk],VectSx)+(C00**2)*Gamma_dec*sum(VectSy)/2\n",
    "    \n",
    "    Transl_i=3*Pk\n",
    "    \n",
    "    I = array([0,0,1])+Transl_i\n",
    "    J = array([1,2,2])+Transl_i\n",
    "    V = array([Cxy_k,Cxz_k,Cyz_k])\n",
    "    \n",
    "    Gen_k = sparse.coo_matrix((V,(I,J)),shape=(3*N_atom,3*N_atom))\n",
    "    \n",
    "    C_k=Gen_k- Gen_k.T\n",
    "    \n",
    "    sxk=VectSx[Pk]\n",
    "    syk=VectSy[Pk]\n",
    "    szk=VectSz[Pk]\n",
    "    \n",
    "    \n",
    "    refz=(1+szk)/2\n",
    "    \n",
    "    Dxx_k=-(C00**2)*Gamma_dec*refz\n",
    "    Dyy_k=-(C00**2)*Gamma_dec*refz\n",
    "    Dzx_k= (C00**2)*Gamma_dec*sxk/2\n",
    "    Dzy_k= (C00**2)*Gamma_dec*syk/2\n",
    "    Dzz_k=-(C00**2)*Gamma_dec\n",
    "    \n",
    "    \n",
    "    I = array([0,1,2,2,2])+Transl_i\n",
    "    J = array([0,1,0,1,2])+Transl_i\n",
    "    V = array([Dxx_k,Dyy_k,Dzx_k,Dzy_k,Dzz_k])\n",
    "    \n",
    "    D_k = sparse.coo_matrix((V,(I,J)),shape=(3*N_atom,3*N_atom))\n",
    "    \n",
    "    \n",
    "    \n",
    "    return (C_k+D_k)    #Here I changed the .to..dense()\n"
   ]
  },
  {
   "cell_type": "markdown",
   "metadata": {},
   "source": [
    "# Construct matrix $A$"
   ]
  },
  {
   "cell_type": "code",
   "execution_count": 379,
   "metadata": {},
   "outputs": [],
   "source": [
    "#@jit\n",
    "def Matrix_A(VectSy,VectSx,VectSz,DeltaL0=DeltaL0,C00=C00,Omega=Omega,Gamma_dec=Gamma_dec,N_atom=N_atom):\n",
    "    \n",
    "    Mat_A=Matrix_Ak(0,VectSy,VectSx,VectSz,DeltaL0=DeltaL0,C00=C00,Omega=Omega,Gamma_dec=Gamma_dec,N_atom=N_atom)\n",
    "    \n",
    "    for j in range(1,N_atom):\n",
    "        Mat_A=Mat_A+Matrix_Ak(j,VectSy,VectSx,VectSz,DeltaL0=DeltaL0,C00=C00,Omega=Omega,Gamma_dec=Gamma_dec,N_atom=N_atom)\n",
    "        \n",
    "    return Mat_A"
   ]
  },
  {
   "cell_type": "markdown",
   "metadata": {},
   "source": [
    "# State Parameters"
   ]
  },
  {
   "cell_type": "code",
   "execution_count": 380,
   "metadata": {},
   "outputs": [],
   "source": [
    "# State parameters\n",
    "\n",
    "\n",
    "Alpha=0\n",
    "\n",
    "# The angle is associated with the position via Klaser.rk\n",
    "\n"
   ]
  },
  {
   "cell_type": "markdown",
   "metadata": {},
   "source": [
    "# Local rotation matrix"
   ]
  },
  {
   "cell_type": "code",
   "execution_count": 381,
   "metadata": {},
   "outputs": [],
   "source": [
    "def MatrixRot_k(Pk,K_laser=K_laser,Alpha=Alpha):\n",
    "    \n",
    "    Rk=Pos_atoms[Pk]\n",
    "    \n",
    "    Phi_k=dot(K_laser,Rk)\n",
    "    \n",
    "    S_k=sin(Phi_k)\n",
    "    C_k=cos(Phi_k)\n",
    "    S_a=sin(2*Alpha)\n",
    "    C_a=cos(2*Alpha)\n",
    "    \n",
    "    Array_Rot_k=np.array([[-C_k*C_a, S_k*C_a,-S_a],\n",
    "                        [S_k,C_k,0],\n",
    "                        [C_k*S_a,-S_k*S_a,-C_a]])\n",
    "    \n",
    "    return Array_Rot_k.round(6)"
   ]
  },
  {
   "cell_type": "code",
   "execution_count": 382,
   "metadata": {},
   "outputs": [],
   "source": [
    "def gRot_gen():\n",
    "    Array_Rot_gen=np.array([[0,-1,0],\n",
    "                           [1,0,0],\n",
    "                           [0,0,1]])\n",
    "    \n",
    "    return Array_Rot_gen\n",
    "\n",
    "    "
   ]
  },
  {
   "cell_type": "code",
   "execution_count": 383,
   "metadata": {},
   "outputs": [],
   "source": [
    "# Matrix R of general rotation\n",
    "\n",
    "#tu0=time.time()\n",
    "\n",
    "round_val=8\n",
    "k=0\n",
    "M_k=csr_matrix(MatrixRot_k(0).round(round_val))\n",
    "\n",
    "Coord=(M_k).nonzero()\n",
    "\n",
    "Xk=Coord[0]\n",
    "Yk=Coord[1]\n",
    "Valk=(M_k).data\n",
    "\n",
    "X_arr=Xk\n",
    "Y_arr=Yk\n",
    "Val_arr=Valk\n",
    "\n",
    "\n",
    "for k in range(1,N_atom):\n",
    "    M_k=csr_matrix(MatrixRot_k(k).round(round_val))\n",
    "    Coord=(M_k).nonzero()\n",
    "    \n",
    "    Xk=Coord[0]+3*k\n",
    "    Yk=Coord[1]+3*k\n",
    "    Valk=(M_k).data\n",
    "    \n",
    "    X_arr=np.concatenate((X_arr, Xk), axis=0)\n",
    "    Y_arr=np.concatenate((Y_arr, Yk), axis=0)\n",
    "    Val_arr=np.concatenate((Val_arr, Valk), axis=0)\n",
    "    \n",
    "    \n",
    "Rot_R = (sparse.coo_matrix((Val_arr,(X_arr,Y_arr)),shape=(3*N_atom,3*N_atom))) \n",
    "\n",
    "#tu1=time.time()\n",
    "\n",
    "#print(tu1-tu0)"
   ]
  },
  {
   "cell_type": "code",
   "execution_count": 384,
   "metadata": {},
   "outputs": [],
   "source": [
    "Val_arr=np.array(N_atom*[-1,1,1])\n",
    "\n",
    "Ib=[]\n",
    "Jb=[]\n",
    "\n",
    "for j in range(N_atom):\n",
    "    \n",
    "    Ij=np.array([0+3*j,1+3*j,2+3*j])\n",
    "    Jj=np.array([1+3*j,0+3*j,2+3*j])\n",
    "    \n",
    "    Ib= np.concatenate((Ib, Ij))\n",
    "    Jb= np.concatenate((Jb, Jj))\n"
   ]
  },
  {
   "cell_type": "code",
   "execution_count": 385,
   "metadata": {},
   "outputs": [],
   "source": [
    "Rot_Val = (sparse.coo_matrix((array(Val_arr),(Ib,Jb)),shape=(3*N_atom,3*N_atom)))"
   ]
  },
  {
   "cell_type": "code",
   "execution_count": 386,
   "metadata": {},
   "outputs": [],
   "source": [
    "#print(Rot_R)"
   ]
  },
  {
   "cell_type": "code",
   "execution_count": 387,
   "metadata": {},
   "outputs": [],
   "source": [
    "sqr_GammaR=sqrt(Gamma_dec)"
   ]
  },
  {
   "cell_type": "code",
   "execution_count": 388,
   "metadata": {},
   "outputs": [],
   "source": [
    "#Plot the matrix R\n",
    "\n",
    "\n",
    "#import numpy as np\n",
    "#import matplotlib.pyplot as plt\n",
    "\n",
    "#plt.imshow(Rot_R.todense())\n",
    "#plt.colorbar()\n",
    "#plt.show()"
   ]
  },
  {
   "cell_type": "code",
   "execution_count": 389,
   "metadata": {},
   "outputs": [],
   "source": [
    "#More efficient multiplication\n",
    "\n",
    "\n",
    "#tyu0=time.time()\n",
    "\n",
    "#Vali=Rot_R@rty\n",
    "\n",
    "#tyu1=time.time()"
   ]
  },
  {
   "cell_type": "markdown",
   "metadata": {},
   "source": [
    "# Sampling"
   ]
  },
  {
   "cell_type": "code",
   "execution_count": 390,
   "metadata": {},
   "outputs": [],
   "source": [
    "\n",
    "def init_state(N_atom=N_atom):\n",
    "    elements = [-1, 1]\n",
    "    probabilities = [0.5, 0.5]\n",
    "    Measurements=list(choice(elements, 2*N_atom, p=probabilities))\n",
    "    for j in range(N_atom):\n",
    "\n",
    "        Measurements.insert(2+3*j,1)\n",
    "        \n",
    "    return Measurements\n",
    "    \n"
   ]
  },
  {
   "cell_type": "code",
   "execution_count": 391,
   "metadata": {},
   "outputs": [],
   "source": [
    "# Separate in Sx, Sy and Sz\n",
    "#@jit\n",
    "def get_s_alpha(Measur):\n",
    "    \n",
    "    Arr_retX=[]\n",
    "    Arr_retY=[]\n",
    "    Arr_retZ=[]\n",
    "    \n",
    "    for j in range(N_atom):\n",
    "        Arr_retX.append(Measur[3*j])\n",
    "        Arr_retY.append(Measur[3*j+1])\n",
    "        Arr_retZ.append(Measur[3*j+2])\n",
    "    \n",
    "    return Arr_retX,Arr_retY,Arr_retZ"
   ]
  },
  {
   "cell_type": "code",
   "execution_count": 392,
   "metadata": {},
   "outputs": [],
   "source": [
    "\n",
    "def b_fun(N_atom=N_atom,Gamma_dec=Gamma_dec):\n",
    "    \n",
    "    b_column=[]\n",
    "    \n",
    "    for j in range(N_atom):\n",
    "        b_column.append(0)\n",
    "        b_column.append(0)\n",
    "        b_column.append(1)\n",
    "        \n",
    "    return np.array(b_column)"
   ]
  },
  {
   "cell_type": "code",
   "execution_count": 393,
   "metadata": {},
   "outputs": [],
   "source": [
    "TransR_m=(Rot_R.T)\n",
    "b_funct=b_fun().reshape(3*N_atom,)"
   ]
  },
  {
   "cell_type": "markdown",
   "metadata": {},
   "source": [
    "# Construct the differential equations"
   ]
  },
  {
   "cell_type": "code",
   "execution_count": 394,
   "metadata": {},
   "outputs": [],
   "source": [
    "#%% Differential equation RHS function\n",
    "\n",
    "#%%%%%%%%%%%%%%%%%%%%%%%%%%%%%%%%%%%%%%%%%%%%%%%%%%%%%%%%%%%%%%%%%%%\n",
    "\n",
    "@jit\n",
    "def f(yR, t):#  ,TransR_m=TransR_m,Rot_R=Rot_R,C00=C00,Gamma_dec=Gamma_dec,b_funct=b_funct):\n",
    "    \n",
    "    \n",
    "    # Here yR is an array in the R xR,yR and zR basis. \n",
    "    \n",
    "    \n",
    "    # yOr is the results array in the x, y and z basis.\n",
    "    \n",
    "    \n",
    "    yOr=(TransR_m)@yR\n",
    "    \n",
    "    Separ_alpha=get_s_alpha(yOr)\n",
    "    \n",
    "    \n",
    "    yOr_x=Separ_alpha[0] \n",
    "    yOr_y=Separ_alpha[1] \n",
    "    yOr_z=Separ_alpha[2]  \n",
    "    \n",
    "    MatA=Rot_R@((Matrix_A(yOr_y,yOr_x,yOr_z)@TransR_m)@yR-(C00**2)*Gamma_dec*b_funct)\n",
    "\n",
    "\n",
    "    return MatA\n",
    "    \n"
   ]
  },
  {
   "cell_type": "code",
   "execution_count": 395,
   "metadata": {},
   "outputs": [],
   "source": [
    "\n",
    "#%% Noise function\n",
    "\n",
    "@jit\n",
    "def g(yR, t):\n",
    "    \n",
    "    \n",
    "    # Here yR is an array in the R xR,yR and zR basis. \n",
    "    # yOr is the results array in the x, y and z basis.\n",
    "    \n",
    "    \n",
    "\n",
    "    yOr=(TransR_m)@((array(yR)).reshape(3*N_atom,))\n",
    "    \n",
    "    return Rot_R@((C00)*sqr_GammaR*(    Rot_Val@yOr +b_funct))\n",
    "    "
   ]
  },
  {
   "cell_type": "markdown",
   "metadata": {},
   "source": [
    "# Euler-Maruyama"
   ]
  },
  {
   "cell_type": "code",
   "execution_count": 397,
   "metadata": {},
   "outputs": [],
   "source": [
    "tspan=np.linspace(0,3,5500+1)\n",
    "\n",
    "#h=(tspan[-1]-tspan[0])/(len(tspan)-1)\n",
    "\n"
   ]
  },
  {
   "cell_type": "code",
   "execution_count": 398,
   "metadata": {},
   "outputs": [],
   "source": [
    "\n",
    "@jit\n",
    "def EulerMaruyama(f, g, y0 , tspan,Stochastic=1 ):\n",
    "        \n",
    "    y0,Ns =array(y0).reshape(3*N_atom,), len(tspan)\n",
    "\n",
    "    h,y = (tspan[Ns-1] - tspan[0])/(Ns - 1),zeros((Ns, 3*N_atom), dtype=float)\n",
    "    # allocate space for result\n",
    "\n",
    "    y[0] = y0.reshape(3*N_atom,);\n",
    "    \n",
    "    Second_moment=[]\n",
    "    \n",
    "    sqrth=sqrt(h)*Stochastic\n",
    "    \n",
    "    init0=y0.reshape(3*N_atom,1)\n",
    "    \n",
    "    Second_moment.append( init0@(init0.T)   )\n",
    "    \n",
    "    \n",
    "    for n in range(0, Ns-1):\n",
    "\n",
    "\n",
    "        tn   = tspan[n]\n",
    "        tnp1 = tspan[n+1]\n",
    "        yn   = y[n]\n",
    "        \n",
    "\n",
    "\n",
    "        fn = f(yn, tn)\n",
    "        gn = g(yn, tn)\n",
    "        \n",
    "        ynp1=yn + fn*h + gn*sqrth*normal()\n",
    "        \n",
    "        y[n+1] = ynp1\n",
    "        \n",
    "        Vect_np1=ynp1.reshape(3*N_atom,1)\n",
    "        \n",
    "        Second_moment.append( Vect_np1@(Vect_np1.T)   )\n",
    "        \n",
    "        #print(n)\n",
    "        \n",
    "    return y, Second_moment"
   ]
  },
  {
   "cell_type": "code",
   "execution_count": 399,
   "metadata": {},
   "outputs": [],
   "source": [
    "\n",
    "@jit\n",
    "def EulerTWA(f, g, y0 , tspan,Stochastic=0):\n",
    "    \n",
    "    \n",
    "    y0,Ns =array(y0).reshape(3*N_atom,), len(tspan)\n",
    "\n",
    "    h,y = (tspan[Ns-1] - tspan[0])/(Ns - 1),zeros((Ns, 3*N_atom), dtype=float)\n",
    "    # allocate space for result\n",
    "\n",
    "    y[0] = y0.reshape(3*N_atom,);\n",
    "    \n",
    "    Second_moment=[]\n",
    "    \n",
    "    sqrth=sqrt(h)*Stochastic\n",
    "    \n",
    "    init0=y0.reshape(3*N_atom,1)\n",
    "    \n",
    "    Second_moment.append( init0@(init0.T)   )\n",
    "    \n",
    "    \n",
    "    for n in range(0, Ns-1):\n",
    "\n",
    "\n",
    "        tn   = tspan[n]\n",
    "        tnp1 = tspan[n+1]\n",
    "        yn   = y[n]\n",
    "        \n",
    "\n",
    "\n",
    "        fn = f(yn, tn)\n",
    "        \n",
    "        ynp1=yn + fn*h\n",
    "        \n",
    "        y[n+1] = ynp1\n",
    "        \n",
    "        Vect_np1=ynp1.reshape(3*N_atom,1)\n",
    "        \n",
    "        Second_moment.append( Vect_np1@(Vect_np1.T)   )\n",
    "        \n",
    "        #print(n)\n",
    "        \n",
    "    return y, Second_moment\n"
   ]
  },
  {
   "cell_type": "code",
   "execution_count": null,
   "metadata": {},
   "outputs": [],
   "source": []
  },
  {
   "cell_type": "code",
   "execution_count": 400,
   "metadata": {},
   "outputs": [],
   "source": [
    "\n",
    "itera=500\n",
    "\n",
    "#@jit\n",
    "def averages_twa(itera=itera,N_atom=N_atom,tspan=tspan):\n",
    "    Results =EulerTWA(f,g,init_state(),tspan)\n",
    "    \n",
    "    Result_First  =Results[0]\n",
    "    Second_moment =Results[1]\n",
    "\n",
    "    print(0)\n",
    "\n",
    "    for j in range(itera-1):\n",
    "        Trayec=EulerTWA(f,g,init_state(),tspan)\n",
    "        Result_First  =add(Result_First  ,Trayec[0])\n",
    "        Second_moment =add(Second_moment, Trayec[1])\n",
    "\n",
    "        print(j+1)\n",
    "    \n",
    "    return np.array(Result_First)/int(itera), np.array(Second_moment)/int(itera)"
   ]
  },
  {
   "cell_type": "code",
   "execution_count": 401,
   "metadata": {},
   "outputs": [],
   "source": [
    "\n",
    "itera=500\n",
    "\n",
    "#@jit\n",
    "def averages_sde(itera=itera,N_atom=N_atom,tspan=tspan,Stochastic=1):\n",
    "    Results =EulerMaruyama(f,g,init_state(),tspan,Stochastic=1)\n",
    "    \n",
    "    Result_First  =Results[0]\n",
    "    Second_moment =Results[1]\n",
    "\n",
    "    print(0)\n",
    "\n",
    "    for j in range(itera-1):\n",
    "        Trayec=EulerMaruyama(f,g,init_state(),tspan)\n",
    "        Result_First  =add(Result_First  ,Trayec[0])\n",
    "        Second_moment =add(Second_moment, Trayec[1])\n",
    "\n",
    "        print(j+1)\n",
    "    \n",
    "    return np.array(Result_First)/int(itera), np.array(Second_moment)/int(itera)"
   ]
  },
  {
   "cell_type": "code",
   "execution_count": null,
   "metadata": {},
   "outputs": [],
   "source": []
  },
  {
   "cell_type": "code",
   "execution_count": 402,
   "metadata": {},
   "outputs": [],
   "source": [
    "#resEM[0][-1]\n",
    "\n",
    "#resEM[0].shape"
   ]
  },
  {
   "cell_type": "code",
   "execution_count": null,
   "metadata": {},
   "outputs": [],
   "source": []
  },
  {
   "cell_type": "code",
   "execution_count": null,
   "metadata": {},
   "outputs": [],
   "source": []
  },
  {
   "cell_type": "code",
   "execution_count": 418,
   "metadata": {},
   "outputs": [],
   "source": [
    "import matplotlib.pyplot as plt\n",
    "import numpy as np\n",
    "#from google.colab import files\n",
    "\n",
    "\"\"\"In order to provide a better presentation of the graphs we use the rcParams options shown below.\"\"\"\n",
    "\n",
    "import matplotlib\n",
    "matplotlib.rcParams['text.usetex'] = False\n",
    "matplotlib.rcParams['mathtext.fontset'] = 'stix'\n",
    "matplotlib.rcParams['font.family'] = 'STIXGeneral'\n",
    "matplotlib.rcParams['font.size'] = 15\n",
    "matplotlib.rcParams['figure.figsize'] = (11.0, 8.0)\n",
    "\n",
    "from numpy import cos, sin\n",
    "\n",
    "label_size = 20\n",
    "\n",
    "from numpy import sqrt\n",
    "\n",
    "import time\n",
    "from numba import jit\n",
    "from numpy import sin, cos\n",
    "\n",
    "T0=time.time()\n",
    "\n",
    "import matplotlib\n",
    "matplotlib.rcParams['text.usetex'] = False\n",
    "matplotlib.rcParams['mathtext.fontset'] = 'stix'\n",
    "matplotlib.rcParams['font.family'] = 'STIXGeneral'\n",
    "matplotlib.rcParams['font.size'] = 15\n",
    "matplotlib.rcParams['figure.figsize'] = (11.0, 8.0)"
   ]
  },
  {
   "cell_type": "markdown",
   "metadata": {},
   "source": [
    "# Mean-Field"
   ]
  },
  {
   "cell_type": "code",
   "execution_count": 404,
   "metadata": {},
   "outputs": [
    {
     "name": "stderr",
     "output_type": "stream",
     "text": [
      "<ipython-input-398-6f2975a0a135>:1: NumbaWarning: \u001b[1m\n",
      "Compilation is falling back to object mode WITH looplifting enabled because Function \"EulerMaruyama\" failed type inference due to: \u001b[1m\u001b[1m\u001b[1mNo implementation of function Function(<built-in function zeros>) found for signature:\n",
      " \n",
      " >>> zeros(UniTuple(int64 x 2), dtype=Function(<class 'float'>))\n",
      " \n",
      "There are 2 candidate implementations:\n",
      "\u001b[1m  - Of which 2 did not match due to:\n",
      "  Overload of function 'zeros': File: numba\\core\\typing\\npydecl.py: Line 526.\n",
      "    With argument(s): '(UniTuple(int64 x 2), dtype=Function(<class 'float'>))':\u001b[0m\n",
      "\u001b[1m   No match.\u001b[0m\n",
      "\u001b[0m\n",
      "\u001b[0m\u001b[1mDuring: resolving callee type: Function(<built-in function zeros>)\u001b[0m\n",
      "\u001b[0m\u001b[1mDuring: typing of call at <ipython-input-398-6f2975a0a135> (6)\n",
      "\u001b[0m\n",
      "\u001b[1m\n",
      "File \"<ipython-input-398-6f2975a0a135>\", line 6:\u001b[0m\n",
      "\u001b[1mdef EulerMaruyama(f, g, y0 , tspan,Stochastic=1 ):\n",
      "    <source elided>\n",
      "\n",
      "\u001b[1m    h,y = (tspan[Ns-1] - tspan[0])/(Ns - 1),zeros((Ns, 3*N_atom), dtype=float)\n",
      "\u001b[0m    \u001b[1m^\u001b[0m\u001b[0m\n",
      "\u001b[0m\n",
      "  @jit\n",
      "<ipython-input-398-6f2975a0a135>:1: NumbaWarning: \u001b[1m\n",
      "Compilation is falling back to object mode WITHOUT looplifting enabled because Function \"EulerMaruyama\" failed type inference due to: \u001b[1m\u001b[1mcannot determine Numba type of <class 'numba.core.dispatcher.LiftedLoop'>\u001b[0m\n",
      "\u001b[1m\n",
      "File \"<ipython-input-398-6f2975a0a135>\", line 20:\u001b[0m\n",
      "\u001b[1mdef EulerMaruyama(f, g, y0 , tspan,Stochastic=1 ):\n",
      "    <source elided>\n",
      "    \n",
      "\u001b[1m    for n in range(0, Ns-1):\n",
      "\u001b[0m    \u001b[1m^\u001b[0m\u001b[0m\n",
      "\u001b[0m\u001b[0m\n",
      "  @jit\n",
      "C:\\Users\\camil\\anaconda3\\lib\\site-packages\\numba\\core\\object_mode_passes.py:177: NumbaWarning: \u001b[1mFunction \"EulerMaruyama\" was compiled in object mode without forceobj=True, but has lifted loops.\n",
      "\u001b[1m\n",
      "File \"<ipython-input-398-6f2975a0a135>\", line 4:\u001b[0m\n",
      "\u001b[1mdef EulerMaruyama(f, g, y0 , tspan,Stochastic=1 ):\n",
      "    <source elided>\n",
      "        \n",
      "\u001b[1m    y0,Ns =array(y0).reshape(3*N_atom,), len(tspan)\n",
      "\u001b[0m    \u001b[1m^\u001b[0m\u001b[0m\n",
      "\u001b[0m\n",
      "  warnings.warn(errors.NumbaWarning(warn_msg,\n",
      "C:\\Users\\camil\\anaconda3\\lib\\site-packages\\numba\\core\\object_mode_passes.py:187: NumbaDeprecationWarning: \u001b[1m\n",
      "Fall-back from the nopython compilation path to the object mode compilation path has been detected, this is deprecated behaviour.\n",
      "\n",
      "For more information visit http://numba.pydata.org/numba-doc/latest/reference/deprecation.html#deprecation-of-object-mode-fall-back-behaviour-when-using-jit\n",
      "\u001b[1m\n",
      "File \"<ipython-input-398-6f2975a0a135>\", line 4:\u001b[0m\n",
      "\u001b[1mdef EulerMaruyama(f, g, y0 , tspan,Stochastic=1 ):\n",
      "    <source elided>\n",
      "        \n",
      "\u001b[1m    y0,Ns =array(y0).reshape(3*N_atom,), len(tspan)\n",
      "\u001b[0m    \u001b[1m^\u001b[0m\u001b[0m\n",
      "\u001b[0m\n",
      "  warnings.warn(errors.NumbaDeprecationWarning(msg,\n",
      "<ipython-input-398-6f2975a0a135>:1: NumbaWarning: \u001b[1m\n",
      "Compilation is falling back to object mode WITHOUT looplifting enabled because Function \"EulerMaruyama\" failed type inference due to: \u001b[1m\u001b[1m\u001b[1mInvalid use of type(CPUDispatcher(<function f at 0x000001F0665ED5E0>)) with parameters (array(float64, 1d, C), float64)\n",
      "\u001b[0m\n",
      "\u001b[0m\u001b[1mDuring: resolving callee type: type(CPUDispatcher(<function f at 0x000001F0665ED5E0>))\u001b[0m\n",
      "\u001b[0m\u001b[1mDuring: typing of call at <ipython-input-398-6f2975a0a135> (29)\n",
      "\u001b[0m\n",
      "\u001b[1m\n",
      "File \"<ipython-input-398-6f2975a0a135>\", line 29:\u001b[0m\n",
      "\u001b[1mdef EulerMaruyama(f, g, y0 , tspan,Stochastic=1 ):\n",
      "    <source elided>\n",
      "\n",
      "\u001b[1m        fn = f(yn, tn)\n",
      "\u001b[0m        \u001b[1m^\u001b[0m\u001b[0m\n",
      "\u001b[0m\n",
      "  @jit\n",
      "C:\\Users\\camil\\anaconda3\\lib\\site-packages\\numba\\core\\object_mode_passes.py:177: NumbaWarning: \u001b[1mFunction \"EulerMaruyama\" was compiled in object mode without forceobj=True.\n",
      "\u001b[1m\n",
      "File \"<ipython-input-398-6f2975a0a135>\", line 20:\u001b[0m\n",
      "\u001b[1mdef EulerMaruyama(f, g, y0 , tspan,Stochastic=1 ):\n",
      "    <source elided>\n",
      "    \n",
      "\u001b[1m    for n in range(0, Ns-1):\n",
      "\u001b[0m    \u001b[1m^\u001b[0m\u001b[0m\n",
      "\u001b[0m\n",
      "  warnings.warn(errors.NumbaWarning(warn_msg,\n",
      "C:\\Users\\camil\\anaconda3\\lib\\site-packages\\numba\\core\\object_mode_passes.py:187: NumbaDeprecationWarning: \u001b[1m\n",
      "Fall-back from the nopython compilation path to the object mode compilation path has been detected, this is deprecated behaviour.\n",
      "\n",
      "For more information visit http://numba.pydata.org/numba-doc/latest/reference/deprecation.html#deprecation-of-object-mode-fall-back-behaviour-when-using-jit\n",
      "\u001b[1m\n",
      "File \"<ipython-input-398-6f2975a0a135>\", line 20:\u001b[0m\n",
      "\u001b[1mdef EulerMaruyama(f, g, y0 , tspan,Stochastic=1 ):\n",
      "    <source elided>\n",
      "    \n",
      "\u001b[1m    for n in range(0, Ns-1):\n",
      "\u001b[0m    \u001b[1m^\u001b[0m\u001b[0m\n",
      "\u001b[0m\n",
      "  warnings.warn(errors.NumbaDeprecationWarning(msg,\n"
     ]
    }
   ],
   "source": [
    "MF_result=(TransR_m@(EulerMaruyama(f, g, list(b_fun()) , tspan,Stochastic=0 )[0].T)).T"
   ]
  },
  {
   "cell_type": "code",
   "execution_count": 405,
   "metadata": {},
   "outputs": [],
   "source": [
    "\n",
    "SxMF=[]\n",
    "SyMF=[]\n",
    "SzMF=[]\n",
    "\n",
    "for j in range(MF_result.shape[0]):\n",
    "    \n",
    "    Sxyz=get_s_alpha(MF_result[j])\n",
    "    \n",
    "    SxMF.append(sum(Sxyz[0])/2)\n",
    "    SyMF.append(sum(Sxyz[1])/2)\n",
    "    SzMF.append(sum(Sxyz[2])/2)\n",
    "    "
   ]
  },
  {
   "cell_type": "code",
   "execution_count": 419,
   "metadata": {},
   "outputs": [
    {
     "data": {
      "text/plain": [
       "<matplotlib.legend.Legend at 0x1f04c710e20>"
      ]
     },
     "execution_count": 419,
     "metadata": {},
     "output_type": "execute_result"
    },
    {
     "data": {
      "image/png": "[encoded data removed]",
      "text/plain": [
       "<Figure size 792x576 with 1 Axes>"
      ]
     },
     "metadata": {
      "needs_background": "light"
     },
     "output_type": "display_data"
    }
   ],
   "source": [
    "plt.title(\"Single Particle Operator Dynamics\",fontsize=30)\n",
    "\n",
    "fontsize=25\n",
    "\n",
    "plt.plot(tspan,np.array(SxMF)/N_atom,label=\"$\\\\left<\\hat{S}_x\\\\right>/N_{\\\\rm{atom}}$ Mean-Field\")\n",
    "plt.plot(tspan,np.array(SyMF)/N_atom,label=\"$\\\\left<\\hat{S}_y\\\\right>/N_{\\\\rm{atom}}$ Mean-Field\")\n",
    "plt.plot(tspan,np.array(SzMF)/N_atom,label=\"$\\\\left<\\hat{S}_z\\\\right>/N_{\\\\rm{atom}}$ Mean-Field\")\n",
    "\n",
    "plt.ylabel(\"$\\\\left<\\hat{S}_{\\\\alpha}\\\\right>/N_{\\\\rm{atom}}$\",fontsize=fontsize)\n",
    "plt.xlabel(\"$\\Gamma t$\",fontsize=fontsize)\n",
    "\n",
    "\n",
    "plt.legend(fontsize=fontsize-5)"
   ]
  },
  {
   "cell_type": "code",
   "execution_count": null,
   "metadata": {},
   "outputs": [],
   "source": []
  },
  {
   "cell_type": "markdown",
   "metadata": {},
   "source": [
    "# DTWA (Discrete-TWA)"
   ]
  },
  {
   "cell_type": "code",
   "execution_count": null,
   "metadata": {},
   "outputs": [],
   "source": []
  },
  {
   "cell_type": "code",
   "execution_count": 407,
   "metadata": {},
   "outputs": [
    {
     "ename": "TypeError",
     "evalue": "averages_twa() got an unexpected keyword argument 'Stochastic'",
     "output_type": "error",
     "traceback": [
      "\u001b[1;31m---------------------------------------------------------------------------\u001b[0m",
      "\u001b[1;31mTypeError\u001b[0m                                 Traceback (most recent call last)",
      "\u001b[1;32m<ipython-input-407-18cf05b3451a>\u001b[0m in \u001b[0;36m<module>\u001b[1;34m\u001b[0m\n\u001b[0;32m      3\u001b[0m \u001b[1;33m\u001b[0m\u001b[0m\n\u001b[0;32m      4\u001b[0m \u001b[0mitera\u001b[0m\u001b[1;33m=\u001b[0m\u001b[1;36m100\u001b[0m\u001b[1;33m\u001b[0m\u001b[1;33m\u001b[0m\u001b[0m\n\u001b[1;32m----> 5\u001b[1;33m \u001b[0mResult_varTWA_Col_TWA\u001b[0m \u001b[1;33m=\u001b[0m \u001b[0maverages_twa\u001b[0m\u001b[1;33m(\u001b[0m\u001b[0mitera\u001b[0m\u001b[1;33m=\u001b[0m\u001b[0mitera\u001b[0m\u001b[1;33m,\u001b[0m\u001b[0mN_atom\u001b[0m\u001b[1;33m=\u001b[0m\u001b[0mN_atom\u001b[0m\u001b[1;33m,\u001b[0m\u001b[0mtspan\u001b[0m\u001b[1;33m=\u001b[0m\u001b[0mtspan\u001b[0m\u001b[1;33m,\u001b[0m\u001b[0mStochastic\u001b[0m\u001b[1;33m=\u001b[0m\u001b[1;36m0\u001b[0m\u001b[1;33m)\u001b[0m\u001b[1;33m\u001b[0m\u001b[1;33m\u001b[0m\u001b[0m\n\u001b[0m\u001b[0;32m      6\u001b[0m \u001b[1;31m#Result_varTWA_Col_TWA = averages_sde(itera=itera,N=N)\u001b[0m\u001b[1;33m\u001b[0m\u001b[1;33m\u001b[0m\u001b[1;33m\u001b[0m\u001b[0m\n\u001b[0;32m      7\u001b[0m \u001b[1;33m\u001b[0m\u001b[0m\n",
      "\u001b[1;31mTypeError\u001b[0m: averages_twa() got an unexpected keyword argument 'Stochastic'"
     ]
    }
   ],
   "source": [
    "import time\n",
    "#t0=time.time()\n",
    "\n",
    "itera=100\n",
    "Result_varTWA_Col_TWA = averages_twa(itera=itera,N_atom=N_atom,tspan=tspan,Stochastic=0)\n",
    "#Result_varTWA_Col_TWA = averages_sde(itera=itera,N=N)\n",
    "\n",
    "#t1=time.time()\n",
    "\n",
    "#print(t1-t0)"
   ]
  },
  {
   "cell_type": "code",
   "execution_count": null,
   "metadata": {},
   "outputs": [],
   "source": []
  },
  {
   "cell_type": "code",
   "execution_count": null,
   "metadata": {},
   "outputs": [],
   "source": []
  },
  {
   "cell_type": "code",
   "execution_count": null,
   "metadata": {},
   "outputs": [],
   "source": []
  },
  {
   "cell_type": "markdown",
   "metadata": {},
   "source": [
    "# DissDTWA (Dissipative Discrete-TWA) "
   ]
  },
  {
   "cell_type": "code",
   "execution_count": null,
   "metadata": {},
   "outputs": [],
   "source": []
  },
  {
   "cell_type": "code",
   "execution_count": 408,
   "metadata": {},
   "outputs": [
    {
     "name": "stdout",
     "output_type": "stream",
     "text": [
      "0\n"
     ]
    },
    {
     "name": "stderr",
     "output_type": "stream",
     "text": [
      "<ipython-input-398-6f2975a0a135>:1: NumbaWarning: \u001b[1m\n",
      "Compilation is falling back to object mode WITH looplifting enabled because Function \"EulerMaruyama\" failed type inference due to: \u001b[1m\u001b[1m\u001b[1mNo implementation of function Function(<built-in function zeros>) found for signature:\n",
      " \n",
      " >>> zeros(UniTuple(int64 x 2), dtype=Function(<class 'float'>))\n",
      " \n",
      "There are 2 candidate implementations:\n",
      "\u001b[1m    - Of which 2 did not match due to:\n",
      "    Overload of function 'zeros': File: numba\\core\\typing\\npydecl.py: Line 526.\n",
      "      With argument(s): '(UniTuple(int64 x 2), dtype=Function(<class 'float'>))':\u001b[0m\n",
      "\u001b[1m     No match.\u001b[0m\n",
      "\u001b[0m\n",
      "\u001b[0m\u001b[1mDuring: resolving callee type: Function(<built-in function zeros>)\u001b[0m\n",
      "\u001b[0m\u001b[1mDuring: typing of call at <ipython-input-398-6f2975a0a135> (6)\n",
      "\u001b[0m\n",
      "\u001b[1m\n",
      "File \"<ipython-input-398-6f2975a0a135>\", line 6:\u001b[0m\n",
      "\u001b[1mdef EulerMaruyama(f, g, y0 , tspan,Stochastic=1 ):\n",
      "    <source elided>\n",
      "\n",
      "\u001b[1m    h,y = (tspan[Ns-1] - tspan[0])/(Ns - 1),zeros((Ns, 3*N_atom), dtype=float)\n",
      "\u001b[0m    \u001b[1m^\u001b[0m\u001b[0m\n",
      "\u001b[0m\n",
      "  @jit\n",
      "<ipython-input-398-6f2975a0a135>:1: NumbaWarning: \u001b[1m\n",
      "Compilation is falling back to object mode WITHOUT looplifting enabled because Function \"EulerMaruyama\" failed type inference due to: \u001b[1m\u001b[1mcannot determine Numba type of <class 'numba.core.dispatcher.LiftedLoop'>\u001b[0m\n",
      "\u001b[1m\n",
      "File \"<ipython-input-398-6f2975a0a135>\", line 20:\u001b[0m\n",
      "\u001b[1mdef EulerMaruyama(f, g, y0 , tspan,Stochastic=1 ):\n",
      "    <source elided>\n",
      "    \n",
      "\u001b[1m    for n in range(0, Ns-1):\n",
      "\u001b[0m    \u001b[1m^\u001b[0m\u001b[0m\n",
      "\u001b[0m\u001b[0m\n",
      "  @jit\n",
      "C:\\Users\\camil\\anaconda3\\lib\\site-packages\\numba\\core\\object_mode_passes.py:177: NumbaWarning: \u001b[1mFunction \"EulerMaruyama\" was compiled in object mode without forceobj=True, but has lifted loops.\n",
      "\u001b[1m\n",
      "File \"<ipython-input-398-6f2975a0a135>\", line 4:\u001b[0m\n",
      "\u001b[1mdef EulerMaruyama(f, g, y0 , tspan,Stochastic=1 ):\n",
      "    <source elided>\n",
      "        \n",
      "\u001b[1m    y0,Ns =array(y0).reshape(3*N_atom,), len(tspan)\n",
      "\u001b[0m    \u001b[1m^\u001b[0m\u001b[0m\n",
      "\u001b[0m\n",
      "  warnings.warn(errors.NumbaWarning(warn_msg,\n",
      "C:\\Users\\camil\\anaconda3\\lib\\site-packages\\numba\\core\\object_mode_passes.py:187: NumbaDeprecationWarning: \u001b[1m\n",
      "Fall-back from the nopython compilation path to the object mode compilation path has been detected, this is deprecated behaviour.\n",
      "\n",
      "For more information visit http://numba.pydata.org/numba-doc/latest/reference/deprecation.html#deprecation-of-object-mode-fall-back-behaviour-when-using-jit\n",
      "\u001b[1m\n",
      "File \"<ipython-input-398-6f2975a0a135>\", line 4:\u001b[0m\n",
      "\u001b[1mdef EulerMaruyama(f, g, y0 , tspan,Stochastic=1 ):\n",
      "    <source elided>\n",
      "        \n",
      "\u001b[1m    y0,Ns =array(y0).reshape(3*N_atom,), len(tspan)\n",
      "\u001b[0m    \u001b[1m^\u001b[0m\u001b[0m\n",
      "\u001b[0m\n",
      "  warnings.warn(errors.NumbaDeprecationWarning(msg,\n",
      "<ipython-input-398-6f2975a0a135>:1: NumbaWarning: \u001b[1m\n",
      "Compilation is falling back to object mode WITHOUT looplifting enabled because Function \"EulerMaruyama\" failed type inference due to: \u001b[1m\u001b[1m\u001b[1mInvalid use of type(CPUDispatcher(<function f at 0x000001F0665ED5E0>)) with parameters (array(float64, 1d, C), float64)\n",
      "\u001b[0m\n",
      "\u001b[0m\u001b[1mDuring: resolving callee type: type(CPUDispatcher(<function f at 0x000001F0665ED5E0>))\u001b[0m\n",
      "\u001b[0m\u001b[1mDuring: typing of call at <ipython-input-398-6f2975a0a135> (29)\n",
      "\u001b[0m\n",
      "\u001b[1m\n",
      "File \"<ipython-input-398-6f2975a0a135>\", line 29:\u001b[0m\n",
      "\u001b[1mdef EulerMaruyama(f, g, y0 , tspan,Stochastic=1 ):\n",
      "    <source elided>\n",
      "\n",
      "\u001b[1m        fn = f(yn, tn)\n",
      "\u001b[0m        \u001b[1m^\u001b[0m\u001b[0m\n",
      "\u001b[0m\n",
      "  @jit\n",
      "C:\\Users\\camil\\anaconda3\\lib\\site-packages\\numba\\core\\object_mode_passes.py:177: NumbaWarning: \u001b[1mFunction \"EulerMaruyama\" was compiled in object mode without forceobj=True.\n",
      "\u001b[1m\n",
      "File \"<ipython-input-398-6f2975a0a135>\", line 20:\u001b[0m\n",
      "\u001b[1mdef EulerMaruyama(f, g, y0 , tspan,Stochastic=1 ):\n",
      "    <source elided>\n",
      "    \n",
      "\u001b[1m    for n in range(0, Ns-1):\n",
      "\u001b[0m    \u001b[1m^\u001b[0m\u001b[0m\n",
      "\u001b[0m\n",
      "  warnings.warn(errors.NumbaWarning(warn_msg,\n",
      "C:\\Users\\camil\\anaconda3\\lib\\site-packages\\numba\\core\\object_mode_passes.py:187: NumbaDeprecationWarning: \u001b[1m\n",
      "Fall-back from the nopython compilation path to the object mode compilation path has been detected, this is deprecated behaviour.\n",
      "\n",
      "For more information visit http://numba.pydata.org/numba-doc/latest/reference/deprecation.html#deprecation-of-object-mode-fall-back-behaviour-when-using-jit\n",
      "\u001b[1m\n",
      "File \"<ipython-input-398-6f2975a0a135>\", line 20:\u001b[0m\n",
      "\u001b[1mdef EulerMaruyama(f, g, y0 , tspan,Stochastic=1 ):\n",
      "    <source elided>\n",
      "    \n",
      "\u001b[1m    for n in range(0, Ns-1):\n",
      "\u001b[0m    \u001b[1m^\u001b[0m\u001b[0m\n",
      "\u001b[0m\n",
      "  warnings.warn(errors.NumbaDeprecationWarning(msg,\n"
     ]
    },
    {
     "name": "stdout",
     "output_type": "stream",
     "text": [
      "1\n",
      "2\n",
      "3\n",
      "4\n",
      "5\n",
      "6\n",
      "7\n",
      "8\n",
      "9\n",
      "10\n",
      "11\n",
      "12\n",
      "13\n",
      "14\n",
      "15\n",
      "16\n",
      "17\n",
      "18\n",
      "19\n",
      "20\n",
      "21\n",
      "22\n",
      "23\n",
      "24\n",
      "25\n",
      "26\n",
      "27\n",
      "28\n",
      "29\n",
      "30\n",
      "31\n",
      "32\n",
      "33\n",
      "34\n",
      "35\n",
      "36\n",
      "37\n",
      "38\n",
      "39\n",
      "40\n",
      "41\n",
      "42\n",
      "43\n",
      "44\n",
      "45\n",
      "46\n",
      "47\n",
      "48\n",
      "49\n",
      "50\n",
      "51\n",
      "52\n",
      "53\n",
      "54\n",
      "55\n",
      "56\n",
      "57\n",
      "58\n",
      "59\n",
      "60\n",
      "61\n",
      "62\n",
      "63\n",
      "64\n",
      "65\n",
      "66\n",
      "67\n",
      "68\n",
      "69\n",
      "70\n",
      "71\n",
      "72\n",
      "73\n",
      "74\n",
      "75\n",
      "76\n",
      "77\n",
      "78\n",
      "79\n",
      "80\n",
      "81\n",
      "82\n",
      "83\n",
      "84\n",
      "85\n",
      "86\n",
      "87\n",
      "88\n",
      "89\n",
      "90\n",
      "91\n",
      "92\n",
      "93\n",
      "94\n",
      "95\n"
     ]
    },
    {
     "name": "stderr",
     "output_type": "stream",
     "text": [
      "<ipython-input-401-7372f53cc9ff>:13: RuntimeWarning: overflow encountered in matmul\n",
      "  Trayec=EulerMaruyama(f,g,init_state(),tspan)\n"
     ]
    },
    {
     "name": "stdout",
     "output_type": "stream",
     "text": [
      "96\n",
      "97\n",
      "98\n",
      "99\n"
     ]
    }
   ],
   "source": [
    "import time\n",
    "#t0=time.time()\n",
    "\n",
    "itera=100\n",
    "Result_varTWA_Col_SDE = averages_sde(itera=itera,N_atom=N_atom,tspan=tspan,Stochastic=1)\n",
    "#Result_varTWA_Col_TWA = averages_sde(itera=itera,N=N)\n",
    "\n",
    "#t1=time.time()\n",
    "\n",
    "#print(t1-t0)"
   ]
  },
  {
   "cell_type": "code",
   "execution_count": null,
   "metadata": {},
   "outputs": [],
   "source": []
  },
  {
   "cell_type": "code",
   "execution_count": null,
   "metadata": {},
   "outputs": [],
   "source": []
  },
  {
   "cell_type": "code",
   "execution_count": null,
   "metadata": {},
   "outputs": [],
   "source": []
  },
  {
   "cell_type": "code",
   "execution_count": null,
   "metadata": {},
   "outputs": [],
   "source": []
  },
  {
   "cell_type": "code",
   "execution_count": 409,
   "metadata": {},
   "outputs": [
    {
     "data": {
      "text/plain": [
       "array([ 0.14      , -0.06      , -1.        , -0.02520148, -0.0128408 ,\n",
       "       -1.        , -0.00290642, -0.07205242, -1.        ,  0.04259816,\n",
       "       -0.0926574 , -1.        ,  0.02424124, -0.13932832, -1.        ,\n",
       "        0.2       ,  0.        , -1.        , -0.0076207 ,  0.17071014,\n",
       "       -1.        ,  0.0221232 , -0.1396802 , -1.        ,  0.05587208,\n",
       "       -0.00884928, -1.        , -0.01950126, -0.0694241 , -1.        ])"
      ]
     },
     "execution_count": 409,
     "metadata": {},
     "output_type": "execute_result"
    }
   ],
   "source": [
    "Result_Or=(TransR_m@(Result_varTWA_Col_SDE[0].T)).T\n",
    "\n",
    "\n",
    "Result_Or[0]"
   ]
  },
  {
   "cell_type": "code",
   "execution_count": 410,
   "metadata": {},
   "outputs": [
    {
     "name": "stderr",
     "output_type": "stream",
     "text": [
      "C:\\Users\\camil\\anaconda3\\lib\\site-packages\\numpy\\core\\fromnumeric.py:86: RuntimeWarning: invalid value encountered in reduce\n",
      "  return ufunc.reduce(obj, axis, dtype, out, **passkwargs)\n"
     ]
    }
   ],
   "source": [
    "Sx=[]\n",
    "Sy=[]\n",
    "Sz=[]\n",
    "\n",
    "for j in range(Result_Or.shape[0]):\n",
    "    \n",
    "    Sxyz=get_s_alpha(Result_Or[j])\n",
    "    \n",
    "    Sx.append(sum(Sxyz[0])/2)\n",
    "    Sy.append(sum(Sxyz[1])/2)\n",
    "    Sz.append(sum(Sxyz[2])/2)\n"
   ]
  },
  {
   "cell_type": "code",
   "execution_count": null,
   "metadata": {},
   "outputs": [
    {
     "data": {
      "text/plain": [
       "<matplotlib.legend.Legend at 0x1f04b4eb760>"
      ]
     },
     "execution_count": 429,
     "metadata": {},
     "output_type": "execute_result"
    }
   ],
   "source": [
    "plt.title(\"Single Particle Operator Dynamics $(\\Delta r=0.3\\lambda,N_{\\\\rm{atom}}=10)$\",fontsize=30)\n",
    "\n",
    "\n",
    "\n",
    "plt.plot(tspan[:5000],array(Sx[:5000])/N_atom,label=\"$\\\\left<\\hat{S}_x\\\\right>/N_{\\\\rm{atom}}$ DissTWA\")\n",
    "plt.plot(tspan[:5000],array(Sy[:5000])/N_atom,label=\"$\\\\left<\\hat{S}_y\\\\right>/N_{\\\\rm{atom}}$ DissTWA\")\n",
    "plt.plot(tspan[:5000],array(Sz[:5000])/N_atom,label=\"$\\\\left<\\hat{S}_z\\\\right>/N_{\\\\rm{atom}}$ DissTWA\")\n",
    "\n",
    "\n",
    "\n",
    "fontsize=25\n",
    "\n",
    "plt.plot(tspan[:5000],np.array(SxMF[:5000])/N_atom,\"--\",label=\"$\\\\left<\\hat{S}_x\\\\right>/N_{\\\\rm{atom}}$ Mean-Field\")\n",
    "plt.plot(tspan[:5000],np.array(SyMF[:5000])/N_atom,\"--\",label=\"$\\\\left<\\hat{S}_y\\\\right>/N_{\\\\rm{atom}}$ Mean-Field\")\n",
    "plt.plot(tspan[:5000],np.array(SzMF[:5000])/N_atom,\"--\",label=\"$\\\\left<\\hat{S}_z\\\\right>/N_{\\\\rm{atom}}$ Mean-Field\")\n",
    "\n",
    "plt.ylabel(\"$\\\\left<\\hat{S}_{\\\\alpha}\\\\right>/N_{\\\\rm{atom}}$\",fontsize=fontsize)\n",
    "plt.xlabel(\"$\\Gamma t$\",fontsize=fontsize)\n",
    "\n",
    "\n",
    "plt.legend(fontsize=fontsize-5)\n",
    "\n",
    "plt.legend()"
   ]
  },
  {
   "cell_type": "code",
   "execution_count": null,
   "metadata": {},
   "outputs": [],
   "source": [
    "\n"
   ]
  },
  {
   "cell_type": "code",
   "execution_count": null,
   "metadata": {},
   "outputs": [],
   "source": []
  },
  {
   "cell_type": "code",
   "execution_count": null,
   "metadata": {},
   "outputs": [],
   "source": []
  },
  {
   "cell_type": "code",
   "execution_count": null,
   "metadata": {},
   "outputs": [],
   "source": [
    "MF_result=(TransR_m@(EulerMaruyama(f, g, list(b_fun()) , tspan,Stochastic=0 )[0].T)).T\n",
    "\n",
    "SxMF=[]\n",
    "SyMF=[]\n",
    "SzMF=[]\n",
    "\n",
    "for j in range(MF_result.shape[0]):\n",
    "    \n",
    "    Sxyz=get_s_alpha(MF_result[j])\n",
    "    \n",
    "    SxMF.append(sum(Sxyz[0])/2)\n",
    "    SyMF.append(sum(Sxyz[1])/2)\n",
    "    SzMF.append(sum(Sxyz[2])/2)\n"
   ]
  },
  {
   "cell_type": "code",
   "execution_count": null,
   "metadata": {},
   "outputs": [],
   "source": [
    "plt.title(\"Single Particle Operator Dynamics\",fontsize=30)\n",
    "\n",
    "fontsize=25\n",
    "\n",
    "plt.plot(tspan,np.array(SxMF)/N_atom,label=\"$\\\\left<\\hat{S}_x\\\\right>/N_{\\\\rm{atom}}$ Mean-Field\")\n",
    "plt.plot(tspan,np.array(SyMF)/N_atom,label=\"$\\\\left<\\hat{S}_y\\\\right>/N_{\\\\rm{atom}}$ Mean-Field\")\n",
    "plt.plot(tspan,np.array(SzMF)/N_atom,label=\"$\\\\left<\\hat{S}_z\\\\right>/N_{\\\\rm{atom}}$ Mean-Field\")\n",
    "\n",
    "plt.ylabel(\"$\\\\left<\\hat{S}_{\\\\alpha}\\\\right>/N_{\\\\rm{atom}}$\",fontsize=fontsize)\n",
    "plt.xlabel(\"$\\Gamma t$\",fontsize=fontsize)\n",
    "\n",
    "\n",
    "plt.legend(fontsize=fontsize-5)"
   ]
  },
  {
   "cell_type": "code",
   "execution_count": null,
   "metadata": {},
   "outputs": [],
   "source": []
  },
  {
   "cell_type": "code",
   "execution_count": null,
   "metadata": {},
   "outputs": [],
   "source": []
  },
  {
   "cell_type": "code",
   "execution_count": null,
   "metadata": {},
   "outputs": [],
   "source": []
  },
  {
   "cell_type": "code",
   "execution_count": null,
   "metadata": {},
   "outputs": [],
   "source": []
  },
  {
   "cell_type": "code",
   "execution_count": null,
   "metadata": {},
   "outputs": [],
   "source": []
  },
  {
   "cell_type": "code",
   "execution_count": null,
   "metadata": {},
   "outputs": [],
   "source": []
  },
  {
   "cell_type": "code",
   "execution_count": null,
   "metadata": {},
   "outputs": [],
   "source": []
  },
  {
   "cell_type": "code",
   "execution_count": null,
   "metadata": {},
   "outputs": [],
   "source": [
    "plt.plot(tspan,Sx,label=\"$<S_x> DissDTWA$\")\n",
    "plt.plot(tspan,Sy,label=\"$<S_y> DissDTWA$\")\n",
    "plt.plot(tspan,Sz,label=\"$<S_z> DissDTWA$\")\n",
    "plt.plot(tspan,SxMF,label=\"$<S_x> MF$\")\n",
    "plt.plot(tspan,SyMF,label=\"$<S_y> MF$\")\n",
    "plt.plot(tspan,SzMF,label=\"$<S_z> MF$\")\n",
    "\n",
    "plt.legend()"
   ]
  },
  {
   "cell_type": "code",
   "execution_count": null,
   "metadata": {},
   "outputs": [],
   "source": []
  },
  {
   "cell_type": "code",
   "execution_count": null,
   "metadata": {},
   "outputs": [],
   "source": []
  }
 ],
 "metadata": {
  "kernelspec": {
   "display_name": "Python 3",
   "language": "python",
   "name": "python3"
  },
  "language_info": {
   "codemirror_mode": {
    "name": "ipython",
    "version": 3
   },
   "file_extension": ".py",
   "mimetype": "text/x-python",
   "name": "python",
   "nbconvert_exporter": "python",
   "pygments_lexer": "ipython3",
   "version": "3.8.3"
  }
 },
 "nbformat": 4,
 "nbformat_minor": 4
}
