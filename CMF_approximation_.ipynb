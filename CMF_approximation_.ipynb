{
 "cells": [
  {
   "cell_type": "code",
   "execution_count": 1214,
   "metadata": {},
   "outputs": [],
   "source": [
    "import numpy as np\n",
    "import matplotlib\n",
    "import time\n",
    "#from termcolor import colored\n",
    "from scipy.integrate import solve_ivp\n",
    "from scipy.linalg import norm\n",
    "from numpy import pi as pi\n",
    "import scipy\n",
    "from scipy import sparse\n",
    "import scipy.sparse as sp\n",
    "from scipy.sparse import csr_matrix\n",
    "from numpy.random import choice, normal\n",
    "from numpy import concatenate\n",
    "from scipy.sparse import coo_matrix\n",
    "from scipy.sparse import kron\n",
    "import pandas as pd\n",
    "from mpl_toolkits import mplot3d\n",
    "from numba import jit\n",
    "from scipy.linalg import expm\n",
    "import numbers\n",
    "from numpy import imag, conj, cos, sin\n",
    "from numpy import sqrt, zeros, diag, random, real, array, complex_, transpose, conjugate, exp, matmul, real, dot, add, sum\n",
    "import pandas as pd\n",
    "\n",
    "\n",
    "\n",
    "df=pd.read_csv('Atom_positions__MACE_2_level_2000_atoms_Lax_10_3D_gas_fixed_size_k_along_x_eL_along_z_rabi_0,1.txt') \n",
    "\n",
    "\n",
    "t0=time.time()\n",
    "\n",
    "\n",
    "Gamma_r=1    #  2*pi*6e6  #reference\n",
    "Omega=2*Gamma_r   #Gamma_r  #Driving frequency , What are the units?\n",
    "\n",
    "N_atom=200      #Number of atoms\n",
    "lambda_r  =1    # in units\n",
    "Lambda_las=1     # in units    Gamma_r*2*pi/(wL/c_light)   #Laser wavelenght  , What are the units?\n",
    "e_L=array([0,0,1]/sqrt(1))\n",
    "\n",
    "Theta1=pi/2\n",
    "Theta2=pi/2   #they got [0,1,0]\n",
    "\n",
    "e_0=array([0,0,1]/sqrt(1))   #array([sin(Theta1)*cos(Theta2),sin(Theta1)*sin(Theta2),cos(Theta1)])\n",
    "\n",
    "K_laser=(2*pi/Lambda_las)*array([1,0,0])\n",
    "k0=2*pi/Lambda_las\n",
    "Gamma_dec=Gamma_r\n",
    "\n",
    "# Clebsch-Gordan coefficient\n",
    "\n",
    "# Clebsch-Gordan coefficient\n",
    "C00=1    \n",
    "\n",
    "# Positions\n",
    "\n",
    "\n",
    "## Oblate Variances matrix: Set the shape of the atoms cloud\n",
    "\n",
    "Sigma_x=20 *lambda_r/2    \n",
    "Sigma_y=0.2*lambda_r/2 \n",
    "Sigma_z=Sigma_y     /2\n",
    "\n",
    "\n",
    "Oblate_variances=zeros((3,3))\n",
    "\n",
    "Oblate_variances[0][0]=Sigma_x**2\n",
    "Oblate_variances[1][1]=Sigma_y**2\n",
    "Oblate_variances[2][2]=Sigma_z**2\n",
    "\n",
    "Miu_pos=[0 , 0, 0]\n",
    "\n",
    "Pos_atoms=(random.multivariate_normal(Miu_pos, Oblate_variances, N_atom))\n",
    "\n",
    "\n",
    "Pos_atoms=Pos_atoms[Pos_atoms[:,0].argsort()]\n",
    "\n",
    "\n",
    "for j in range(N_atom):\n",
    "    Pos_atoms[j]=np.array([0.1*Lambda_las*j,0,0])\n",
    "  \n",
    "# 2*np.pi\n",
    "\n",
    "#Pos_atoms\n",
    "#Pos_atoms    \n",
    "\n",
    "\n",
    "\n",
    "# Construct $I_{Lk}$ and $R_{Lk}$\n",
    "#Pos_atoms=array(df)\n",
    "\n",
    "\n",
    "# Construct I_Lk and R_Lk\n",
    "\n",
    "eL_e0c=dot(e_L,conj(e_0))\n",
    "\n",
    "conj_0=conj(e_0)\n",
    "\n",
    "DotKL_rk=[]   #summarize k_L.r_k for all k\n",
    "\n",
    "for j in range(N_atom):\n",
    "    DotKL_rk.append(dot(Pos_atoms[j],K_laser))\n",
    "\n",
    "DotKL_rk_exp=exp(1j*array(DotKL_rk))\n",
    "\n",
    "\n",
    "ZL_k= DotKL_rk_exp*eL_e0c\n",
    "\n",
    "\n",
    "ImL_k=imag(ZL_k)\n",
    "RmL_k=real(ZL_k)\n",
    "\n",
    "\n",
    "# Construct $G_{ij}$\n",
    "\n",
    "# Construct the matrix R00\n",
    "#t0=time.time()\n",
    "\n",
    "@jit\n",
    "def fun_Pkl0(k,l,k0=k0):\n",
    "    \n",
    "    VecR_kl=Pos_atoms[k]-Pos_atoms[l]\n",
    "    R_kl=sqrt(dot(VecR_kl,VecR_kl))\n",
    "    #R_kl=norm(VecR_kl)\n",
    "    \n",
    "    \n",
    "    #Pkl0=dot(conj(e_0),VecR_kl)\n",
    "    Pkl0=dot(conj_0,VecR_kl)/R_kl\n",
    "    Pkl_0nC=(abs(Pkl0))**2\n",
    "    \n",
    "    M0kl=k0*R_kl\n",
    "    \n",
    "    return (1-Pkl_0nC)/M0kl+(1-3*Pkl_0nC)*(1j/(M0kl)**2-1/(M0kl)**3)\n",
    "    \n",
    "\n",
    "\n",
    "MatL=zeros((N_atom,N_atom),dtype='complex64')\n",
    "MatR=zeros((N_atom,N_atom),dtype='complex64')\n",
    "\n",
    "\n",
    "for i in range(N_atom):\n",
    "    for j in range(i+1,N_atom):\n",
    "\n",
    "        VecR_ij=Pos_atoms[i] -Pos_atoms[j]\n",
    "\n",
    "        MatL[i][j]=exp(1j*k0*sqrt(dot(VecR_ij,VecR_ij)))\n",
    "        MatR[i][j]=fun_Pkl0(i,j,k0)\n",
    "\n",
    "                \n",
    "MatR=MatR+MatR.T\n",
    "MatL=MatL+(MatL.T)\n",
    "\n",
    "\n",
    "Gij=(3*Gamma_dec/4)*MatL*MatR\n",
    "\n",
    "\n",
    "#t1=time.time()\n",
    "\n",
    "Gij=Gij + 1j*0.5*Gamma_r*np.identity(N_atom) \n",
    "\n",
    "Abs_Gij=abs(Gij)\n",
    "\n",
    "ReG=real(Gij)\n",
    "ImG=imag(Gij)\n",
    "\n",
    "#tspan=np.linspace(0,7,250)\n",
    "Collect    =0\n",
    "\n",
    "\n",
    "\n",
    "#t0=time.time()"
   ]
  },
  {
   "cell_type": "code",
   "execution_count": 1215,
   "metadata": {},
   "outputs": [],
   "source": [
    "from numpy import dot\n"
   ]
  },
  {
   "cell_type": "code",
   "execution_count": null,
   "metadata": {},
   "outputs": [],
   "source": []
  },
  {
   "cell_type": "code",
   "execution_count": 1216,
   "metadata": {},
   "outputs": [],
   "source": [
    "Atom_cutoff=2"
   ]
  },
  {
   "cell_type": "code",
   "execution_count": 1217,
   "metadata": {},
   "outputs": [
    {
     "data": {
      "text/plain": [
       "200"
      ]
     },
     "execution_count": 1217,
     "metadata": {},
     "output_type": "execute_result"
    }
   ],
   "source": [
    "N_atom"
   ]
  },
  {
   "cell_type": "code",
   "execution_count": 1218,
   "metadata": {},
   "outputs": [],
   "source": [
    "Sigma_eg=csr_matrix(np.array([[0,1],\n",
    "                              [0,0]]),dtype=\"complex64\")\n",
    "Id_2LS  =csr_matrix(np.array([[1,0],\n",
    "                              [0,1]]),dtype=\"complex64\")\n",
    "\n",
    "Zero_2LS=csr_matrix(np.array([[0,0],\n",
    "                              [0,0]]),dtype=\"complex64\")\n",
    "\n",
    "state   =csr_matrix(np.array([[0,0],\n",
    "                              [0,1]]),dtype=\"complex64\")\n",
    "\n",
    "\n",
    "Sigma_ee=csr_matrix(np.array([[1,0],\n",
    "                              [0,0]]),dtype=\"complex64\")\n",
    "\n",
    "Sigma_egT=Sigma_eg.T    \n"
   ]
  },
  {
   "cell_type": "code",
   "execution_count": null,
   "metadata": {},
   "outputs": [],
   "source": []
  },
  {
   "cell_type": "code",
   "execution_count": 1219,
   "metadata": {},
   "outputs": [],
   "source": [
    "def index_Gij(arr,Atom_cutoff):\n",
    "    \n",
    "    Ordered_N = list(np.argsort(arr)[::-1][:Atom_cutoff])\n",
    "    \n",
    "    return Ordered_N"
   ]
  },
  {
   "cell_type": "code",
   "execution_count": 1220,
   "metadata": {},
   "outputs": [],
   "source": [
    "Index_N=[]\n",
    "\n",
    "Rem_iden=abs(Gij - 1j*0.5*Gamma_r*np.identity(N_atom))\n",
    "\n",
    "\n",
    "for j in range(Rem_iden.shape[0]):\n",
    "    \n",
    "    test_list = list(Rem_iden[j])\n",
    "    \n",
    "    Index_N.append( [j]+list(index_Gij(test_list,Atom_cutoff-1))  )"
   ]
  },
  {
   "cell_type": "code",
   "execution_count": 1221,
   "metadata": {},
   "outputs": [],
   "source": [
    "from scipy.sparse import bsr_matrix"
   ]
  },
  {
   "cell_type": "code",
   "execution_count": 1222,
   "metadata": {},
   "outputs": [],
   "source": [
    "#@jit\n",
    "def tensor_id(ArrayL ):\n",
    "    \n",
    "    Tensor_id=kron(ArrayL[0],ArrayL[1])\n",
    "    \n",
    "    Array_id=Atom_cutoff*[Id_2LS]    \n",
    "    \n",
    "    for j in range(2,len(ArrayL)):\n",
    "        \n",
    "        Tensor_id=kron(Tensor_id,Array_id[j])\n",
    "        \n",
    "    \n",
    "    Ten_s=csr_matrix(Tensor_id)\n",
    "    \n",
    "    csr_matrix.eliminate_zeros(Ten_s)  #remove zeros!!!\n",
    "    \n",
    "    return coo_matrix(Ten_s)"
   ]
  },
  {
   "cell_type": "code",
   "execution_count": null,
   "metadata": {},
   "outputs": [],
   "source": []
  },
  {
   "cell_type": "code",
   "execution_count": 1223,
   "metadata": {},
   "outputs": [
    {
     "data": {
      "text/plain": [
       "<4x4 sparse matrix of type '<class 'numpy.complex64'>'\n",
       "\twith 4 stored elements in COOrdinate format>"
      ]
     },
     "execution_count": 1223,
     "metadata": {},
     "output_type": "execute_result"
    }
   ],
   "source": [
    "Ar=tensor_id(Atom_cutoff*[ Id_2LS ])\n",
    "\n",
    "Ar"
   ]
  },
  {
   "cell_type": "code",
   "execution_count": null,
   "metadata": {},
   "outputs": [],
   "source": []
  },
  {
   "cell_type": "code",
   "execution_count": null,
   "metadata": {},
   "outputs": [],
   "source": []
  },
  {
   "cell_type": "code",
   "execution_count": 1224,
   "metadata": {},
   "outputs": [],
   "source": [
    "#@jit\n",
    "def tensor_kj( k , j):   #tensor among k,j are Positions in the cluster after the G classification\n",
    "                         #k is +sigma and j is -sigma \n",
    "    Array_id=Atom_cutoff*[Id_2LS]  \n",
    "    \n",
    "    Array_id[k]=Sigma_eg\n",
    "    Array_id[j]=Sigma_egT\n",
    "    \n",
    "    Tensor_kj=kron(Array_id[0],Array_id[1])\n",
    "    \n",
    "    for j in range(2,len(Array_id)):\n",
    "        \n",
    "        Tensor_kj=kron(Tensor_kj,Array_id[j])\n",
    "        \n",
    "        csr_matrix.eliminate_zeros(csr_matrix(Tensor_kj))\n",
    "        \n",
    "        \n",
    "            \n",
    "    Ten_kj=csr_matrix( Tensor_kj ) \n",
    "        \n",
    "    csr_matrix.eliminate_zeros(Ten_kj)\n",
    "        \n",
    "        \n",
    "    \n",
    "    return coo_matrix(Ten_kj)"
   ]
  },
  {
   "cell_type": "code",
   "execution_count": null,
   "metadata": {},
   "outputs": [],
   "source": []
  },
  {
   "cell_type": "code",
   "execution_count": 1225,
   "metadata": {},
   "outputs": [],
   "source": [
    "#@jit\n",
    "def tensor_k_ee( k  ):  #Excited state k is a Position in the cluster after the G classification\n",
    "    \n",
    "    Array_id=Atom_cutoff*[Id_2LS]  \n",
    "    \n",
    "    Array_id[k]=Sigma_ee\n",
    "    \n",
    "    Tensor_k    =kron(Array_id[0],Array_id[1])\n",
    "    \n",
    "    for j in range(2,len(Array_id)):\n",
    "        \n",
    "        Tensor_k=kron(Tensor_k,Array_id[j])\n",
    "        \n",
    "    \n",
    "    \n",
    "    Tensor_k=csr_matrix( Tensor_k ) \n",
    "    \n",
    "    csr_matrix.eliminate_zeros(Tensor_k)\n",
    "        \n",
    "    \n",
    "    return coo_matrix(Tensor_k)"
   ]
  },
  {
   "cell_type": "code",
   "execution_count": null,
   "metadata": {},
   "outputs": [],
   "source": []
  },
  {
   "cell_type": "code",
   "execution_count": 1226,
   "metadata": {},
   "outputs": [],
   "source": [
    "#@jit\n",
    "def tensor_k( k  ):  #sigmaplus k\n",
    "    \n",
    "    Array_id=Atom_cutoff*[Id_2LS]  \n",
    "    \n",
    "    Array_id[k]=Sigma_eg\n",
    "    \n",
    "    Tensor_k    =kron(Array_id[0],Array_id[1])\n",
    "    \n",
    "    for j in range(2,len(Array_id)):\n",
    "        \n",
    "        Tensor_k=kron(Tensor_k,Array_id[j])\n",
    "        \n",
    "    \n",
    "    Tensor_k=csr_matrix( Tensor_k ) \n",
    "    \n",
    "    csr_matrix.eliminate_zeros(Tensor_k)\n",
    "        \n",
    "    \n",
    "    return coo_matrix(Tensor_k)"
   ]
  },
  {
   "cell_type": "code",
   "execution_count": null,
   "metadata": {},
   "outputs": [],
   "source": []
  },
  {
   "cell_type": "code",
   "execution_count": 1227,
   "metadata": {},
   "outputs": [],
   "source": [
    "#@jit\n",
    "def init_rho(Atom_cutoff=Atom_cutoff,state=state):\n",
    "    \n",
    "    state_fact=Atom_cutoff*[state]\n",
    "    \n",
    "    Rho_in=kron(state_fact[0],state_fact[1])\n",
    "    \n",
    "    for j in range(2,Atom_cutoff):\n",
    "        \n",
    "        Rho_in=kron(Rho_in,state_fact[j])\n",
    "        \n",
    "        \n",
    "    Rho_in=csr_matrix( Rho_in ) \n",
    "    \n",
    "    csr_matrix.eliminate_zeros(Rho_in)\n",
    "    \n",
    "    \n",
    "        \n",
    "    return coo_matrix(Rho_in)"
   ]
  },
  {
   "cell_type": "code",
   "execution_count": null,
   "metadata": {},
   "outputs": [],
   "source": []
  },
  {
   "cell_type": "code",
   "execution_count": 1228,
   "metadata": {},
   "outputs": [],
   "source": [
    "#@jit\n",
    "def Hamil_atom(index_center):\n",
    "    \n",
    "    Index_list=Index_N[index_center]\n",
    "    Zero_gen=tensor_id(Atom_cutoff*[ Zero_2LS ])\n",
    "    Z2=Zero_gen\n",
    "    \n",
    "    for k in range(Atom_cutoff):\n",
    "        \n",
    "        IL_k = Index_list[k]\n",
    "        \n",
    "        #print(IL_k)\n",
    "        \n",
    "        zL_k = ZL_k[IL_k]\n",
    "        Ten_k= tensor_k(k)\n",
    "        \n",
    "        Z2   = Z2 -(Omega)*(zL_k*Ten_k  +conj(zL_k)*(Ten_k.T) )\n",
    "        \n",
    "    return Z2"
   ]
  },
  {
   "cell_type": "code",
   "execution_count": 1229,
   "metadata": {},
   "outputs": [],
   "source": [
    "Sigma_EGalt=(tensor_k(0)).reshape(1,4**Atom_cutoff)\n",
    "Sigma_EEalt=(tensor_k_ee(0)).reshape(1,4**Atom_cutoff)\n",
    "\n",
    "Sigma_Min_alt=(tensor_k(0).T).reshape(1,4**Atom_cutoff)"
   ]
  },
  {
   "cell_type": "code",
   "execution_count": null,
   "metadata": {},
   "outputs": [],
   "source": []
  },
  {
   "cell_type": "code",
   "execution_count": 1230,
   "metadata": {},
   "outputs": [],
   "source": [
    "Ivec=[4**Atom_cutoff-1]\n",
    "\n",
    "Jvec=[0]\n",
    "Vvec=[1]\n",
    "\n",
    "\n",
    "Init_rho=(sparse.coo_matrix((Vvec,(Ivec,Jvec)),shape=(4**Atom_cutoff,1))) \n",
    "\n",
    "\n",
    "    #@jit\n",
    "def f(t, yR,M_vect,b):\n",
    " \n",
    "    MatA=M_vect@yR\n",
    "    return MatA"
   ]
  },
  {
   "cell_type": "code",
   "execution_count": null,
   "metadata": {},
   "outputs": [],
   "source": []
  },
  {
   "cell_type": "code",
   "execution_count": 1231,
   "metadata": {},
   "outputs": [],
   "source": [
    "def Hamil_effec(i_index, Expect_minus):   #this is just for the site labelled by index_center\n",
    "    \n",
    "    Vect_Gi=Gij[i_index]\n",
    "    \n",
    "    All_Ind_effective_drive=dot(Vect_Gi,Expect_minus.todense())[0,0]\n",
    "    \n",
    "    return All_Ind_effective_drive"
   ]
  },
  {
   "cell_type": "code",
   "execution_count": 1232,
   "metadata": {},
   "outputs": [],
   "source": [
    "#Hamil_effec(0, Sigma_m_rev[:,0])"
   ]
  },
  {
   "cell_type": "code",
   "execution_count": null,
   "metadata": {},
   "outputs": [],
   "source": []
  },
  {
   "cell_type": "code",
   "execution_count": 1233,
   "metadata": {},
   "outputs": [],
   "source": [
    "\n",
    "def GdotMinus(Expect_minus):\n",
    "    \n",
    "    GdotMin_t= sparse.lil_matrix((N_atom, 1),dtype=\"complex64\")\n",
    "    \n",
    "    for j in range(N_atom):\n",
    "        \n",
    "        GdotMin_t[j,0]=Hamil_effec(j, Expect_minus)\n",
    "        \n",
    "        \n",
    "    return GdotMin_t\n",
    "    "
   ]
  },
  {
   "cell_type": "code",
   "execution_count": null,
   "metadata": {},
   "outputs": [],
   "source": []
  },
  {
   "cell_type": "markdown",
   "metadata": {},
   "source": [
    "# Initial density matrix"
   ]
  },
  {
   "cell_type": "code",
   "execution_count": 1253,
   "metadata": {},
   "outputs": [],
   "source": [
    "\n",
    "Rho_t= sparse.lil_matrix((4**Atom_cutoff, N_atom),dtype=\"complex64\")   #saves the density matrices for a given time t\n",
    "for j in range(N_atom):\n",
    "    Rho_t[:,j]=Init_rho\n",
    "\n",
    "\n",
    "        \n",
    "tfinal=5\n",
    "Lenght=100\n",
    "tspan=np.linspace(0,tfinal,Lenght)    #Here the time definition is important because it will tell you how to divide the elements\n",
    "\n",
    "\n",
    "\n",
    "Sigma_m_rev= sparse.lil_matrix((N_atom, len(tspan)),dtype=\"complex64\")\n",
    "Sigma_ee_rev= sparse.lil_matrix((N_atom, len(tspan)),dtype=\"complex64\")\n",
    "\n",
    "\n",
    "\n",
    "for j in range(N_atom):\n",
    "    \n",
    "    Sigma_m_rev[j,0] =Sigma_Min_alt.dot( Rho_t[:,j])[0,0]\n",
    "    Sigma_ee_rev[j,0]=Sigma_EEalt.dot( Rho_t[:,j])[0,0]\n",
    "    "
   ]
  },
  {
   "cell_type": "code",
   "execution_count": 1254,
   "metadata": {},
   "outputs": [],
   "source": [
    "#Sigma_m_rev[:,0][1,0]"
   ]
  },
  {
   "cell_type": "code",
   "execution_count": null,
   "metadata": {},
   "outputs": [],
   "source": []
  },
  {
   "cell_type": "code",
   "execution_count": 1255,
   "metadata": {},
   "outputs": [],
   "source": [
    "\n",
    "def hamil_clust(index_center,ind_ref,Expect_minus):\n",
    "    \n",
    "    \n",
    "    Index_list=Index_N[index_center]\n",
    "    \n",
    "    ind_ref=Index_list[ind_ref]\n",
    "    \n",
    "    Driv_clust=0\n",
    "    \n",
    "    for ind_list in Index_list:\n",
    "        \n",
    "        Driv_clust=Driv_clust+Gij[ind_ref, ind_list ]*Expect_minus[ind_list , 0 ]\n",
    "    \n",
    "    return Driv_clust\n",
    "        "
   ]
  },
  {
   "cell_type": "code",
   "execution_count": null,
   "metadata": {},
   "outputs": [],
   "source": []
  },
  {
   "cell_type": "code",
   "execution_count": 1256,
   "metadata": {},
   "outputs": [],
   "source": [
    "#Gmin[Index_list[j],0] "
   ]
  },
  {
   "cell_type": "code",
   "execution_count": null,
   "metadata": {},
   "outputs": [],
   "source": []
  },
  {
   "cell_type": "code",
   "execution_count": 1257,
   "metadata": {},
   "outputs": [],
   "source": [
    "def Effec_Hamil( index_center ,tind_):\n",
    "    \n",
    "    Expect_minus=Sigma_m_rev[:,tind_]\n",
    "    \n",
    "    Index_list=Index_N[index_center]\n",
    "    \n",
    "    Gmin=GdotMinus(Sigma_m_rev[:,tind_])\n",
    "    \n",
    "    H_effect = 0*tensor_k(0)\n",
    "    \n",
    "    for k in range(Atom_cutoff):\n",
    "        H_effect = H_effect -(Gmin[Index_list[k],0]  -  hamil_clust(index_center , k  ,Expect_minus)  ) * tensor_k(k)\n",
    "    \n",
    "    return (H_effect+conj(H_effect.T))"
   ]
  },
  {
   "cell_type": "code",
   "execution_count": null,
   "metadata": {},
   "outputs": [],
   "source": []
  },
  {
   "cell_type": "code",
   "execution_count": null,
   "metadata": {},
   "outputs": [],
   "source": []
  },
  {
   "cell_type": "code",
   "execution_count": 1258,
   "metadata": {},
   "outputs": [],
   "source": [
    "def Part_H_L_R_LR(index_center):\n",
    "    \n",
    "    Array_id=Atom_cutoff*[Id_2LS] \n",
    "    Index_list=Index_N[index_center]\n",
    "    Zero_gen=tensor_id(Atom_cutoff*[ Zero_2LS ])\n",
    "    \n",
    "    Z1=Zero_gen\n",
    "    Z2=Zero_gen\n",
    "    Z3=kron(Zero_gen,Zero_gen)\n",
    "    \n",
    "    \n",
    "    Col_Decay=kron(Zero_gen,Zero_gen)\n",
    "    \n",
    "    Identity=tensor_id( Atom_cutoff*[Id_2LS])\n",
    "    \n",
    "    Col=Collect\n",
    "    \n",
    "    D_R = Zero_gen\n",
    "    D_L = Zero_gen\n",
    "    D_RL= kron(Zero_gen,Zero_gen)\n",
    "\n",
    "    Hamil=Zero_gen\n",
    "    \n",
    "    Splus=Zero_gen\n",
    "    \n",
    "    \n",
    "    Hamil_at=Hamil_atom(index_center)   \n",
    "    Hamil_vect= -1j *(kron(Identity,  Hamil_at )-kron(Hamil_at.T,Identity))\n",
    "    \n",
    "    for k in range(Atom_cutoff):\n",
    "        \n",
    "        IL_k = Index_list[k]\n",
    "\n",
    "        zL_k = ZL_k[IL_k]\n",
    "\n",
    "        Ten_k= tensor_k(k)\n",
    "        \n",
    "        Ten_k_ee=tensor_k_ee(k)\n",
    "        \n",
    "        \n",
    "        Splus=Splus+Ten_k\n",
    "        \n",
    "        Imkk=ImG[k,k]  \n",
    "        \n",
    "        \n",
    "            #Z2   = Z2+ 1j*(Omega)*(zL_k*Ten_k  +conj(zL_k)*(Ten_k.T) )\n",
    "        \n",
    "        \n",
    "        D_R   = D_R  - ( Imkk       )*Ten_k_ee\n",
    "        D_L   = D_L  - ( Imkk       )*Ten_k_ee\n",
    "        D_RL  = D_RL + ( 2 * Imkk    )*kron( Ten_k.T , Ten_k.T  )\n",
    "\n",
    "        for j in range(k+1,Atom_cutoff):\n",
    "            \n",
    "            IL_j  =Index_list[j]\n",
    "\n",
    "            Ten_kj= tensor_kj( k , j )\n",
    "            \n",
    "            ReGkj=ReG[IL_k,IL_j] \n",
    "            ImGkj=ImG[IL_k,IL_j]\n",
    "            ReGjk=ReGkj   \n",
    "            ImGjk=ImGkj\n",
    "            \n",
    "            \n",
    "            Z1=Z1+ (1j*ReGkj-ImGkj)*(Ten_kj+ Ten_kj.T  )\n",
    "            \n",
    "            Ten_j=tensor_k(j)\n",
    "            \n",
    "            \n",
    "            Tenk_Tenj=kron(Ten_k.T,Ten_j.T)\n",
    "\n",
    "            Tenj_Tenk=kron(Ten_j.T,Ten_k.T)\n",
    "            \n",
    "            \n",
    "            Z3=Z3+2*( ImGkj*Tenk_Tenj   +  ImGjk* Tenj_Tenk )\n",
    "\n",
    "            #print( tensor_kj( k , j ).todense(), ReG[IL_k,IL_j],(IL_k,IL_j)  )\n",
    "            \n",
    "            #print(k,j)\n",
    "\n",
    "\n",
    "\n",
    "            Hamil=Hamil+(1j*ReGkj)*(Ten_kj+ Ten_kj.T)\n",
    "\n",
    "    Hamil=Hamil+Hamil_at                 \n",
    "        \n",
    "    L_R = Z2+Z1\n",
    "    L_L =-(Z2.T)+conj(Z1.T) \n",
    "    L_RL=Z3\n",
    "    \n",
    "\n",
    "    #print(L_R.shape, L_L.shape, L_RL.shape)\n",
    "    \n",
    "    Vectorization=  ( kron(Identity,  L_R+D_R )+kron(L_L+D_L,Identity )+L_RL+D_RL ) #   + Col * Col_Decay  )\n",
    "\n",
    "    \n",
    "    return  Vectorization+Hamil_vect  #, Hamil #cl_sparse(Vectorization) #clean_sparse(Vectorization)\n"
   ]
  },
  {
   "cell_type": "code",
   "execution_count": null,
   "metadata": {},
   "outputs": [],
   "source": []
  },
  {
   "cell_type": "code",
   "execution_count": 1259,
   "metadata": {},
   "outputs": [],
   "source": [
    "def Part_time_dep(index_center,tind_):\n",
    "\n",
    "    Identity=tensor_id( Atom_cutoff*[Id_2LS])\n",
    "    \n",
    "    Hamil_at  =  Effec_Hamil( index_center ,tind_)  #Put zero to ignore mean-field \n",
    "    Hamil_vect= -1j *(kron(Identity,  Hamil_at )-kron(Hamil_at.T,Identity))\n",
    "        \n",
    "    return  Hamil_vect  #, Hamil #cl_sparse(Vectorization) #clean_sparse(Vectorization)\n"
   ]
  },
  {
   "cell_type": "code",
   "execution_count": null,
   "metadata": {},
   "outputs": [],
   "source": []
  },
  {
   "cell_type": "code",
   "execution_count": 1260,
   "metadata": {},
   "outputs": [
    {
     "name": "stdout",
     "output_type": "stream",
     "text": [
      "0\n",
      "1\n",
      "2\n",
      "3\n",
      "4\n",
      "5\n",
      "6\n",
      "7\n",
      "8\n",
      "9\n",
      "10\n",
      "11\n",
      "12\n",
      "13\n",
      "14\n",
      "15\n",
      "16\n",
      "17\n",
      "18\n",
      "19\n",
      "20\n",
      "21\n",
      "22\n",
      "23\n",
      "24\n",
      "25\n",
      "26\n",
      "27\n",
      "28\n",
      "29\n",
      "30\n",
      "31\n",
      "32\n",
      "33\n",
      "34\n",
      "35\n",
      "36\n",
      "37\n",
      "38\n",
      "39\n",
      "40\n",
      "41\n",
      "42\n",
      "43\n",
      "44\n",
      "45\n",
      "46\n",
      "47\n",
      "48\n",
      "49\n",
      "50\n",
      "51\n",
      "52\n",
      "53\n",
      "54\n",
      "55\n",
      "56\n",
      "57\n",
      "58\n",
      "59\n",
      "60\n",
      "61\n",
      "62\n",
      "63\n",
      "64\n",
      "65\n",
      "66\n",
      "67\n",
      "68\n",
      "69\n",
      "70\n",
      "71\n",
      "72\n",
      "73\n",
      "74\n",
      "75\n",
      "76\n",
      "77\n",
      "78\n",
      "79\n",
      "80\n",
      "81\n",
      "82\n",
      "83\n",
      "84\n",
      "85\n",
      "86\n",
      "87\n",
      "88\n",
      "89\n",
      "90\n",
      "91\n",
      "92\n",
      "93\n",
      "94\n",
      "95\n",
      "96\n",
      "97\n",
      "98\n",
      "99\n",
      "100\n",
      "101\n",
      "102\n",
      "103\n",
      "104\n",
      "105\n",
      "106\n",
      "107\n",
      "108\n",
      "109\n",
      "110\n",
      "111\n",
      "112\n",
      "113\n",
      "114\n",
      "115\n",
      "116\n",
      "117\n",
      "118\n",
      "119\n",
      "120\n",
      "121\n",
      "122\n",
      "123\n",
      "124\n",
      "125\n",
      "126\n",
      "127\n",
      "128\n",
      "129\n",
      "130\n",
      "131\n",
      "132\n",
      "133\n",
      "134\n",
      "135\n",
      "136\n",
      "137\n",
      "138\n",
      "139\n",
      "140\n",
      "141\n",
      "142\n",
      "143\n",
      "144\n",
      "145\n",
      "146\n",
      "147\n",
      "148\n",
      "149\n",
      "150\n",
      "151\n",
      "152\n",
      "153\n",
      "154\n",
      "155\n",
      "156\n",
      "157\n",
      "158\n",
      "159\n",
      "160\n",
      "161\n",
      "162\n",
      "163\n",
      "164\n",
      "165\n",
      "166\n",
      "167\n",
      "168\n",
      "169\n",
      "170\n",
      "171\n",
      "172\n",
      "173\n",
      "174\n",
      "175\n",
      "176\n",
      "177\n",
      "178\n",
      "179\n",
      "180\n",
      "181\n",
      "182\n",
      "183\n",
      "184\n",
      "185\n",
      "186\n",
      "187\n",
      "188\n",
      "189\n",
      "190\n",
      "191\n",
      "192\n",
      "193\n",
      "194\n",
      "195\n",
      "196\n",
      "197\n",
      "198\n",
      "199\n",
      "4.22157096862793\n"
     ]
    }
   ],
   "source": [
    "ty=time.time()\n",
    "\n",
    "\n",
    "Time_ind_hamil=[]   #Calculates all the time-independent Lindblandian vectorized\n",
    "\n",
    "for cent_ind in range(N_atom):\n",
    "    \n",
    "    Time_ind_hamil.append(Part_H_L_R_LR(cent_ind))\n",
    "    \n",
    "    print(cent_ind)\n",
    "    \n",
    "    \n",
    "tv=time.time()\n",
    "\n",
    "print(tv-ty)"
   ]
  },
  {
   "cell_type": "code",
   "execution_count": null,
   "metadata": {},
   "outputs": [],
   "source": []
  },
  {
   "cell_type": "code",
   "execution_count": null,
   "metadata": {},
   "outputs": [],
   "source": []
  },
  {
   "cell_type": "code",
   "execution_count": null,
   "metadata": {},
   "outputs": [],
   "source": []
  },
  {
   "cell_type": "code",
   "execution_count": null,
   "metadata": {},
   "outputs": [],
   "source": []
  },
  {
   "cell_type": "code",
   "execution_count": 1261,
   "metadata": {},
   "outputs": [],
   "source": [
    "\n",
    "\n",
    "def rho_part(Rho_mt,inst_time):\n",
    "    \n",
    "    Result_fin=Rho_mt\n",
    "\n",
    "    for cent_ind in range(N_atom):\n",
    "        \n",
    "        Mat_dyn=Time_ind_hamil[cent_ind]+Part_time_dep(cent_ind,inst_time)\n",
    "        \n",
    "        sol_cent_ind = solve_ivp(f,[tspan[inst_time],tspan[inst_time+1]],list(array((Rho_mt[:,cent_ind].todense()).T,dtype=\"complex\")[0])\n",
    "                                 ,args=(Mat_dyn,None), t_eval= [tspan[inst_time+1]])\n",
    "        \n",
    "        Result_fin[:,cent_ind]=sol_cent_ind.y\n",
    "        \n",
    "    return Result_fin\n",
    "        "
   ]
  },
  {
   "cell_type": "code",
   "execution_count": null,
   "metadata": {},
   "outputs": [],
   "source": []
  },
  {
   "cell_type": "code",
   "execution_count": 1262,
   "metadata": {},
   "outputs": [],
   "source": [
    "Rho0= sparse.lil_matrix((4**Atom_cutoff, N_atom),dtype=\"complex64\")   #saves the density matrices for a given time t\n",
    "for j in range(N_atom):\n",
    "    Rho0[:,j]=Init_rho"
   ]
  },
  {
   "cell_type": "code",
   "execution_count": null,
   "metadata": {},
   "outputs": [],
   "source": []
  },
  {
   "cell_type": "code",
   "execution_count": 1263,
   "metadata": {},
   "outputs": [
    {
     "name": "stdout",
     "output_type": "stream",
     "text": [
      "0.0\n",
      "1.0\n",
      "2.0\n",
      "3.0\n",
      "4.0\n",
      "5.0\n",
      "6.0\n",
      "7.0\n",
      "8.0\n",
      "9.0\n",
      "10.0\n",
      "11.0\n",
      "12.0\n",
      "13.0\n",
      "14.0\n",
      "15.0\n",
      "16.0\n",
      "17.0\n",
      "18.0\n",
      "19.0\n",
      "20.0\n",
      "21.0\n",
      "22.0\n",
      "23.0\n",
      "24.0\n",
      "25.0\n",
      "26.0\n",
      "27.0\n",
      "28.0\n",
      "29.0\n",
      "30.0\n",
      "31.0\n",
      "32.0\n",
      "33.0\n",
      "34.0\n",
      "35.0\n",
      "36.0\n",
      "37.0\n",
      "38.0\n",
      "39.0\n",
      "40.0\n",
      "41.0\n",
      "42.0\n",
      "43.0\n",
      "44.0\n",
      "45.0\n",
      "46.0\n",
      "47.0\n",
      "48.0\n",
      "49.0\n",
      "50.0\n",
      "51.0\n",
      "52.0\n",
      "53.0\n",
      "54.0\n",
      "55.0\n",
      "56.0\n",
      "57.0\n",
      "58.0\n",
      "59.0\n",
      "60.0\n",
      "61.0\n",
      "62.0\n",
      "63.0\n",
      "64.0\n",
      "65.0\n",
      "66.0\n",
      "67.0\n",
      "68.0\n",
      "69.0\n",
      "70.0\n",
      "71.0\n",
      "72.0\n",
      "73.0\n",
      "74.0\n",
      "75.0\n",
      "76.0\n",
      "77.0\n",
      "78.0\n",
      "79.0\n",
      "80.0\n",
      "81.0\n",
      "82.0\n",
      "83.0\n",
      "84.0\n",
      "85.0\n",
      "86.0\n",
      "87.0\n",
      "88.0\n",
      "89.0\n",
      "90.0\n",
      "91.0\n",
      "92.0\n",
      "93.0\n",
      "94.0\n",
      "95.0\n",
      "96.0\n",
      "97.0\n",
      "98.0\n"
     ]
    }
   ],
   "source": [
    "for tind_ in range(len(tspan)-1):\n",
    "    \n",
    "    Rho0=rho_part(Rho0,tind_)\n",
    "    \n",
    "    \n",
    "    for j in range(N_atom):\n",
    "    \n",
    "        Sigma_m_rev[j ,tind_+1] = Sigma_Min_alt.dot( Rho0[:,j] )[0,0]\n",
    "        Sigma_ee_rev[j,tind_+1] = Sigma_EEalt.dot(   Rho0[:,j] )[0,0]\n",
    "        \n",
    "    print(str(tind_*100/len(tspan)))\n",
    "    "
   ]
  },
  {
   "cell_type": "code",
   "execution_count": null,
   "metadata": {},
   "outputs": [],
   "source": []
  },
  {
   "cell_type": "code",
   "execution_count": null,
   "metadata": {},
   "outputs": [],
   "source": []
  },
  {
   "cell_type": "code",
   "execution_count": null,
   "metadata": {},
   "outputs": [],
   "source": []
  },
  {
   "cell_type": "code",
   "execution_count": null,
   "metadata": {},
   "outputs": [],
   "source": [
    "here"
   ]
  },
  {
   "cell_type": "code",
   "execution_count": null,
   "metadata": {},
   "outputs": [],
   "source": []
  },
  {
   "cell_type": "code",
   "execution_count": null,
   "metadata": {},
   "outputs": [],
   "source": []
  },
  {
   "cell_type": "code",
   "execution_count": null,
   "metadata": {},
   "outputs": [],
   "source": []
  },
  {
   "cell_type": "code",
   "execution_count": null,
   "metadata": {},
   "outputs": [],
   "source": []
  },
  {
   "cell_type": "code",
   "execution_count": null,
   "metadata": {},
   "outputs": [],
   "source": []
  },
  {
   "cell_type": "code",
   "execution_count": 1264,
   "metadata": {},
   "outputs": [
    {
     "data": {
      "text/plain": [
       "<200x100 sparse matrix of type '<class 'numpy.complex64'>'\n",
       "\twith 19800 stored elements in List of Lists format>"
      ]
     },
     "execution_count": 1264,
     "metadata": {},
     "output_type": "execute_result"
    }
   ],
   "source": [
    "Sigma_m_rev"
   ]
  },
  {
   "cell_type": "code",
   "execution_count": null,
   "metadata": {},
   "outputs": [],
   "source": []
  },
  {
   "cell_type": "code",
   "execution_count": 1265,
   "metadata": {},
   "outputs": [],
   "source": [
    "Tot_minus=[]\n",
    "Tot_excit=[]\n",
    "\n",
    "for j in range(len(tspan)):\n",
    "    \n",
    "    Tot_minus.append( sum(Sigma_m_rev[:,j]) )\n",
    "    Tot_excit.append( sum(Sigma_ee_rev[:,j]) )\n",
    "    "
   ]
  },
  {
   "cell_type": "code",
   "execution_count": 1266,
   "metadata": {},
   "outputs": [],
   "source": [
    "import matplotlib.pyplot as plt\n",
    "\n"
   ]
  },
  {
   "cell_type": "code",
   "execution_count": 1267,
   "metadata": {},
   "outputs": [],
   "source": [
    "#Texc=real(Tot_excit)\n",
    "#Tx=real(Tot_minus)\n",
    "#Ty=imag(Tot_minus)\n",
    "\n"
   ]
  },
  {
   "cell_type": "code",
   "execution_count": 1269,
   "metadata": {},
   "outputs": [
    {
     "data": {
      "text/plain": [
       "<matplotlib.legend.Legend at 0x1ef6672b760>"
      ]
     },
     "execution_count": 1269,
     "metadata": {},
     "output_type": "execute_result"
    },
    {
     "data": {
      "image/png": "[encoded data removed]",
      "text/plain": [
       "<Figure size 432x288 with 1 Axes>"
      ]
     },
     "metadata": {
      "needs_background": "light"
     },
     "output_type": "display_data"
    }
   ],
   "source": [
    "plt.plot(tspan,real(Tot_excit),label=\"MACE\")\n",
    "#plt.plot(tspan,Texc,label=\"CMF\")\n",
    "#plt.plot(tspan,real(Tot_excit1),label=\"MACE\")\n",
    "\n",
    "plt.legend()"
   ]
  },
  {
   "cell_type": "code",
   "execution_count": 1270,
   "metadata": {},
   "outputs": [
    {
     "data": {
      "text/plain": [
       "<matplotlib.legend.Legend at 0x1ef6802fd00>"
      ]
     },
     "execution_count": 1270,
     "metadata": {},
     "output_type": "execute_result"
    },
    {
     "data": {
      "image/png": "[encoded data removed]",
      "text/plain": [
       "<Figure size 432x288 with 1 Axes>"
      ]
     },
     "metadata": {
      "needs_background": "light"
     },
     "output_type": "display_data"
    }
   ],
   "source": [
    "plt.plot(tspan,real(Tot_excit),label=\"MACE\")\n",
    "#plt.plot(tspan,Texc,label=\"CMF\")\n",
    "#plt.plot(tspan,real(Tot_excit1),label=\"MACE\")\n",
    "\n",
    "plt.legend()"
   ]
  },
  {
   "cell_type": "code",
   "execution_count": 1271,
   "metadata": {},
   "outputs": [
    {
     "data": {
      "text/plain": [
       "<matplotlib.legend.Legend at 0x1ef68473250>"
      ]
     },
     "execution_count": 1271,
     "metadata": {},
     "output_type": "execute_result"
    },
    {
     "data": {
      "image/png": "[encoded data removed]",
      "text/plain": [
       "<Figure size 432x288 with 1 Axes>"
      ]
     },
     "metadata": {
      "needs_background": "light"
     },
     "output_type": "display_data"
    }
   ],
   "source": [
    "plt.plot(tspan,real(Tot_minus),label=\"CMF x\")\n",
    "plt.plot(tspan,imag(Tot_minus),label=\"CMF y\")\n",
    "\n",
    "#plt.plot(tspan,Tx,\"--\",label=\"CMF x\")\n",
    "#plt.plot(tspan,Ty,\"--\",label=\"CMF y\")\n",
    "\n",
    "plt.legend()"
   ]
  },
  {
   "cell_type": "code",
   "execution_count": null,
   "metadata": {},
   "outputs": [],
   "source": []
  },
  {
   "cell_type": "code",
   "execution_count": null,
   "metadata": {},
   "outputs": [],
   "source": []
  },
  {
   "cell_type": "code",
   "execution_count": null,
   "metadata": {},
   "outputs": [],
   "source": []
  },
  {
   "cell_type": "code",
   "execution_count": null,
   "metadata": {},
   "outputs": [],
   "source": []
  },
  {
   "cell_type": "code",
   "execution_count": null,
   "metadata": {},
   "outputs": [],
   "source": []
  },
  {
   "cell_type": "code",
   "execution_count": null,
   "metadata": {},
   "outputs": [],
   "source": []
  },
  {
   "cell_type": "code",
   "execution_count": 972,
   "metadata": {},
   "outputs": [
    {
     "data": {
      "text/plain": [
       "<matplotlib.legend.Legend at 0x1ef6500a700>"
      ]
     },
     "execution_count": 972,
     "metadata": {},
     "output_type": "execute_result"
    },
    {
     "data": {
      "image/png": "[encoded data removed]",
      "text/plain": [
       "<Figure size 432x288 with 1 Axes>"
      ]
     },
     "metadata": {
      "needs_background": "light"
     },
     "output_type": "display_data"
    }
   ],
   "source": [
    "plt.plot(tspan,real(Tot_excit),label=\"MACE\")\n",
    "plt.plot(tspan,Texc,label=\"CMF\")\n",
    "#plt.plot(tspan,real(Tot_excit1),label=\"MACE\")\n",
    "\n",
    "plt.legend()"
   ]
  },
  {
   "cell_type": "code",
   "execution_count": 974,
   "metadata": {},
   "outputs": [
    {
     "data": {
      "text/plain": [
       "<matplotlib.legend.Legend at 0x1ef64e263a0>"
      ]
     },
     "execution_count": 974,
     "metadata": {},
     "output_type": "execute_result"
    },
    {
     "data": {
      "image/png": "[encoded data removed]",
      "text/plain": [
       "<Figure size 432x288 with 1 Axes>"
      ]
     },
     "metadata": {
      "needs_background": "light"
     },
     "output_type": "display_data"
    }
   ],
   "source": [
    "plt.plot(tspan,real(Tot_minus),label=\"MACE x\")\n",
    "plt.plot(tspan,imag(Tot_minus),label=\"MACE y\")\n",
    "\n",
    "plt.plot(tspan,Tx,\"--\",label=\"CMF x\")\n",
    "plt.plot(tspan,Ty,\"--\",label=\"CMF y\")\n",
    "\n",
    "plt.legend()"
   ]
  },
  {
   "cell_type": "code",
   "execution_count": null,
   "metadata": {},
   "outputs": [],
   "source": []
  },
  {
   "cell_type": "code",
   "execution_count": null,
   "metadata": {},
   "outputs": [],
   "source": []
  },
  {
   "cell_type": "code",
   "execution_count": 952,
   "metadata": {},
   "outputs": [
    {
     "ename": "NameError",
     "evalue": "name 'here' is not defined",
     "output_type": "error",
     "traceback": [
      "\u001b[1;31m---------------------------------------------------------------------------\u001b[0m",
      "\u001b[1;31mNameError\u001b[0m                                 Traceback (most recent call last)",
      "\u001b[1;32m<ipython-input-952-3b1626288afb>\u001b[0m in \u001b[0;36m<module>\u001b[1;34m\u001b[0m\n\u001b[1;32m----> 1\u001b[1;33m \u001b[0mhere\u001b[0m\u001b[1;33m\u001b[0m\u001b[1;33m\u001b[0m\u001b[0m\n\u001b[0m",
      "\u001b[1;31mNameError\u001b[0m: name 'here' is not defined"
     ]
    }
   ],
   "source": [
    "here"
   ]
  },
  {
   "cell_type": "code",
   "execution_count": null,
   "metadata": {},
   "outputs": [],
   "source": []
  },
  {
   "cell_type": "code",
   "execution_count": null,
   "metadata": {},
   "outputs": [],
   "source": []
  },
  {
   "cell_type": "code",
   "execution_count": null,
   "metadata": {},
   "outputs": [],
   "source": []
  },
  {
   "cell_type": "code",
   "execution_count": null,
   "metadata": {},
   "outputs": [],
   "source": []
  },
  {
   "cell_type": "code",
   "execution_count": null,
   "metadata": {},
   "outputs": [],
   "source": []
  },
  {
   "cell_type": "code",
   "execution_count": null,
   "metadata": {},
   "outputs": [],
   "source": []
  },
  {
   "cell_type": "code",
   "execution_count": null,
   "metadata": {},
   "outputs": [],
   "source": []
  },
  {
   "cell_type": "code",
   "execution_count": null,
   "metadata": {},
   "outputs": [],
   "source": []
  },
  {
   "cell_type": "code",
   "execution_count": null,
   "metadata": {},
   "outputs": [],
   "source": []
  },
  {
   "cell_type": "code",
   "execution_count": null,
   "metadata": {},
   "outputs": [],
   "source": []
  },
  {
   "cell_type": "code",
   "execution_count": 933,
   "metadata": {},
   "outputs": [],
   "source": [
    "\n",
    "Rho_t= sparse.lil_matrix((4**Atom_cutoff, N_atom),dtype=\"complex64\")   #saves the density matrices for a given time t\n",
    "for j in range(N_atom):\n",
    "    Rho_t[:,j]=Init_rho\n",
    "    \n",
    "    \n",
    "\n",
    "\n",
    "        \n",
    "tfinal=7\n",
    "Lenght=150\n",
    "tspan=np.linspace(0,tfinal,Lenght)    #Here the time definition is important because it will tell you how to divide the elements\n",
    "\n",
    "\n",
    "\n",
    "Sigma_m_rev= sparse.lil_matrix((N_atom, len(tspan)),dtype=\"complex64\")\n",
    "Sigma_ee_rev= sparse.lil_matrix((N_atom, len(tspan)),dtype=\"complex64\")\n",
    "\n",
    "\n",
    "\n",
    "for j in range(N_atom):\n",
    "    \n",
    "    Sigma_m_rev[j,0] =Sigma_Min_alt.dot( Rho_t[:,j])[0,0]\n",
    "    Sigma_ee_rev[j,0]=Sigma_EEalt.dot( Rho_t[:,j])[0,0]\n",
    "    \n",
    "    "
   ]
  },
  {
   "cell_type": "code",
   "execution_count": 934,
   "metadata": {},
   "outputs": [],
   "source": [
    "for j in range(N_atom):\n",
    "    \n",
    "    Sigma_m_rev[j,0] =Sigma_Min_alt.dot( Rho_t[:,j])[0,0]\n",
    "    Sigma_ee_rev[j,0]=Sigma_EEalt.dot( Rho_t[:,j])[0,0]\n",
    "    "
   ]
  },
  {
   "cell_type": "code",
   "execution_count": null,
   "metadata": {},
   "outputs": [],
   "source": []
  },
  {
   "cell_type": "code",
   "execution_count": null,
   "metadata": {},
   "outputs": [],
   "source": []
  },
  {
   "cell_type": "code",
   "execution_count": null,
   "metadata": {},
   "outputs": [],
   "source": []
  },
  {
   "cell_type": "code",
   "execution_count": null,
   "metadata": {},
   "outputs": [],
   "source": []
  },
  {
   "cell_type": "code",
   "execution_count": null,
   "metadata": {},
   "outputs": [],
   "source": []
  },
  {
   "cell_type": "code",
   "execution_count": null,
   "metadata": {},
   "outputs": [],
   "source": []
  },
  {
   "cell_type": "code",
   "execution_count": null,
   "metadata": {},
   "outputs": [],
   "source": []
  },
  {
   "cell_type": "code",
   "execution_count": null,
   "metadata": {},
   "outputs": [],
   "source": []
  },
  {
   "cell_type": "code",
   "execution_count": null,
   "metadata": {},
   "outputs": [],
   "source": []
  },
  {
   "cell_type": "code",
   "execution_count": null,
   "metadata": {},
   "outputs": [],
   "source": []
  },
  {
   "cell_type": "code",
   "execution_count": null,
   "metadata": {},
   "outputs": [],
   "source": [
    "Rho_mt"
   ]
  },
  {
   "cell_type": "code",
   "execution_count": null,
   "metadata": {},
   "outputs": [],
   "source": []
  },
  {
   "cell_type": "code",
   "execution_count": null,
   "metadata": {},
   "outputs": [],
   "source": [
    "Rho_t.todense()"
   ]
  },
  {
   "cell_type": "code",
   "execution_count": null,
   "metadata": {},
   "outputs": [],
   "source": []
  },
  {
   "cell_type": "code",
   "execution_count": null,
   "metadata": {},
   "outputs": [],
   "source": [
    "cent_ind=0\n",
    "\n",
    "inst_time=0\n",
    "\n",
    "sol_cent_ind = solve_ivp(f,[tspan[inst_time],tspan[inst_time+1]],list(array((Rho_t[:,cent_ind].todense()).T,dtype=\"complex\")[0])\n",
    "                    ,args=(Part_H_L_R_LR(cent_ind,Sigma_m_rev[:,inst_time]),None), t_eval= [tspan[inst_time+1]])"
   ]
  },
  {
   "cell_type": "code",
   "execution_count": null,
   "metadata": {},
   "outputs": [],
   "source": [
    "Rho_t[:,0]=sol_cent_ind.y"
   ]
  },
  {
   "cell_type": "code",
   "execution_count": null,
   "metadata": {},
   "outputs": [],
   "source": [
    "Rho_t"
   ]
  },
  {
   "cell_type": "code",
   "execution_count": null,
   "metadata": {},
   "outputs": [],
   "source": [
    "sol_cent_ind.y"
   ]
  },
  {
   "cell_type": "code",
   "execution_count": null,
   "metadata": {},
   "outputs": [],
   "source": []
  },
  {
   "cell_type": "code",
   "execution_count": null,
   "metadata": {},
   "outputs": [],
   "source": []
  },
  {
   "cell_type": "code",
   "execution_count": null,
   "metadata": {},
   "outputs": [],
   "source": []
  },
  {
   "cell_type": "code",
   "execution_count": null,
   "metadata": {},
   "outputs": [],
   "source": []
  },
  {
   "cell_type": "code",
   "execution_count": null,
   "metadata": {},
   "outputs": [],
   "source": [
    "here"
   ]
  },
  {
   "cell_type": "code",
   "execution_count": null,
   "metadata": {},
   "outputs": [],
   "source": []
  },
  {
   "cell_type": "code",
   "execution_count": null,
   "metadata": {},
   "outputs": [],
   "source": []
  },
  {
   "cell_type": "code",
   "execution_count": null,
   "metadata": {},
   "outputs": [],
   "source": []
  },
  {
   "cell_type": "code",
   "execution_count": null,
   "metadata": {},
   "outputs": [],
   "source": []
  },
  {
   "cell_type": "code",
   "execution_count": null,
   "metadata": {},
   "outputs": [],
   "source": []
  },
  {
   "cell_type": "code",
   "execution_count": null,
   "metadata": {},
   "outputs": [],
   "source": []
  },
  {
   "cell_type": "code",
   "execution_count": null,
   "metadata": {},
   "outputs": [],
   "source": []
  },
  {
   "cell_type": "code",
   "execution_count": null,
   "metadata": {},
   "outputs": [],
   "source": []
  },
  {
   "cell_type": "code",
   "execution_count": null,
   "metadata": {},
   "outputs": [],
   "source": []
  },
  {
   "cell_type": "code",
   "execution_count": null,
   "metadata": {},
   "outputs": [],
   "source": []
  },
  {
   "cell_type": "code",
   "execution_count": null,
   "metadata": {},
   "outputs": [],
   "source": []
  },
  {
   "cell_type": "code",
   "execution_count": null,
   "metadata": {},
   "outputs": [],
   "source": []
  },
  {
   "cell_type": "code",
   "execution_count": null,
   "metadata": {},
   "outputs": [],
   "source": []
  },
  {
   "cell_type": "code",
   "execution_count": null,
   "metadata": {},
   "outputs": [],
   "source": []
  },
  {
   "cell_type": "code",
   "execution_count": null,
   "metadata": {},
   "outputs": [],
   "source": []
  },
  {
   "cell_type": "code",
   "execution_count": null,
   "metadata": {},
   "outputs": [],
   "source": []
  },
  {
   "cell_type": "code",
   "execution_count": null,
   "metadata": {},
   "outputs": [],
   "source": []
  },
  {
   "cell_type": "code",
   "execution_count": null,
   "metadata": {},
   "outputs": [],
   "source": []
  },
  {
   "cell_type": "code",
   "execution_count": null,
   "metadata": {},
   "outputs": [],
   "source": []
  },
  {
   "cell_type": "code",
   "execution_count": null,
   "metadata": {},
   "outputs": [],
   "source": []
  },
  {
   "cell_type": "code",
   "execution_count": null,
   "metadata": {},
   "outputs": [],
   "source": []
  },
  {
   "cell_type": "code",
   "execution_count": null,
   "metadata": {},
   "outputs": [],
   "source": []
  },
  {
   "cell_type": "code",
   "execution_count": null,
   "metadata": {},
   "outputs": [],
   "source": []
  },
  {
   "cell_type": "code",
   "execution_count": null,
   "metadata": {},
   "outputs": [],
   "source": []
  },
  {
   "cell_type": "code",
   "execution_count": null,
   "metadata": {},
   "outputs": [],
   "source": []
  },
  {
   "cell_type": "code",
   "execution_count": null,
   "metadata": {},
   "outputs": [],
   "source": []
  },
  {
   "cell_type": "code",
   "execution_count": null,
   "metadata": {},
   "outputs": [],
   "source": []
  },
  {
   "cell_type": "code",
   "execution_count": null,
   "metadata": {},
   "outputs": [],
   "source": []
  },
  {
   "cell_type": "code",
   "execution_count": null,
   "metadata": {},
   "outputs": [],
   "source": [
    "#@jit\n",
    "def SplusSee_center_ind(cent_ind):\n",
    "    \n",
    "    \n",
    "    sol = solve_ivp(f, [tspan[0], tspan[-1]], list(array((Init_rho.todense()).T,dtype=\"complex64\")[0])\n",
    "                     ,args=(Part_H_L_R_LR(cent_ind),None),dense_output=True )\n",
    "    \n",
    "    \n",
    "    Sol_dense=(sol.sol(tspan))\n",
    "    Splus_i=[]\n",
    "    See_i  =[]\n",
    "\n",
    "    Y_array=Sol_dense\n",
    "\n",
    "    for j in range((Y_array).shape[1]):\n",
    "            \n",
    "        #print((Y_array)[:,j].shape)\n",
    "\n",
    "        See=Sigma_EEalt.dot((Y_array)[:,j])[0]   #See=dot(Sigma_EE.flatten(),(Y_array)[:,j])\n",
    "        Seg=Sigma_EGalt.dot((Y_array)[:,j])[0]\n",
    "            \n",
    "        #See=dot(Sigma_EE.flatten(),(Y_array)[:,j])\n",
    "        #Seg=dot(Sigma_EG.flatten(),(Y_array)[:,j])\n",
    "    \n",
    "    \n",
    "        See_i.append(See)\n",
    "        Splus_i.append(Seg)\n",
    "    \n",
    "    return Splus_i, See_i"
   ]
  },
  {
   "cell_type": "code",
   "execution_count": null,
   "metadata": {},
   "outputs": [],
   "source": [
    "Array_0=SplusSee_center_ind(1000)"
   ]
  },
  {
   "cell_type": "code",
   "execution_count": null,
   "metadata": {},
   "outputs": [],
   "source": []
  },
  {
   "cell_type": "code",
   "execution_count": null,
   "metadata": {},
   "outputs": [],
   "source": []
  },
  {
   "cell_type": "code",
   "execution_count": null,
   "metadata": {},
   "outputs": [],
   "source": []
  },
  {
   "cell_type": "code",
   "execution_count": null,
   "metadata": {},
   "outputs": [],
   "source": []
  },
  {
   "cell_type": "code",
   "execution_count": null,
   "metadata": {},
   "outputs": [],
   "source": []
  },
  {
   "cell_type": "code",
   "execution_count": null,
   "metadata": {},
   "outputs": [],
   "source": []
  },
  {
   "cell_type": "code",
   "execution_count": null,
   "metadata": {},
   "outputs": [],
   "source": []
  },
  {
   "cell_type": "code",
   "execution_count": null,
   "metadata": {},
   "outputs": [],
   "source": []
  },
  {
   "cell_type": "code",
   "execution_count": null,
   "metadata": {},
   "outputs": [],
   "source": []
  },
  {
   "cell_type": "code",
   "execution_count": null,
   "metadata": {},
   "outputs": [],
   "source": []
  },
  {
   "cell_type": "code",
   "execution_count": null,
   "metadata": {},
   "outputs": [],
   "source": []
  },
  {
   "cell_type": "code",
   "execution_count": null,
   "metadata": {},
   "outputs": [],
   "source": []
  },
  {
   "cell_type": "code",
   "execution_count": null,
   "metadata": {},
   "outputs": [],
   "source": []
  },
  {
   "cell_type": "code",
   "execution_count": null,
   "metadata": {
    "scrolled": false
   },
   "outputs": [],
   "source": [
    "\n",
    "\n",
    "def result_tot(Atom_cutoff):\n",
    "\n",
    "        \n",
    "    \n",
    "    Sigma_eg=csr_matrix(np.array([[0,1],\n",
    "                              [0,0]]),dtype=\"complex64\")\n",
    "    Id_2LS  =csr_matrix(np.array([[1,0],\n",
    "                              [0,1]]),dtype=\"complex64\")\n",
    "\n",
    "    Zero_2LS=csr_matrix(np.array([[0,0],\n",
    "                              [0,0]]),dtype=\"complex64\")\n",
    "\n",
    "    state   =csr_matrix(np.array([[0,0],\n",
    "                              [0,1]]),dtype=\"complex64\")\n",
    "\n",
    "\n",
    "    Sigma_ee=csr_matrix(np.array([[1,0],\n",
    "                              [0,0]]),dtype=\"complex64\")\n",
    "\n",
    "    Sigma_egT=Sigma_eg.T    \n",
    "\n",
    "    \n",
    "    \n",
    "    \n",
    "    #@jit\n",
    "\n",
    "    def index_Gij(arr,Atom_cutoff):\n",
    "    \n",
    "        Ordered_N = list(np.argsort(arr)[::-1][:Atom_cutoff])\n",
    "    \n",
    "        return Ordered_N\n",
    "\n",
    "    Index_N=[]\n",
    "\n",
    "    Rem_iden=abs(Gij - 1j*0.5*Gamma_r*np.identity(N_atom))\n",
    "\n",
    "\n",
    "    for j in range(Rem_iden.shape[0]):\n",
    "    \n",
    "        test_list = list(Rem_iden[j])\n",
    "    \n",
    "        Index_N.append( [j]+list(index_Gij(test_list,Atom_cutoff-1))  )\n",
    "\n",
    "    #@jit\n",
    "    def tensor_id(ArrayL ):\n",
    "    \n",
    "        Tensor_id=kron(ArrayL[0],ArrayL[1])\n",
    "    \n",
    "        Array_id=Atom_cutoff*[Id_2LS]    \n",
    "    \n",
    "        for j in range(2,len(ArrayL)):\n",
    "        \n",
    "            Tensor_id=kron(Tensor_id,Array_id[j])\n",
    "        \n",
    "    \n",
    "        return coo_matrix(Tensor_id)\n",
    "    \n",
    "    \n",
    "    \n",
    "    \n",
    "    \n",
    "\n",
    "    #@jit\n",
    "    def tensor_kj( k , j):   #tensor among k,j are Positions in the cluster after the G classification\n",
    "                         #k is +sigma and j is -sigma \n",
    "        Array_id=Atom_cutoff*[Id_2LS]  \n",
    "    \n",
    "        Array_id[k]=Sigma_eg\n",
    "        Array_id[j]=Sigma_egT\n",
    "    \n",
    "        Tensor_kj=kron(Array_id[0],Array_id[1])\n",
    "    \n",
    "        for j in range(2,len(Array_id)):\n",
    "        \n",
    "            Tensor_kj=kron(Tensor_kj,Array_id[j])\n",
    "        \n",
    "    \n",
    "        return coo_matrix(Tensor_kj)\n",
    "    \n",
    "    \n",
    "    \n",
    "\n",
    "    #@jit\n",
    "    def tensor_k_ee( k  ):  #Excited state k is a Position in the cluster after the G classification\n",
    "    \n",
    "        Array_id=Atom_cutoff*[Id_2LS]  \n",
    "    \n",
    "        Array_id[k]=Sigma_ee\n",
    "    \n",
    "        Tensor_k    =kron(Array_id[0],Array_id[1])\n",
    "    \n",
    "        for j in range(2,len(Array_id)):\n",
    "        \n",
    "            Tensor_k=kron(Tensor_k,Array_id[j])\n",
    "        \n",
    "    \n",
    "        return coo_matrix(Tensor_k)\n",
    "\n",
    "    #@jit\n",
    "    def tensor_k( k  ):  #sigmaplus k\n",
    "    \n",
    "        Array_id=Atom_cutoff*[Id_2LS]  \n",
    "    \n",
    "        Array_id[k]=Sigma_eg\n",
    "    \n",
    "        Tensor_k    =kron(Array_id[0],Array_id[1])\n",
    "    \n",
    "        for j in range(2,len(Array_id)):\n",
    "        \n",
    "            Tensor_k=kron(Tensor_k,Array_id[j])\n",
    "        \n",
    "    \n",
    "        return coo_matrix(Tensor_k)\n",
    "\n",
    "\n",
    "\n",
    "    #@jit\n",
    "    def init_rho(Atom_cutoff=Atom_cutoff,state=state):\n",
    "    \n",
    "        state_fact=Atom_cutoff*[state]\n",
    "    \n",
    "        Rho_in=kron(state_fact[0],state_fact[1])\n",
    "    \n",
    "        for j in range(2,Atom_cutoff):\n",
    "        \n",
    "            Rho_in=kron(Rho_in,state_fact[j])\n",
    "        \n",
    "        return coo_matrix(Rho_in)\n",
    "\n",
    "\n",
    "\n",
    "    #@jit\n",
    "    def Hamil_atom(index_center):\n",
    "    \n",
    "        Index_list=Index_N[index_center]\n",
    "        Zero_gen=tensor_id(Atom_cutoff*[ Zero_2LS ])\n",
    "        Z2=Zero_gen\n",
    "    \n",
    "        for k in range(Atom_cutoff):\n",
    "        \n",
    "            IL_k = Index_list[k]\n",
    "        \n",
    "            #print(IL_k)\n",
    "        \n",
    "            zL_k = ZL_k[IL_k]\n",
    "            Ten_k= tensor_k(k)\n",
    "        \n",
    "            Z2   = Z2 -(Omega)*(zL_k*Ten_k  +conj(zL_k)*(Ten_k.T) )\n",
    "        \n",
    "        return Z2\n",
    "\n",
    "    Sigma_EGalt=(tensor_k(0)).reshape(1,4**Atom_cutoff)\n",
    "    Sigma_EEalt=(tensor_k_ee(0)).reshape(1,4**Atom_cutoff)\n",
    "    \n",
    "    #@jit\n",
    "\n",
    "    def Part_H_L_R_LR(index_center):\n",
    "    \n",
    "        Array_id=Atom_cutoff*[Id_2LS] \n",
    "        Index_list=Index_N[index_center]\n",
    "        Zero_gen=tensor_id(Atom_cutoff*[ Zero_2LS ])\n",
    "    \n",
    "        Z1=Zero_gen\n",
    "        Z2=Zero_gen\n",
    "        Z3=kron(Zero_gen,Zero_gen)\n",
    "    \n",
    "    \n",
    "        Col_Decay=kron(Zero_gen,Zero_gen)\n",
    "    \n",
    "        Identity=tensor_id( Atom_cutoff*[Id_2LS])\n",
    "    \n",
    "    \n",
    "        Col=Collect\n",
    "    \n",
    "        D_R = Zero_gen\n",
    "        D_L = Zero_gen\n",
    "        D_RL= kron(Zero_gen,Zero_gen)\n",
    "\n",
    "        Hamil=Zero_gen\n",
    "    \n",
    "    \n",
    "        Splus=Zero_gen\n",
    "    \n",
    "    \n",
    "    \n",
    "        Hamil_at=Hamil_atom(index_center)    \n",
    "        Hamil_vect= -1j *(kron(Identity,  Hamil_at )-kron(Hamil_at.T,Identity))\n",
    "    \n",
    "    \n",
    "    \n",
    "    \n",
    "    \n",
    "        for k in range(Atom_cutoff):\n",
    "        \n",
    "            IL_k = Index_list[k]\n",
    "\n",
    "            zL_k = ZL_k[IL_k]\n",
    "\n",
    "            Ten_k= tensor_k(k)\n",
    "        \n",
    "            Ten_k_ee=tensor_k_ee(k)\n",
    "        \n",
    "        \n",
    "            Splus=Splus+Ten_k\n",
    "        \n",
    "            Imkk=ImG[k,k]  \n",
    "        \n",
    "        \n",
    "            #Z2   = Z2+ 1j*(Omega)*(zL_k*Ten_k  +conj(zL_k)*(Ten_k.T) )\n",
    "        \n",
    "        \n",
    "            D_R   = D_R  - ( Imkk       )*Ten_k_ee\n",
    "            D_L   = D_L  - ( Imkk       )*Ten_k_ee\n",
    "            D_RL  = D_RL + ( 2 * Imkk    )*kron( Ten_k.T , Ten_k.T  )\n",
    "\n",
    "\n",
    "        \n",
    "        \n",
    "            for j in range(k+1,Atom_cutoff):\n",
    "            \n",
    "                IL_j  =Index_list[j]\n",
    "\n",
    "                Ten_kj= tensor_kj( k , j )\n",
    "            \n",
    "                ReGkj=ReG[IL_k,IL_j] \n",
    "                ImGkj=ImG[IL_k,IL_j]\n",
    "                ReGjk=ReGkj   \n",
    "                ImGjk=ImGkj\n",
    "            \n",
    "            \n",
    "                Z1=Z1+ (1j*ReGkj-ImGkj)*(Ten_kj+ Ten_kj.T  )\n",
    "            \n",
    "                Ten_j=tensor_k(j)\n",
    "            \n",
    "            \n",
    "                Tenk_Tenj=kron(Ten_k.T,Ten_j.T)\n",
    "\n",
    "                Tenj_Tenk=kron(Ten_j.T,Ten_k.T)\n",
    "            \n",
    "            \n",
    "                Z3=Z3+2*( ImGkj*Tenk_Tenj   +  ImGjk* Tenj_Tenk )\n",
    "\n",
    "            #print( tensor_kj( k , j ).todense(), ReG[IL_k,IL_j],(IL_k,IL_j)  )\n",
    "            \n",
    "            #print(k,j)\n",
    "\n",
    "\n",
    "\n",
    "                Hamil=Hamil+(1j*ReGkj)*(Ten_kj+ Ten_kj.T)\n",
    "\n",
    "        Hamil=Hamil+Hamil_at                 \n",
    "        \n",
    "        L_R = Z2+Z1\n",
    "        L_L =-(Z2.T)+conj(Z1.T) \n",
    "        L_RL=Z3\n",
    "    \n",
    "\n",
    "    #print(L_R.shape, L_L.shape, L_RL.shape)\n",
    "    \n",
    "        Vectorization=  ( kron(Identity,  L_R+D_R )+kron(L_L+D_L,Identity )+L_RL+D_RL ) #   + Col * Col_Decay  )\n",
    "\n",
    "    \n",
    "        return  Vectorization+Hamil_vect  #, Hamil #cl_sparse(Vectorization) #clean_sparse(Vectorization)\n",
    "\n",
    "\n",
    "    Ivec=[4**Atom_cutoff-1]\n",
    "\n",
    "    Jvec=[0]\n",
    "    Vvec=[1]\n",
    "\n",
    "\n",
    "    Init_rho=(sparse.coo_matrix((Vvec,(Ivec,Jvec)),shape=(4**Atom_cutoff,1))) \n",
    "\n",
    "\n",
    "    #@jit\n",
    "    def f(t, yR,M_vect,b):\n",
    " \n",
    "        MatA=M_vect@yR\n",
    "        return MatA\n",
    "\n",
    "    #@jit\n",
    "    def SplusSee_center_ind(cent_ind):\n",
    "    \n",
    "    \n",
    "        sol = solve_ivp(f, [tspan[0], tspan[-1]], list(array((Init_rho.todense()).T,dtype=\"complex64\")[0])\n",
    "                     ,args=(Part_H_L_R_LR(cent_ind),None),dense_output=True )\n",
    "    \n",
    "    \n",
    "        Sol_dense=(sol.sol(tspan))\n",
    "        Splus_i=[]\n",
    "        See_i  =[]\n",
    "\n",
    "        Y_array=Sol_dense\n",
    "\n",
    "        for j in range((Y_array).shape[1]):\n",
    "            \n",
    "            \n",
    "\n",
    "            See=Sigma_EEalt.dot((Y_array)[:,j])[0]   #See=dot(Sigma_EE.flatten(),(Y_array)[:,j])\n",
    "            Seg=Sigma_EGalt.dot((Y_array)[:,j])[0]\n",
    "            \n",
    "            #See=dot(Sigma_EE.flatten(),(Y_array)[:,j])\n",
    "            #Seg=dot(Sigma_EG.flatten(),(Y_array)[:,j])\n",
    "    \n",
    "    \n",
    "            See_i.append(See)\n",
    "    \n",
    "            Splus_i.append(Seg)\n",
    "    \n",
    "        return Splus_i, See_i\n",
    "\n",
    "\n",
    "\n",
    "    Array_0=SplusSee_center_ind(0)\n",
    "\n",
    "    Splus=array(Array_0[0])\n",
    "    See_r=array(Array_0[1])\n",
    "\n",
    "    for j in range(1,N_atom):\n",
    "    \n",
    "        Array_j=SplusSee_center_ind(j)\n",
    "    \n",
    "        Splus_j=array(Array_j[0])\n",
    "        See_r_j=array(Array_j[1])\n",
    "    \n",
    "        #plt.plot(tspan, real(See_r_j),\"->\")\n",
    "        #plt.plot(tspan, real(Splus_j))\n",
    "    #plt.plot(tspan, imag(Splus_j),\"->\")\n",
    "    \n",
    "    \n",
    "    \n",
    "        Splus=Splus+Splus_j\n",
    "        See_r=See_r+See_r_j\n",
    "    \n",
    "        print(j)\n",
    "\n",
    "  \n",
    "    return See_r, Splus\n",
    "\n",
    "\n",
    "Cluster_s=2\n",
    "\n",
    "Result=result_tot(Cluster_s)\n",
    "See_r_=Result[0]\n",
    "Splus_=Result[1]\n",
    "\n",
    "\n",
    "\n",
    "# Displaying the array\n",
    "\n",
    "\n",
    "file = open(\"Results\"+str(Cluster_s)+\"_Omega_\"+str(Omega)+\"_Lax=\"+str(Sigma_x)+\".txt\", \"w+\")\n",
    "\n",
    "# Saving the array in a text file\n",
    "\n",
    "char1=str(N_atom)\n",
    "char2=str(Cluster_s)\n",
    "char3=str(Omega)\n",
    "file.write(char1)\n",
    "file.write('\\n')\n",
    "\n",
    "file.write(char2)\n",
    "file.write('\\n')\n",
    "\n",
    "file.write(char3)\n",
    "file.write('\\n')\n",
    "\n",
    "file.write('\\n')\n",
    "\n",
    "content2 = str(See_r_)\n",
    "file.write(content2)\n",
    "file.write('\\n')\n",
    "file.write('\\n')\n",
    "content12= str(Splus_)\n",
    "file.write(content12)\n",
    "file.write('\\n')\n",
    "file.write('\\n')\n",
    "\n",
    "file.close()\n",
    "\n",
    "## Displaying the contents of the text file\n",
    "#file = open(\"Array_MACE.txt\", \"r\")\n",
    "#content = file.read()\n",
    "\n",
    "#print(\"Array contents in sample.txt: \", content)\n",
    "#file.close()\n",
    "\n",
    "t1=time.time()\n"
   ]
  },
  {
   "cell_type": "code",
   "execution_count": null,
   "metadata": {},
   "outputs": [],
   "source": []
  },
  {
   "cell_type": "code",
   "execution_count": null,
   "metadata": {},
   "outputs": [],
   "source": []
  }
 ],
 "metadata": {
  "kernelspec": {
   "display_name": "Python 3",
   "language": "python",
   "name": "python3"
  },
  "language_info": {
   "codemirror_mode": {
    "name": "ipython",
    "version": 3
   },
   "file_extension": ".py",
   "mimetype": "text/x-python",
   "name": "python",
   "nbconvert_exporter": "python",
   "pygments_lexer": "ipython3",
   "version": "3.8.3"
  }
 },
 "nbformat": 4,
 "nbformat_minor": 4
}
