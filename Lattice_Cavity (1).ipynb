{
 "cells": [
  {
   "cell_type": "markdown",
   "metadata": {},
   "source": [
    "# Lattice Dynamics under DissDTWA"
   ]
  },
  {
   "cell_type": "code",
   "execution_count": 1,
   "metadata": {},
   "outputs": [],
   "source": [
    "import matplotlib.pyplot as plt\n",
    "import numpy as np\n",
    "import matplotlib\n",
    "from numpy import cos, sin\n",
    "from numpy import sqrt\n",
    "import time\n",
    "from numpy import sin, cos\n",
    "\n",
    "\"\"\"In order to provide a better presentation of the graphs we use the rcParams options shown below.\"\"\"\n",
    "\n",
    "matplotlib.rcParams['text.usetex'] = False\n",
    "matplotlib.rcParams['mathtext.fontset'] = 'stix'\n",
    "matplotlib.rcParams['font.family'] = 'STIXGeneral'\n",
    "matplotlib.rcParams['font.size'] = 15\n",
    "matplotlib.rcParams['figure.figsize'] = (11.0, 8.0)\n",
    "\n",
    "\n",
    "label_size = 20"
   ]
  },
  {
   "cell_type": "code",
   "execution_count": 2,
   "metadata": {},
   "outputs": [],
   "source": [
    "import matplotlib.pyplot as plt\n",
    "import numpy as np\n",
    "#from google.colab import files\n",
    "\n",
    "\"\"\"In order to provide a better presentation of the graphs we use the rcParams options shown below.\"\"\"\n",
    "\n",
    "import matplotlib\n",
    "matplotlib.rcParams['text.usetex'] = False\n",
    "matplotlib.rcParams['mathtext.fontset'] = 'stix'\n",
    "matplotlib.rcParams['font.family'] = 'STIXGeneral'\n",
    "matplotlib.rcParams['font.size'] = 15\n",
    "matplotlib.rcParams['figure.figsize'] = (11.0, 8.0)\n",
    "\n",
    "from numpy import cos, sin\n",
    "\n",
    "label_size = 20\n",
    "\n",
    "from numpy import sqrt\n",
    "\n",
    "import time\n",
    "from numba import jit\n",
    "from numpy import sin, cos\n",
    "\n",
    "T0=time.time()\n",
    "\n",
    "import matplotlib\n",
    "matplotlib.rcParams['text.usetex'] = False\n",
    "matplotlib.rcParams['mathtext.fontset'] = 'stix'\n",
    "matplotlib.rcParams['font.family'] = 'STIXGeneral'\n",
    "matplotlib.rcParams['font.size'] = 15\n",
    "matplotlib.rcParams['figure.figsize'] = (11.0, 8.0)"
   ]
  },
  {
   "cell_type": "code",
   "execution_count": 3,
   "metadata": {},
   "outputs": [],
   "source": [
    "\n",
    "import matplotlib.pyplot as plt\n",
    "%matplotlib inline\n",
    "from numpy import random, zeros, sqrt,cos,sin\n",
    "\n",
    "import matplotlib.pyplot as plt\n",
    "import numpy as np\n",
    "\n",
    "from numba import jit\n",
    "import numbers\n",
    "\n",
    "from numpy import sqrt, zeros, diag, random, real, array, complex_, transpose, conjugate, exp, matmul, real\n",
    "\n",
    "\n",
    "import matplotlib\n",
    "import matplotlib.pyplot as plt\n",
    "from scipy.linalg import norm\n",
    "from numpy import dot\n",
    "\n",
    "from numpy import pi as pi\n",
    "from numpy import array\n",
    "\n",
    "import scipy\n",
    "\n",
    "from numpy import exp, imag, real,zeros, conj\n",
    "from numpy import sum\n",
    "from scipy import sparse\n",
    "from numpy import array\n",
    "import scipy.sparse as sp\n",
    "from numpy import concatenate\n",
    "\n",
    "from scipy.sparse import csr_matrix\n",
    "from numpy import sqrt, dot\n",
    "from numpy.random import choice\n",
    "from numpy.random import normal\n",
    "from numpy import sqrt\n",
    "\n",
    "from scipy.sparse import coo_matrix\n",
    "from numpy import add\n"
   ]
  },
  {
   "cell_type": "markdown",
   "metadata": {},
   "source": [
    "The set of equations to solve are:\n",
    "\n",
    "\n",
    "\\begin{align*}\n",
    "{\\rm d}\\left\\langle \\sigma_{x}^{k}\\right\\rangle  & =\\left(-\\Delta\\left\\langle \\sigma_{y}^{k}\\right\\rangle +2C_{0}^{0}\\Omega\\left\\langle \\sigma_{z}^{k}\\right\\rangle \\mathcal{I}\\left({\\rm e}^{{\\rm i}\\overrightarrow{{\\rm k}}_{{\\rm L}}\\cdot\\overrightarrow{r}_{k}}\\left(\\hat{e}_{{\\rm L}}\\cdot\\hat{e}_{0}^{*}\\right)\\right)-\\left(C_{0}^{0}\\right)^{2}\\left(\\overrightarrow{\\mathcal{R}}_{0,0}^{k}\\cdot\\left\\langle \\overrightarrow{\\sigma}_{y}\\right\\rangle \\right)\\left\\langle \\sigma_{z}^{k}\\right\\rangle \\right.\\\\\n",
    " & \\,\\,\\,\\,\\,\\left.+\\left(C_{0}^{0}\\right)^{2}\\Gamma\\left(\\left\\langle S^{x}\\right\\rangle \\left\\langle \\sigma_{z}^{k}\\right\\rangle -\\frac{\\left\\langle \\sigma_{x}^{k}\\right\\rangle \\left(1+\\left\\langle \\sigma_{z}^{k}\\right\\rangle \\right)}{2}\\right)\\right){\\rm d}t-C_{0}^{0}\\sqrt{\\Gamma}\\left\\langle \\sigma_{y}^{k}\\right\\rangle {\\rm d}W,\\\\\n",
    "{\\rm d}_{t}\\left\\langle \\sigma_{y}^{k}\\right\\rangle  & =\\left(\\Delta\\left\\langle \\sigma_{x}^{k}\\right\\rangle +2C_{0}^{0}\\Omega\\left\\langle \\sigma_{z}^{k}\\right\\rangle \\mathcal{R}\\left({\\rm e}^{{\\rm i}\\overrightarrow{{\\rm k}}_{{\\rm L}}\\cdot\\overrightarrow{r}_{k}}\\left(\\hat{e}_{{\\rm L}}\\cdot\\hat{e}_{0}^{*}\\right)\\right)+\\left(C_{0}^{0}\\right)^{2}\\left\\langle \\sigma_{z}^{k}\\right\\rangle \\left(\\overrightarrow{\\mathcal{R}}_{0,0}^{k}\\cdot\\left\\langle \\overrightarrow{\\sigma}_{x}\\right\\rangle \\right)\\right.\\\\\n",
    " & \\,\\,\\,\\,\\,\\left.+\\left(C_{0}^{0}\\right)^{2}\\Gamma\\left(\\left\\langle S^{y}\\right\\rangle \\left\\langle \\sigma_{z}^{k}\\right\\rangle -\\frac{\\left\\langle \\sigma_{y}^{k}\\right\\rangle \\left(1+\\left\\langle \\sigma_{z}^{k}\\right\\rangle \\right)}{2}\\right)\\right){\\rm d}t+C_{0}^{0}\\sqrt{\\Gamma}\\left\\langle \\sigma_{x}^{k}\\right\\rangle {\\rm d}W,\\\\\n",
    "{\\rm d}_{t}\\left\\langle \\sigma_{z}^{k}\\right\\rangle  & =\\left(-2C_{0}^{0}\\Omega\\left(\\left\\langle \\sigma_{x}^{k}\\right\\rangle \\mathcal{I}\\left({\\rm e}^{{\\rm i}\\overrightarrow{{\\rm k}}_{{\\rm L}}\\cdot\\overrightarrow{r}_{k}}\\left(\\hat{e}_{{\\rm L}}\\cdot\\hat{e}_{0}^{*}\\right)\\right)+\\left\\langle \\sigma_{y}^{k}\\right\\rangle \\mathcal{R}\\left({\\rm e}^{{\\rm i}\\overrightarrow{{\\rm k}}_{{\\rm L}}\\cdot\\overrightarrow{r}_{k}}\\left(\\hat{e}_{{\\rm L}}\\cdot\\hat{e}_{0}^{*}\\right)\\right)\\right)\\right.\\\\\n",
    " & \\,\\,\\,\\,\\,\\left.-\\left(C_{0}^{0}\\right)^{2}\\overrightarrow{\\mathcal{R}}_{0,0}^{k}\\cdot\\left(\\left\\langle \\overrightarrow{\\sigma}_{x}\\right\\rangle \\left\\langle \\sigma_{y}^{k}\\right\\rangle -\\left\\langle \\sigma_{x}^{k}\\right\\rangle \\left\\langle \\overrightarrow{\\sigma}_{y}\\right\\rangle \\right)-\\left(C_{0}^{0}\\right)^{2}\\Gamma\\left(\\left\\langle \\sigma_{x}^{k}\\right\\rangle \\left\\langle S^{x}\\right\\rangle +\\left\\langle \\sigma_{y}^{k}\\right\\rangle \\left\\langle S^{y}\\right\\rangle +1+\\left\\langle \\sigma_{z}^{k}\\right\\rangle -\\frac{\\left\\langle \\sigma_{x}^{k}\\right\\rangle ^{2}+\\left\\langle \\sigma_{y}^{k}\\right\\rangle ^{2}}{2}\\right)\\right){\\rm d}t\\\\\n",
    " & \\,\\,\\,\\,\\,+C_{0}^{0}\\sqrt{\\Gamma}\\left(1+\\left\\langle \\sigma_{z}^{k}\\right\\rangle \\right){\\rm d}W.\n",
    "\\end{align*}\n",
    "\n",
    "Writing in matricial form:\n",
    "\n",
    "\n",
    "\\begin{align*}\n",
    "\\left\\langle \\overrightarrow{s}_{k}\\right\\rangle  & =\\begin{pmatrix}\\left\\langle \\sigma_{x}^{k}\\right\\rangle \\\\\n",
    "\\left\\langle \\sigma_{y}^{k}\\right\\rangle \\\\\n",
    "\\left\\langle \\sigma_{z}^{k}\\right\\rangle \n",
    "\\end{pmatrix},\\\\\n",
    "{\\rm d}\\left\\langle \\overrightarrow{s}_{k}\\right\\rangle  & =A_{k}\\left\\langle \\overrightarrow{s}_{k}\\right\\rangle {\\rm d}t-\\left(C_{0}^{0}\\right)^{2}\\Gamma\\begin{pmatrix}0\\\\\n",
    "0\\\\\n",
    "1\n",
    "\\end{pmatrix}{\\rm d}t+C_{0}^{0}\\sqrt{\\Gamma}\\begin{pmatrix}-\\left\\langle \\sigma_{y}^{k}\\right\\rangle \\\\\n",
    " \\left\\langle \\sigma_{x}^{k}\\right\\rangle \\\\\n",
    " 1+\\left\\langle \\sigma_{z}^{k}\\right\\rangle \n",
    "\\end{pmatrix}{\\rm d}W\\\\\n",
    "A_{k}^{xx} & =-\\left(C_{0}^{0}\\right)^{2}\\Gamma\\frac{\\left(1+\\left\\langle \\sigma_{z}^{k}\\right\\rangle \\right)}{2},\\\\\n",
    "A_{k}^{xy} & =-\\Delta,\\\\\n",
    "A_{k}^{xz} & =2C_{0}^{0}\\Omega\\mathcal{I}\\left({\\rm e}^{{\\rm i}\\overrightarrow{{\\rm k}}_{{\\rm L}}\\cdot\\overrightarrow{r}_{k}}\\left(\\hat{e}_{{\\rm L}}\\cdot\\hat{e}_{0}^{*}\\right)\\right)-\\left(C_{0}^{0}\\right)^{2}\\left(\\overrightarrow{\\mathcal{R}}_{0,0}^{k}\\cdot\\left\\langle \\overrightarrow{\\sigma}_{y}\\right\\rangle \\right)+\\left(C_{0}^{0}\\right)^{2}\\Gamma\\left\\langle S^{x}\\right\\rangle ,\\\\\n",
    "A_{k}^{yx} & =\\Delta,\\\\\n",
    "A_{k}^{yy} & =-\\left(C_{0}^{0}\\right)^{2}\\Gamma\\frac{\\left(1+\\left\\langle \\sigma_{z}^{k}\\right\\rangle \\right)}{2},\\\\\n",
    "A_{k}^{yz} & =2C_{0}^{0}\\Omega\\mathcal{R}\\left({\\rm e}^{{\\rm i}\\overrightarrow{{\\rm k}}_{{\\rm L}}\\cdot\\overrightarrow{r}_{k}}\\left(\\hat{e}_{{\\rm L}}\\cdot\\hat{e}_{0}^{*}\\right)\\right)+\\left(C_{0}^{0}\\right)^{2}\\left(\\overrightarrow{\\mathcal{R}}_{0,0}^{k}\\cdot\\left\\langle \\overrightarrow{\\sigma}_{x}\\right\\rangle \\right)+\\left(C_{0}^{0}\\right)^{2}\\Gamma\\left\\langle S^{y}\\right\\rangle ,\\\\\n",
    "A_{k}^{zx} & =-2C_{0}^{0}\\Omega\\mathcal{I}\\left({\\rm e}^{{\\rm i}\\overrightarrow{{\\rm k}}_{{\\rm L}}\\cdot\\overrightarrow{r}_{k}}\\left(\\hat{e}_{{\\rm L}}\\cdot\\hat{e}_{0}^{*}\\right)\\right)+\\left(C_{0}^{0}\\right)^{2}\\overrightarrow{\\mathcal{R}}_{0,0}^{k}\\cdot\\left\\langle \\overrightarrow{\\sigma}_{y}\\right\\rangle -\\left(C_{0}^{0}\\right)^{2}\\Gamma\\left(\\left\\langle S^{x}\\right\\rangle -\\frac{\\left\\langle \\sigma_{x}^{k}\\right\\rangle }{2}\\right)\\\\\n",
    "A_{k}^{zy} & =-2C_{0}^{0}\\Omega\\mathcal{R}\\left({\\rm e}^{{\\rm i}\\overrightarrow{{\\rm k}}_{{\\rm L}}\\cdot\\overrightarrow{r}_{k}}\\left(\\hat{e}_{{\\rm L}}\\cdot\\hat{e}_{0}^{*}\\right)\\right)-\\left(C_{0}^{0}\\right)^{2}\\overrightarrow{\\mathcal{R}}_{0,0}^{k}\\cdot\\left\\langle \\overrightarrow{\\sigma}_{x}\\right\\rangle -\\left(C_{0}^{0}\\right)^{2}\\Gamma\\left(\\left\\langle S^{y}\\right\\rangle -\\frac{\\left\\langle \\sigma_{y}^{k}\\right\\rangle }{2}\\right)\\\\\n",
    "A_{k}^{zz} & =-\\left(C_{0}^{0}\\right)^{2}\\Gamma.\n",
    "\\end{align*}\n",
    "\n",
    "We can observe that we can separate $A_{k}$ into an antisymmetric matrix and a “decay” matrix.\n",
    "\n",
    "\\begin{align*}\n",
    "A_{k} & =C_{k}+D_{k},\\\\\n",
    "C_{k}^{{\\rm T}} & =-C_{k},\\\\\n",
    "D_{k}^{xx} & =-\\left(C_{0}^{0}\\right)^{2}\\Gamma\\frac{\\left(1+\\left\\langle \\sigma_{z}^{k}\\right\\rangle \\right)}{2},\\\\\n",
    "D_{k}^{yy} & =-\\left(C_{0}^{0}\\right)^{2}\\Gamma\\frac{\\left(1+\\left\\langle \\sigma_{z}^{k}\\right\\rangle \\right)}{2},\\\\\n",
    "D_{k}^{zx} & =\\left(C_{0}^{0}\\right)^{2}\\Gamma\\frac{\\left\\langle \\sigma_{x}^{k}\\right\\rangle }{2},\\\\\n",
    "D_{k}^{zy} & =\\left(C_{0}^{0}\\right)^{2}\\Gamma\\frac{\\left\\langle \\sigma_{y}^{k}\\right\\rangle }{2},\\\\\n",
    "D_{k}^{zz} & =-\\left(C_{0}^{0}\\right)^{2}\\Gamma,\\\\\n",
    "C_{k}^{xy} & =-\\Delta,\\\\\n",
    "C_{k}^{xz} & =2C_{0}^{0}\\Omega\\mathcal{I}\\left({\\rm e}^{{\\rm i}\\overrightarrow{{\\rm k}}_{{\\rm L}}\\cdot\\overrightarrow{r}_{k}}\\left(\\hat{e}_{{\\rm L}}\\cdot\\hat{e}_{0}^{*}\\right)\\right)-\\left(C_{0}^{0}\\right)^{2}\\left(\\overrightarrow{\\mathcal{R}}_{0,0}^{k}\\cdot\\left\\langle \\overrightarrow{\\sigma}_{y}\\right\\rangle \\right)+\\left(C_{0}^{0}\\right)^{2}\\Gamma\\left\\langle S^{x}\\right\\rangle ,\\\\\n",
    "C_{k}^{yz} & =2C_{0}^{0}\\Omega\\mathcal{R}\\left({\\rm e}^{{\\rm i}\\overrightarrow{{\\rm k}}_{{\\rm L}}\\cdot\\overrightarrow{r}_{k}}\\left(\\hat{e}_{{\\rm L}}\\cdot\\hat{e}_{0}^{*}\\right)\\right)+\\left(C_{0}^{0}\\right)^{2}\\left(\\overrightarrow{\\mathcal{R}}_{0,0}^{k}\\cdot\\left\\langle \\overrightarrow{\\sigma}_{x}\\right\\rangle \\right)+\\left(C_{0}^{0}\\right)^{2}\\Gamma\\left\\langle S^{y}\\right\\rangle .\n",
    "\\end{align*}\n",
    "\n",
    "where:\n",
    "\n",
    "\\begin{align*}\n",
    "\\overrightarrow{\\mathcal{R}}_{0,0}^{k} & =\\begin{pmatrix}\\mathcal{R}_{0,0}^{k0}\\\\\n",
    "\\mathcal{R}_{0,0}^{k1}\\\\\n",
    "\\vdots\\\\\n",
    "\\mathcal{R}_{0,0}^{k\\left(N-1\\right)}\n",
    "\\end{pmatrix},\\\\\n",
    "\\left\\langle \\overrightarrow{\\sigma}_{\\alpha}\\right\\rangle  & =\\begin{pmatrix}\\left\\langle \\sigma_{\\alpha}^{0}\\right\\rangle \\\\\n",
    "\\left\\langle \\sigma_{\\alpha}^{1}\\right\\rangle \\\\\n",
    "\\vdots\\\\\n",
    "\\left\\langle \\sigma_{\\alpha}^{N-1}\\right\\rangle \n",
    "\\end{pmatrix}.\n",
    "\\end{align*}\n",
    "\n",
    "Writing in a more suitable form:\n",
    "\n",
    "\n",
    "\\begin{align*}\n",
    "{\\rm d}\\left\\langle \\sigma_{x}^{k}\\right\\rangle  & =\\left(-\\Delta\\left\\langle \\sigma_{y}^{k}\\right\\rangle +2C_{0}^{0}\\Omega\\left\\langle \\sigma_{z}^{k}\\right\\rangle \\mathcal{I}\\left({\\rm e}^{{\\rm i}\\overrightarrow{{\\rm k}}_{{\\rm L}}\\cdot\\overrightarrow{r}_{k}}\\left(\\hat{e}_{{\\rm L}}\\cdot\\hat{e}_{0}^{*}\\right)\\right)-\\left(C_{0}^{0}\\right)^{2}\\left(\\overrightarrow{\\mathcal{R}}_{0,0}^{k}\\cdot\\left\\langle \\overrightarrow{\\sigma}_{y}\\right\\rangle \\right)\\left\\langle \\sigma_{z}^{k}\\right\\rangle +\\left(C_{0}^{0}\\right)^{2}\\Gamma\\left(\\left\\langle S^{x}\\right\\rangle \\left\\langle \\sigma_{z}^{k}\\right\\rangle -\\frac{\\left\\langle \\sigma_{x}^{k}\\right\\rangle \\left(1+\\left\\langle \\sigma_{z}^{k}\\right\\rangle \\right)}{2}\\right)\\right){\\rm d}t-C_{0}^{0}\\sqrt{\\Gamma}\\left\\langle \\sigma_{y}^{k}\\right\\rangle {\\rm d}W,\\\\\n",
    "{\\rm d}_{t}\\left\\langle \\sigma_{y}^{k}\\right\\rangle  & =\\left(\\Delta\\left\\langle \\sigma_{x}^{k}\\right\\rangle +2C_{0}^{0}\\Omega\\left\\langle \\sigma_{z}^{k}\\right\\rangle \\mathcal{R}\\left({\\rm e}^{{\\rm i}\\overrightarrow{{\\rm k}}_{{\\rm L}}\\cdot\\overrightarrow{r}_{k}}\\left(\\hat{e}_{{\\rm L}}\\cdot\\hat{e}_{0}^{*}\\right)\\right)+\\left(C_{0}^{0}\\right)^{2}\\left\\langle \\sigma_{z}^{k}\\right\\rangle \\left(\\overrightarrow{\\mathcal{R}}_{0,0}^{k}\\cdot\\left\\langle \\overrightarrow{\\sigma}_{x}\\right\\rangle \\right)+\\left(C_{0}^{0}\\right)^{2}\\Gamma\\left(\\left\\langle S^{y}\\right\\rangle \\left\\langle \\sigma_{z}^{k}\\right\\rangle -\\frac{\\left\\langle \\sigma_{y}^{k}\\right\\rangle \\left(1+\\left\\langle \\sigma_{z}^{k}\\right\\rangle \\right)}{2}\\right)\\right){\\rm d}t+C_{0}^{0}\\sqrt{\\Gamma}\\left\\langle \\sigma_{x}^{k}\\right\\rangle {\\rm d}W,\\\\\n",
    "{\\rm d}_{t}\\left\\langle \\sigma_{z}^{k}\\right\\rangle  & =\\left(-2C_{0}^{0}\\Omega\\left(\\left\\langle \\sigma_{x}^{k}\\right\\rangle \\mathcal{I}\\left({\\rm e}^{{\\rm i}\\overrightarrow{{\\rm k}}_{{\\rm L}}\\cdot\\overrightarrow{r}_{k}}\\left(\\hat{e}_{{\\rm L}}\\cdot\\hat{e}_{0}^{*}\\right)\\right)+\\left\\langle \\sigma_{y}^{k}\\right\\rangle \\mathcal{R}\\left({\\rm e}^{{\\rm i}\\overrightarrow{{\\rm k}}_{{\\rm L}}\\cdot\\overrightarrow{r}_{k}}\\left(\\hat{e}_{{\\rm L}}\\cdot\\hat{e}_{0}^{*}\\right)\\right)\\right)-\\left(C_{0}^{0}\\right)^{2}\\overrightarrow{\\mathcal{R}}_{0,0}^{k}\\cdot\\left(\\left\\langle \\overrightarrow{\\sigma}_{x}\\right\\rangle \\left\\langle \\sigma_{y}^{k}\\right\\rangle -\\left\\langle \\sigma_{x}^{k}\\right\\rangle \\left\\langle \\overrightarrow{\\sigma}_{y}\\right\\rangle \\right)\\right){\\rm d}t\\\\\n",
    " & \\,\\,\\,\\,\\,-\\left(C_{0}^{0}\\right)^{2}\\Gamma\\left(\\left\\langle \\sigma_{x}^{k}\\right\\rangle \\left\\langle S^{x}\\right\\rangle +\\left\\langle \\sigma_{y}^{k}\\right\\rangle \\left\\langle S^{y}\\right\\rangle +1+\\left\\langle \\sigma_{z}^{k}\\right\\rangle -\\frac{\\left\\langle \\sigma_{x}^{k}\\right\\rangle ^{2}+\\left\\langle \\sigma_{y}^{k}\\right\\rangle ^{2}}{2}\\right){\\rm d}t+C_{0}^{0}\\sqrt{\\Gamma}\\left(1+\\left\\langle \\sigma_{z}^{k}\\right\\rangle \\right){\\rm d}W.\n",
    "\\end{align*}\n",
    "\n",
    "Define:\n",
    "\n",
    "\\begin{align*}\n",
    "\\mathcal{R}_{{\\rm L}k} & \\equiv\\mathcal{R}\\left({\\rm e}^{{\\rm i}\\overrightarrow{{\\rm k}}_{{\\rm L}}\\cdot\\overrightarrow{r}_{k}}\\left(\\hat{e}_{{\\rm L}}\\cdot\\hat{e}_{0}^{*}\\right)\\right),\\\\\n",
    "\\mathcal{I}_{{\\rm L}k} & \\equiv\\mathcal{I}\\left({\\rm e}^{{\\rm i}\\overrightarrow{{\\rm k}}_{{\\rm L}}\\cdot\\overrightarrow{r}_{k}}\\left(\\hat{e}_{{\\rm L}}\\cdot\\hat{e}_{0}^{*}\\right)\\right).\n",
    "\\end{align*}\n",
    "\n",
    "In this case:\n",
    "\n",
    "\n",
    "\\begin{align*}\n",
    "{\\rm d}\\left\\langle \\sigma_{x}^{k}\\right\\rangle  & =\\left(\\!-\\Delta\\left\\langle \\sigma_{y}^{k}\\right\\rangle +2C_{0}^{0}\\Omega\\left\\langle \\sigma_{z}^{k}\\right\\rangle \\mathcal{I}_{{\\rm L}k}-\\left(C_{0}^{0}\\right)^{4}\\overrightarrow{\\mathcal{R}}_{0,0}^{k}\\cdot\\left\\langle \\overrightarrow{\\sigma}_{y}\\right\\rangle \\!\\left\\langle \\sigma_{z}^{k}\\right\\rangle +\\left(C_{0}^{0}\\right)^{2}\\Gamma\\left(\\!\\left\\langle S^{x}\\right\\rangle \\left\\langle \\sigma_{z}^{k}\\right\\rangle -\\frac{\\left\\langle \\sigma_{x}^{k}\\right\\rangle \\left(1+\\left\\langle \\sigma_{z}^{k}\\right\\rangle \\right)}{2}\\!\\right)\\!\\right){\\rm d}t-C_{0}^{0}\\sqrt{\\Gamma}\\left\\langle \\sigma_{y}^{k}\\right\\rangle {\\rm d}W,\\\\\n",
    "{\\rm d}_{t}\\left\\langle \\sigma_{y}^{k}\\right\\rangle  & =\\left(\\!\\Delta\\left\\langle \\sigma_{x}^{k}\\right\\rangle +2C_{0}^{0}\\Omega\\left\\langle \\sigma_{z}^{k}\\right\\rangle \\mathcal{R}_{{\\rm L}k}+\\left(C_{0}^{0}\\right)^{4}\\left\\langle \\sigma_{z}^{k}\\right\\rangle \\left(\\overrightarrow{\\mathcal{R}}_{0,0}^{k}\\cdot\\left\\langle \\overrightarrow{\\sigma}_{x}\\right\\rangle \\right)+\\left(C_{0}^{0}\\right)^{2}\\Gamma\\left(\\!\\left\\langle S^{y}\\right\\rangle \\left\\langle \\sigma_{z}^{k}\\right\\rangle -\\frac{\\left\\langle \\sigma_{y}^{k}\\right\\rangle \\left(1+\\left\\langle \\sigma_{z}^{k}\\right\\rangle \\right)}{2}\\!\\right)\\!\\right){\\rm d}t+C_{0}^{0}\\sqrt{\\Gamma}\\left\\langle \\sigma_{x}^{k}\\right\\rangle {\\rm d}W,\\\\\n",
    "{\\rm d}_{t}\\left\\langle \\sigma_{z}^{k}\\right\\rangle  & =\\left(-2C_{0}^{0}\\Omega\\left(\\left\\langle \\sigma_{x}^{k}\\right\\rangle \\mathcal{I}_{{\\rm L}k}+\\left\\langle \\sigma_{y}^{k}\\right\\rangle \\mathcal{R}_{{\\rm L}k}\\right)-\\left(C_{0}^{0}\\right)^{4}\\overrightarrow{\\mathcal{R}}_{0,0}^{k}\\cdot\\left(\\left\\langle \\overrightarrow{\\sigma}_{x}\\right\\rangle \\left\\langle \\sigma_{y}^{k}\\right\\rangle -\\left\\langle \\sigma_{x}^{k}\\right\\rangle \\left\\langle \\overrightarrow{\\sigma}_{y}\\right\\rangle \\right)\\right){\\rm d}t+C_{0}^{0}\\sqrt{\\Gamma}\\left(1+\\left\\langle \\sigma_{z}^{k}\\right\\rangle \\right){\\rm d}W\\\\\n",
    " & \\,\\,\\,\\,\\,-\\left(C_{0}^{0}\\right)^{2}\\Gamma\\left(\\left\\langle \\sigma_{x}^{k}\\right\\rangle \\left\\langle S^{x}\\right\\rangle +\\left\\langle \\sigma_{y}^{k}\\right\\rangle \\left\\langle S^{y}\\right\\rangle +1+\\left\\langle \\sigma_{z}^{k}\\right\\rangle -\\frac{\\left\\langle \\sigma_{x}^{k}\\right\\rangle ^{2}+\\left\\langle \\sigma_{y}^{k}\\right\\rangle ^{2}}{2}\\right){\\rm d}t.\n",
    "\\end{align*}\n",
    "\n",
    "In order to perform the sampling using the rotated basis consider the following equation:\n",
    "\n",
    "\n",
    "\\begin{equation}\n",
    "{\\rm d}\\left\\langle \\overrightarrow{S}^{{\\rm R}}\\right\\rangle ={\\rm R\\left(\\left(A\\left({\\rm R}^{{\\rm T}}\\left\\langle \\overrightarrow{S}^{{\\rm R}}\\right\\rangle \\right){\\rm R}^{{\\rm T}}\\left\\langle \\overrightarrow{S}^{{\\rm R}}\\right\\rangle +\\overrightarrow{b}\\left({\\rm R}^{{\\rm T}}\\left\\langle \\overrightarrow{S}^{{\\rm R}}\\right\\rangle \\right)\\right){\\rm d}t+\\overrightarrow{g}\\left({\\rm R}^{{\\rm T}}\\left\\langle \\overrightarrow{S}^{{\\rm R}}\\right\\rangle \\right){\\rm d}W\\right)}.\n",
    "\\end{equation}"
   ]
  },
  {
   "cell_type": "code",
   "execution_count": 4,
   "metadata": {},
   "outputs": [],
   "source": [
    "#t0=time.time()"
   ]
  },
  {
   "cell_type": "markdown",
   "metadata": {},
   "source": [
    "# Parameters"
   ]
  },
  {
   "cell_type": "code",
   "execution_count": 65,
   "metadata": {},
   "outputs": [
    {
     "data": {
      "text/plain": [
       "1.0"
      ]
     },
     "execution_count": 65,
     "metadata": {},
     "output_type": "execute_result"
    }
   ],
   "source": [
    "#Parameters  (Check the units)\n",
    "\n",
    "N_atom= 4          #Number of atoms\n",
    "g_c   = 7.5\n",
    "kappa=15*g_c*sqrt(N_atom)\n",
    "\n",
    "Gamma_dec=4*(g_c**2)/kappa\n",
    "\n",
    "Gamma_r=Gamma_dec#  2*pi*6e6  #reference\n",
    "\n",
    "Omega=4.5*Gamma_r  #Driving frequency , What are the units?\n",
    "\n",
    "\n",
    "lambda_r=1    # in units\n",
    "\n",
    "Lambda_las=1     # in units    Gamma_r*2*pi/(wL/c_light)   #Laser wavelenght  , What are the units?\n",
    "\n",
    "e_L=array([0,1,0]/sqrt(1))\n",
    "\n",
    "\n",
    "Theta1=pi/2\n",
    "Theta2=pi/2   #they got [0,1,0]\n",
    "\n",
    "e_0=array([sin(Theta1)*cos(Theta2),sin(Theta1)*sin(Theta2),cos(Theta1)])\n",
    "\n",
    "K_laser=(2*pi/Lambda_las)*array([1,0,0])\n",
    "\n",
    "k0=2*pi/Lambda_las\n",
    "\n",
    "\n",
    "\n",
    "Gamma_dec\n"
   ]
  },
  {
   "cell_type": "markdown",
   "metadata": {},
   "source": [
    "# Clebsch-Gordan coefficient"
   ]
  },
  {
   "cell_type": "code",
   "execution_count": 66,
   "metadata": {},
   "outputs": [],
   "source": [
    "# Clebsch-Gordan coefficient\n",
    "\n",
    "C00=1    #will change due to the transition nature\n"
   ]
  },
  {
   "cell_type": "markdown",
   "metadata": {},
   "source": [
    "# Positions"
   ]
  },
  {
   "cell_type": "code",
   "execution_count": 67,
   "metadata": {},
   "outputs": [],
   "source": [
    "# Positions\n",
    "\n",
    "\n",
    "## Oblate Variances matrix: Set the shape of the atoms cloud\n",
    "\n",
    "Sigma_x=20 *lambda_r    \n",
    "Sigma_y=0.6*lambda_r    \n",
    "Sigma_z=Sigma_y        \n",
    "\n",
    "\n",
    "Oblate_variances=zeros((3,3))\n",
    "\n",
    "Oblate_variances[0][0]=Sigma_x\n",
    "Oblate_variances[1][1]=Sigma_y\n",
    "Oblate_variances[2][2]=Sigma_z\n",
    "\n",
    "Miu_pos=[0 , 0, 0]\n",
    "\n",
    "Pos_atoms=(random.multivariate_normal(Miu_pos, Oblate_variances, N_atom))\n"
   ]
  },
  {
   "cell_type": "code",
   "execution_count": 68,
   "metadata": {},
   "outputs": [
    {
     "data": {
      "text/plain": [
       "array([[0. , 0. , 0. ],\n",
       "       [0.1, 0. , 0. ],\n",
       "       [0.2, 0. , 0. ],\n",
       "       [0.3, 0. , 0. ]])"
      ]
     },
     "execution_count": 68,
     "metadata": {},
     "output_type": "execute_result"
    }
   ],
   "source": [
    "d_r=0.1\n",
    "\n",
    "for j in range(N_atom):\n",
    "    Pos_atoms[j]=np.array([d_r*Lambda_las*j,0,0])\n",
    "    \n",
    "\n",
    "#Pos_atoms\n",
    "Pos_atoms    "
   ]
  },
  {
   "cell_type": "markdown",
   "metadata": {},
   "source": [
    "# Construct $I_{Lk}$ and $R_{Lk}$"
   ]
  },
  {
   "cell_type": "code",
   "execution_count": 69,
   "metadata": {},
   "outputs": [],
   "source": [
    "# Construct I_Lk and R_Lk\n",
    "\n",
    "\n",
    "eL_e0c=dot(e_L,conj(e_0))\n",
    "\n",
    "\n",
    "DotKL_rk=[]   #summarize k_L.r_k for all k\n",
    "\n",
    "for j in range(N_atom):\n",
    "    DotKL_rk.append(dot(Pos_atoms[j],K_laser))\n",
    "\n",
    "DotKL_rk_exp=exp(1j*array(DotKL_rk))\n",
    "\n",
    "\n",
    "ImL_k=imag(DotKL_rk_exp*eL_e0c)\n",
    "RmL_k=real(DotKL_rk_exp*eL_e0c)\n"
   ]
  },
  {
   "cell_type": "code",
   "execution_count": 70,
   "metadata": {},
   "outputs": [],
   "source": [
    "conj_0=conj(e_0)"
   ]
  },
  {
   "cell_type": "code",
   "execution_count": 71,
   "metadata": {},
   "outputs": [],
   "source": [
    "from numpy.random import normal\n",
    "\n"
   ]
  },
  {
   "cell_type": "markdown",
   "metadata": {},
   "source": [
    "# Sampling"
   ]
  },
  {
   "cell_type": "code",
   "execution_count": 72,
   "metadata": {},
   "outputs": [],
   "source": [
    "\n",
    "def init_state(N_atom=N_atom):\n",
    "    elements = [-1, 1]\n",
    "    probabilities = [0.5, 0.5]\n",
    "    Measurements=list(choice(elements, 2*N_atom, p=probabilities))\n",
    "    for j in range(N_atom):\n",
    "\n",
    "        Measurements.insert(2+3*j,-1)   #We start at |g>\n",
    "        \n",
    "    Measurements.append(normal(0, 0.5)) # Measure a_x\n",
    "    Measurements.append(normal(0, 0.5)) # Measure a_y\n",
    "        \n",
    "    return Measurements\n",
    "    \n",
    "\n",
    "    \n",
    "# Separate in Sx, Sy and Sz\n",
    "#@jit\n",
    "def get_s_alpha(Measur):\n",
    "    \n",
    "    Arr_retX=[]\n",
    "    Arr_retY=[]\n",
    "    Arr_retZ=[]\n",
    "    \n",
    "    for j in range(N_atom):\n",
    "        Arr_retX.append(Measur[3*j])\n",
    "        Arr_retY.append(Measur[3*j+1])\n",
    "        Arr_retZ.append(Measur[3*j+2])\n",
    "        \n",
    "    ax=Measur[-2]\n",
    "    ay=Measur[-1]\n",
    "    \n",
    "    return Arr_retX,Arr_retY,Arr_retZ, ax, ay   "
   ]
  },
  {
   "cell_type": "code",
   "execution_count": null,
   "metadata": {},
   "outputs": [],
   "source": []
  },
  {
   "cell_type": "markdown",
   "metadata": {},
   "source": [
    "# Construct $R_{00}$"
   ]
  },
  {
   "cell_type": "code",
   "execution_count": 73,
   "metadata": {},
   "outputs": [],
   "source": [
    "# Construct the matrix R00\n",
    "#t0=time.time()\n",
    "\n",
    "#@jit\n",
    "def fun_Pkl0(k,l,k0=k0):\n",
    "    \n",
    "    VecR_kl=Pos_atoms[k]-Pos_atoms[l]\n",
    "    R_kl=sqrt(dot(VecR_kl,VecR_kl))\n",
    "    #R_kl=norm(VecR_kl)\n",
    "    \n",
    "    \n",
    "    #Pkl0=dot(conj(e_0),VecR_kl)\n",
    "    Pkl0=dot(conj_0,VecR_kl)/R_kl\n",
    "    Pkl_0nC=(abs(Pkl0))**2\n",
    "    \n",
    "    M0kl=k0*R_kl\n",
    "    \n",
    "    return (1-Pkl_0nC)/M0kl+(1-3*Pkl_0nC)*(1j/(M0kl)**2-1/(M0kl)**3)\n",
    "    \n",
    "\n",
    "\n",
    "MatL=zeros((N_atom,N_atom),dtype='complex')\n",
    "MatR=zeros((N_atom,N_atom),dtype='complex')\n",
    "\n",
    "\n",
    "for i in range(N_atom):\n",
    "    for j in range(i+1,N_atom):\n",
    "        \n",
    "        #MatL[i][j]=exp(1j*k0*dot(e_0,(Pos_atoms[i] -Pos_atoms[j])))\n",
    "        \n",
    "        Rij_V=Pos_atoms[i] -Pos_atoms[j] \n",
    "        \n",
    "        MatL[i][j]=exp(1j*k0*sqrt(dot( Rij_V , Rij_V) ) )\n",
    "        MatR[i][j]=fun_Pkl0(i,j,k0)\n",
    "\n",
    "        \n",
    "        \n",
    "MatR=MatR+MatR.T\n",
    "MatL=MatL+conj(MatL.T)\n",
    "\n",
    "R00=(3*Gamma_dec/4)*real(MatL*MatR)\n",
    "\n",
    "#t1=time.time()"
   ]
  },
  {
   "cell_type": "code",
   "execution_count": null,
   "metadata": {},
   "outputs": [],
   "source": []
  },
  {
   "cell_type": "markdown",
   "metadata": {},
   "source": [
    "\\begin{align}\n",
    "{\\rm d}\\left\\langle \\overrightarrow{s}_{k}\\right\\rangle  & =A_{k}\\left(\\left\\langle \\overrightarrow{s}\\right\\rangle \\right)\\left\\langle \\overrightarrow{s}_{k}\\right\\rangle {\\rm d}t,\\\\\n",
    "A_{k}\\left(\\left\\langle \\overrightarrow{s}\\right\\rangle \\right) & =-A_{k}\\left(\\left\\langle \\overrightarrow{s}\\right\\rangle \\right)^{{\\rm T}},\\\\\n",
    "A_{k02} & =2\\left(\\Omega\\mathcal{I}_{{\\rm L}k0}-g\\left\\langle a_{y}\\right\\rangle \\right)-\\mathcal{R}_{0,0}^{k}\\cdot\\left\\langle \\overrightarrow{\\sigma}_{y}\\right\\rangle ,\\\\\n",
    "A_{k12} & =2\\left(\\Omega\\mathcal{R}_{{\\rm L}k0}-g\\left\\langle a_{x}\\right\\rangle \\right)+\\mathcal{R}_{0,0}^{k}\\cdot\\left\\langle \\overrightarrow{\\sigma}_{x}\\right\\rangle ,\\\\\n",
    "A_{k} & =\\begin{pmatrix}0 & 0 & A_{k02}\\\\\n",
    "0 & 0 & A_{k12}\\\\\n",
    "-A_{k02} & -A_{k12} & 0\n",
    "\\end{pmatrix},\\\\\n",
    "{\\rm d}\\left\\langle a_{x}\\right\\rangle  & =-\\left(g\\left\\langle S_{y}\\right\\rangle +\\frac{\\kappa}{2}\\left\\langle a_{x}\\right\\rangle \\right){\\rm d}t+\\sqrt{\\frac{\\kappa}{4}}{\\rm d}W_{x},\\\\\n",
    "{\\rm d}\\left\\langle a_{y}\\right\\rangle  & =-\\left(g\\left\\langle S_{x}\\right\\rangle +\\frac{\\kappa}{2}\\left\\langle a_{y}\\right\\rangle \\right){\\rm d}t+\\sqrt{\\frac{\\kappa}{4}}{\\rm d}W_{y}.\n",
    "\\end{align}"
   ]
  },
  {
   "cell_type": "markdown",
   "metadata": {},
   "source": [
    "\\begin{align*}\n",
    "A_{k02} & =2\\left(\\Omega\\mathcal{I}_{{\\rm L}k0}-g\\left\\langle a_{y}\\right\\rangle \\right)-\\mathcal{R}_{0,0}^{k}\\cdot\\left\\langle \\overrightarrow{\\sigma}_{y}\\right\\rangle ,\\\\\n",
    "A_{k12} & =2\\left(\\Omega\\mathcal{R}_{{\\rm L}k0}-g\\left\\langle a_{x}\\right\\rangle \\right)+\\mathcal{R}_{0,0}^{k}\\cdot\\left\\langle \\overrightarrow{\\sigma}_{x}\\right\\rangle .\n",
    "\\end{align*}"
   ]
  },
  {
   "cell_type": "markdown",
   "metadata": {},
   "source": [
    "\n",
    "# Construct matrix $A_k$"
   ]
  },
  {
   "cell_type": "code",
   "execution_count": 74,
   "metadata": {},
   "outputs": [],
   "source": [
    "\n",
    "\n",
    "#@jit\n",
    "def Matrix_Ak(Pk,VectSx,VectSy,VectSz,a_x,a_y,g_c=g_c,DeltaL0=DeltaL0,C00=C00,Omega=Omega,Gamma_dec=Gamma_dec,N_atom=N_atom):\n",
    "    \n",
    "    \"\"\"\n",
    "    Pk: Index of the kth atom\n",
    "    VectSy: \\overrightarrow{\\sigma_y}\n",
    "    VectSx: \\overrightarrow{\\sigma_X}\n",
    "    \"\"\"\n",
    "\n",
    "    Axz_k=2*(Omega*ImL_k[Pk]-g_c*a_y)-dot(R00[Pk],VectSy)    \n",
    "    Ayz_k=2*(Omega*RmL_k[Pk]-g_c*a_x)+dot(R00[Pk],VectSx)\n",
    "    \n",
    "    Transl_i=3*Pk\n",
    "    \n",
    "    I = array([0,1])+Transl_i\n",
    "    J = array([2,2])+Transl_i\n",
    "    V = array([Axz_k,Ayz_k])\n",
    "    \n",
    "    Size_A=3*N_atom+2   #I added two degrees of freedom from the cavity\n",
    "    \n",
    "    Gen_k = coo_matrix((V,(I,J)),shape=(Size_A,Size_A))\n",
    "    \n",
    "    A_k   = Gen_k - Gen_k.T\n",
    "        \n",
    "    return A_k    #Here I changed the .to..dense()\n"
   ]
  },
  {
   "cell_type": "code",
   "execution_count": 75,
   "metadata": {},
   "outputs": [],
   "source": [
    "I_ax  =[]\n",
    "J_ax  =[]\n",
    "Val_a=[]\n",
    "\n",
    "I_ay  =[]\n",
    "J_ay  =[]\n",
    "\n",
    "\n",
    "for j in range(N_atom):\n",
    "    J_ax.append(3*j+1)\n",
    "    J_ay.append(3*j)\n",
    "    \n",
    "    I_ax.append(3*N_atom)\n",
    "    I_ay.append(3*N_atom+1)\n",
    "    \n",
    "    Val_a.append(-g_c/2)\n",
    "    "
   ]
  },
  {
   "cell_type": "code",
   "execution_count": null,
   "metadata": {},
   "outputs": [],
   "source": []
  },
  {
   "cell_type": "code",
   "execution_count": 76,
   "metadata": {},
   "outputs": [],
   "source": [
    "Size_A=3*N_atom+2\n",
    "\n",
    "A_boson=coo_matrix((2*Val_a+[-kappa/2,-kappa/2],(I_ax+I_ay+[3*N_atom,3*N_atom+1],J_ax+J_ay+[3*N_atom,3*N_atom+1])),shape=(Size_A,Size_A))"
   ]
  },
  {
   "cell_type": "code",
   "execution_count": null,
   "metadata": {},
   "outputs": [],
   "source": []
  },
  {
   "cell_type": "code",
   "execution_count": 77,
   "metadata": {},
   "outputs": [],
   "source": [
    "## alternative Under construction\n",
    "\n",
    "#@jit\n",
    "\n",
    "def Matrix_Ak(Pk,VectSx,VectSy,VectSz,a_x,a_y,g_c=g_c,DeltaL0=DeltaL0,C00=C00,Omega=Omega,Gamma_dec=Gamma_dec,N_atom=N_atom):\n",
    "    \n",
    "    \"\"\"\n",
    "    Pk: Index of the kth atom\n",
    "    VectSy: \\overrightarrow{\\sigma_y}\n",
    "    VectSx: \\overrightarrow{\\sigma_X}\n",
    "    \"\"\"\n",
    "\n",
    "    Axz_k=2*(Omega*ImL_k[Pk]-g_c*a_y)-dot(R00[Pk],VectSy)    \n",
    "    Ayz_k=2*(Omega*RmL_k[Pk]-g_c*a_x)+dot(R00[Pk],VectSx)\n",
    "    \n",
    "    Transl_i=3*Pk\n",
    "    \n",
    "    I = array([0,1])+Transl_i\n",
    "    J = array([2,2])+Transl_i\n",
    "    V = array([Axz_k,Ayz_k])\n",
    "    \n",
    "    Size_A=3*N_atom+2   #I added two degrees of freedom from the cavity\n",
    "    \n",
    "    Gen_k = coo_matrix((V,(I,J)),shape=(Size_A,Size_A))\n",
    "    \n",
    "    A_k   = Gen_k - Gen_k.T\n",
    "        \n",
    "    return A_k    #Here I changed the .to..dense()\n"
   ]
  },
  {
   "cell_type": "code",
   "execution_count": null,
   "metadata": {},
   "outputs": [],
   "source": []
  },
  {
   "cell_type": "code",
   "execution_count": null,
   "metadata": {},
   "outputs": [],
   "source": []
  },
  {
   "cell_type": "markdown",
   "metadata": {},
   "source": [
    "# Construct matrix $A$"
   ]
  },
  {
   "cell_type": "code",
   "execution_count": 78,
   "metadata": {},
   "outputs": [],
   "source": [
    "#@jit\n",
    "def Matrix_A(VectSx,VectSy,VectSz,a_x,a_y,g_c=g_c,DeltaL0=DeltaL0,C00=C00,Omega=Omega,Gamma_dec=Gamma_dec,N_atom=N_atom):\n",
    "    \n",
    "    Mat_A=Matrix_Ak(0,VectSx,VectSy,VectSz,a_x,a_y,g_c=g_c,DeltaL0=DeltaL0,C00=C00,Omega=Omega,Gamma_dec=Gamma_dec,N_atom=N_atom)\n",
    "    \n",
    "    for j in range(1,N_atom):\n",
    "        Mat_A=Mat_A+Matrix_Ak(j,VectSx,VectSy,VectSz,a_x,a_y,g_c=g_c,DeltaL0=DeltaL0,C00=C00,Omega=Omega,Gamma_dec=Gamma_dec,N_atom=N_atom)\n",
    "        \n",
    "    return Mat_A"
   ]
  },
  {
   "cell_type": "code",
   "execution_count": null,
   "metadata": {},
   "outputs": [],
   "source": []
  },
  {
   "cell_type": "markdown",
   "metadata": {},
   "source": [
    "# Construct the differential equations"
   ]
  },
  {
   "cell_type": "code",
   "execution_count": 79,
   "metadata": {},
   "outputs": [],
   "source": [
    "#%% Differential equation RHS function\n",
    "\n",
    "#%%%%%%%%%%%%%%%%%%%%%%%%%%%%%%%%%%%%%%%%%%%%%%%%%%%%%%%%%%%%%%%%%%%\n",
    "\n",
    "\n",
    "#  @jit seems to be better for large arrays\n",
    "\n",
    "@jit\n",
    "def f(yR, t,A_boson=A_boson,g_c=g_c,DeltaL0=DeltaL0,C00=C00,Omega=Omega,Gamma_dec=Gamma_dec,N_atom=N_atom):#  ,TransR_m=TransR_m,Rot_R=Rot_R,C00=C00,Gamma_dec=Gamma_dec,b_funct=b_funct):\n",
    "    \n",
    "    \n",
    "    # Here yR is an array in the x,y and z basis plus ax and ay\n",
    "    \n",
    "    Separ_alpha=get_s_alpha(yR)\n",
    "    \n",
    "    \n",
    "    yOr_x,yOr_y,yOr_z,a_x,a_y=Separ_alpha[0],Separ_alpha[1],Separ_alpha[2],Separ_alpha[3],Separ_alpha[4] \n",
    "\n",
    "    \n",
    "    MatA=( Matrix_A(yOr_x,yOr_y,yOr_z,a_x,a_y) + A_boson )@yR\n",
    "    \n",
    "\n",
    "    return MatA\n",
    "    "
   ]
  },
  {
   "cell_type": "code",
   "execution_count": null,
   "metadata": {},
   "outputs": [],
   "source": []
  },
  {
   "cell_type": "code",
   "execution_count": 80,
   "metadata": {},
   "outputs": [],
   "source": [
    "Vec_ax=np.zeros((3*N_atom+2,)) #,dtype='float64')\n",
    "Vec_ax[3*N_atom]=1\n",
    "\n",
    "Vec_ay=np.zeros((3*N_atom+2,)) #,dtype='float64')\n",
    "Vec_ay[3*N_atom+1]=1"
   ]
  },
  {
   "cell_type": "code",
   "execution_count": null,
   "metadata": {},
   "outputs": [],
   "source": []
  },
  {
   "cell_type": "markdown",
   "metadata": {},
   "source": [
    "# Euler-Maruyama"
   ]
  },
  {
   "cell_type": "code",
   "execution_count": 97,
   "metadata": {},
   "outputs": [
    {
     "data": {
      "text/plain": [
       "0.0003"
      ]
     },
     "execution_count": 97,
     "metadata": {},
     "output_type": "execute_result"
    }
   ],
   "source": [
    "tspan=np.linspace(0,3,10000+1)\n",
    "\n",
    "h=(tspan[-1]-tspan[0])/(len(tspan)-1)\n",
    "\n",
    "h"
   ]
  },
  {
   "cell_type": "code",
   "execution_count": null,
   "metadata": {},
   "outputs": [],
   "source": []
  },
  {
   "cell_type": "code",
   "execution_count": 98,
   "metadata": {},
   "outputs": [],
   "source": [
    "\n",
    "@jit\n",
    "def EulerMaruyama(f, y0 , tspan,Stochastic=1,Vec_ax=Vec_ax,Vec_ay=Vec_ay ):\n",
    "        \n",
    "    y0,Ns =array(y0).reshape(3*N_atom+2,), len(tspan)\n",
    "\n",
    "    h,y = (tspan[Ns-1] - tspan[0])/(Ns - 1),zeros((Ns, 3*N_atom+2), dtype=float)\n",
    "    # allocate space for result\n",
    "\n",
    "    y[0] = y0.reshape(3*N_atom+2,)\n",
    "    \n",
    "    Second_moment=[]\n",
    "    \n",
    "    sqrth=sqrt(h)*Stochastic\n",
    "    \n",
    "    init0=y0.reshape(3*N_atom+2,1)\n",
    "    \n",
    "    #Second_moment.append( init0@(init0.T)   )\n",
    "    \n",
    "    sqh_st_kap=sqrth*sqrt(kappa/4)\n",
    "    \n",
    "    for n in range(0, Ns-1):\n",
    "\n",
    "\n",
    "        tn   = tspan[n]\n",
    "        tnp1 = tspan[n+1]\n",
    "        yn   = y[n]\n",
    "        \n",
    "\n",
    "\n",
    "        fn = f(yn, tn)\n",
    "        \n",
    "        ynp1=yn + fn*h + sqh_st_kap*( normal()*Vec_ax + normal()*Vec_ay )\n",
    "        \n",
    "        y[n+1] = ynp1\n",
    "        \n",
    "        #Vect_np1=ynp1.reshape(3*N_atom+2,1)\n",
    "        \n",
    "        #Second_moment.append( Vect_np1@(Vect_np1.T)   )\n",
    "        \n",
    "        #print(n)\n",
    "        \n",
    "    return y    #, Second_moment"
   ]
  },
  {
   "cell_type": "code",
   "execution_count": null,
   "metadata": {},
   "outputs": [],
   "source": []
  },
  {
   "cell_type": "code",
   "execution_count": 99,
   "metadata": {},
   "outputs": [],
   "source": [
    "\n",
    "itera=500\n",
    "\n",
    "@jit\n",
    "def averages_sde(itera=itera,N_atom=N_atom,tspan=tspan,Stochastic=1):\n",
    "    Results      = EulerMaruyama(f, init_state() , tspan , Stochastic )\n",
    "    \n",
    "    Result_First = Results\n",
    "    #Second_moment =Results[1]\n",
    "\n",
    "    print(0)\n",
    "\n",
    "    for j in range(itera-1):\n",
    "        Trayec        = EulerMaruyama(f, init_state() , tspan , Stochastic )\n",
    "        Result_First  = add(Result_First  ,Trayec)\n",
    "        #Second_moment =add(Second_moment, Trayec[1])\n",
    "\n",
    "        print(j+1)\n",
    "    \n",
    "    return np.array(Result_First)/int(itera) # , np.array(Second_moment)/int(itera)"
   ]
  },
  {
   "cell_type": "code",
   "execution_count": null,
   "metadata": {},
   "outputs": [],
   "source": []
  },
  {
   "cell_type": "code",
   "execution_count": null,
   "metadata": {},
   "outputs": [
    {
     "name": "stderr",
     "output_type": "stream",
     "text": [
      "<ipython-input-99-5ae9837a217b>:3: NumbaWarning: \u001b[1m\n",
      "Compilation is falling back to object mode WITH looplifting enabled because Function \"averages_sde\" failed type inference due to: \u001b[1mUntyped global name 'init_state':\u001b[0m \u001b[1m\u001b[1mcannot determine Numba type of <class 'function'>\u001b[0m\n",
      "\u001b[1m\n",
      "File \"<ipython-input-99-5ae9837a217b>\", line 5:\u001b[0m\n",
      "\u001b[1mdef averages_sde(itera=itera,N_atom=N_atom,tspan=tspan,Stochastic=1):\n",
      "\u001b[1m    Results      = EulerMaruyama(f, init_state() , tspan , Stochastic )\n",
      "\u001b[0m    \u001b[1m^\u001b[0m\u001b[0m\n",
      "\u001b[0m\u001b[0m\n",
      "  @jit\n",
      "<ipython-input-99-5ae9837a217b>:3: NumbaWarning: \u001b[1m\n",
      "Compilation is falling back to object mode WITHOUT looplifting enabled because Function \"averages_sde\" failed type inference due to: \u001b[1mUntyped global name 'init_state':\u001b[0m \u001b[1m\u001b[1mcannot determine Numba type of <class 'function'>\u001b[0m\n",
      "\u001b[1m\n",
      "File \"<ipython-input-99-5ae9837a217b>\", line 5:\u001b[0m\n",
      "\u001b[1mdef averages_sde(itera=itera,N_atom=N_atom,tspan=tspan,Stochastic=1):\n",
      "\u001b[1m    Results      = EulerMaruyama(f, init_state() , tspan , Stochastic )\n",
      "\u001b[0m    \u001b[1m^\u001b[0m\u001b[0m\n",
      "\u001b[0m\u001b[0m\n",
      "  @jit\n",
      "C:\\Users\\camil\\anaconda3\\lib\\site-packages\\numba\\core\\object_mode_passes.py:177: NumbaWarning: \u001b[1mFunction \"averages_sde\" was compiled in object mode without forceobj=True, but has lifted loops.\n",
      "\u001b[1m\n",
      "File \"<ipython-input-99-5ae9837a217b>\", line 5:\u001b[0m\n",
      "\u001b[1mdef averages_sde(itera=itera,N_atom=N_atom,tspan=tspan,Stochastic=1):\n",
      "\u001b[1m    Results      = EulerMaruyama(f, init_state() , tspan , Stochastic )\n",
      "\u001b[0m    \u001b[1m^\u001b[0m\u001b[0m\n",
      "\u001b[0m\n",
      "  warnings.warn(errors.NumbaWarning(warn_msg,\n",
      "C:\\Users\\camil\\anaconda3\\lib\\site-packages\\numba\\core\\object_mode_passes.py:187: NumbaDeprecationWarning: \u001b[1m\n",
      "Fall-back from the nopython compilation path to the object mode compilation path has been detected, this is deprecated behaviour.\n",
      "\n",
      "For more information visit http://numba.pydata.org/numba-doc/latest/reference/deprecation.html#deprecation-of-object-mode-fall-back-behaviour-when-using-jit\n",
      "\u001b[1m\n",
      "File \"<ipython-input-99-5ae9837a217b>\", line 5:\u001b[0m\n",
      "\u001b[1mdef averages_sde(itera=itera,N_atom=N_atom,tspan=tspan,Stochastic=1):\n",
      "\u001b[1m    Results      = EulerMaruyama(f, init_state() , tspan , Stochastic )\n",
      "\u001b[0m    \u001b[1m^\u001b[0m\u001b[0m\n",
      "\u001b[0m\n",
      "  warnings.warn(errors.NumbaDeprecationWarning(msg,\n",
      "<ipython-input-98-bfa0308f5292>:1: NumbaWarning: \u001b[1m\n",
      "Compilation is falling back to object mode WITH looplifting enabled because Function \"EulerMaruyama\" failed type inference due to: \u001b[1m\u001b[1m\u001b[1mNo implementation of function Function(<built-in function zeros>) found for signature:\n",
      " \n",
      " >>> zeros(UniTuple(int64 x 2), dtype=Function(<class 'float'>))\n",
      " \n",
      "There are 2 candidate implementations:\n",
      "\u001b[1m      - Of which 2 did not match due to:\n",
      "      Overload of function 'zeros': File: numba\\core\\typing\\npydecl.py: Line 526.\n",
      "        With argument(s): '(UniTuple(int64 x 2), dtype=Function(<class 'float'>))':\u001b[0m\n",
      "\u001b[1m       No match.\u001b[0m\n",
      "\u001b[0m\n",
      "\u001b[0m\u001b[1mDuring: resolving callee type: Function(<built-in function zeros>)\u001b[0m\n",
      "\u001b[0m\u001b[1mDuring: typing of call at <ipython-input-98-bfa0308f5292> (6)\n",
      "\u001b[0m\n",
      "\u001b[1m\n",
      "File \"<ipython-input-98-bfa0308f5292>\", line 6:\u001b[0m\n",
      "\u001b[1mdef EulerMaruyama(f, y0 , tspan,Stochastic=1,Vec_ax=Vec_ax,Vec_ay=Vec_ay ):\n",
      "    <source elided>\n",
      "\n",
      "\u001b[1m    h,y = (tspan[Ns-1] - tspan[0])/(Ns - 1),zeros((Ns, 3*N_atom+2), dtype=float)\n",
      "\u001b[0m    \u001b[1m^\u001b[0m\u001b[0m\n",
      "\u001b[0m\n",
      "  @jit\n",
      "<ipython-input-98-bfa0308f5292>:1: NumbaWarning: \u001b[1m\n",
      "Compilation is falling back to object mode WITHOUT looplifting enabled because Function \"EulerMaruyama\" failed type inference due to: \u001b[1m\u001b[1mcannot determine Numba type of <class 'numba.core.dispatcher.LiftedLoop'>\u001b[0m\n",
      "\u001b[1m\n",
      "File \"<ipython-input-98-bfa0308f5292>\", line 21:\u001b[0m\n",
      "\u001b[1mdef EulerMaruyama(f, y0 , tspan,Stochastic=1,Vec_ax=Vec_ax,Vec_ay=Vec_ay ):\n",
      "    <source elided>\n",
      "    \n",
      "\u001b[1m    for n in range(0, Ns-1):\n",
      "\u001b[0m    \u001b[1m^\u001b[0m\u001b[0m\n",
      "\u001b[0m\u001b[0m\n",
      "  @jit\n",
      "C:\\Users\\camil\\anaconda3\\lib\\site-packages\\numba\\core\\object_mode_passes.py:177: NumbaWarning: \u001b[1mFunction \"EulerMaruyama\" was compiled in object mode without forceobj=True, but has lifted loops.\n",
      "\u001b[1m\n",
      "File \"<ipython-input-98-bfa0308f5292>\", line 4:\u001b[0m\n",
      "\u001b[1mdef EulerMaruyama(f, y0 , tspan,Stochastic=1,Vec_ax=Vec_ax,Vec_ay=Vec_ay ):\n",
      "    <source elided>\n",
      "        \n",
      "\u001b[1m    y0,Ns =array(y0).reshape(3*N_atom+2,), len(tspan)\n",
      "\u001b[0m    \u001b[1m^\u001b[0m\u001b[0m\n",
      "\u001b[0m\n",
      "  warnings.warn(errors.NumbaWarning(warn_msg,\n",
      "C:\\Users\\camil\\anaconda3\\lib\\site-packages\\numba\\core\\object_mode_passes.py:187: NumbaDeprecationWarning: \u001b[1m\n",
      "Fall-back from the nopython compilation path to the object mode compilation path has been detected, this is deprecated behaviour.\n",
      "\n",
      "For more information visit http://numba.pydata.org/numba-doc/latest/reference/deprecation.html#deprecation-of-object-mode-fall-back-behaviour-when-using-jit\n",
      "\u001b[1m\n",
      "File \"<ipython-input-98-bfa0308f5292>\", line 4:\u001b[0m\n",
      "\u001b[1mdef EulerMaruyama(f, y0 , tspan,Stochastic=1,Vec_ax=Vec_ax,Vec_ay=Vec_ay ):\n",
      "    <source elided>\n",
      "        \n",
      "\u001b[1m    y0,Ns =array(y0).reshape(3*N_atom+2,), len(tspan)\n",
      "\u001b[0m    \u001b[1m^\u001b[0m\u001b[0m\n",
      "\u001b[0m\n",
      "  warnings.warn(errors.NumbaDeprecationWarning(msg,\n",
      "<ipython-input-98-bfa0308f5292>:1: NumbaWarning: \u001b[1m\n",
      "Compilation is falling back to object mode WITHOUT looplifting enabled because Function \"EulerMaruyama\" failed type inference due to: \u001b[1m\u001b[1m\u001b[1mInvalid use of type(CPUDispatcher(<function f at 0x0000027D75469700>)) with parameters (array(float64, 1d, C), float64)\n",
      "\u001b[0m\n",
      "\u001b[0m\u001b[1mDuring: resolving callee type: type(CPUDispatcher(<function f at 0x0000027D75469700>))\u001b[0m\n",
      "\u001b[0m\u001b[1mDuring: typing of call at <ipython-input-98-bfa0308f5292> (30)\n",
      "\u001b[0m\n",
      "\u001b[1m\n",
      "File \"<ipython-input-98-bfa0308f5292>\", line 30:\u001b[0m\n",
      "\u001b[1mdef EulerMaruyama(f, y0 , tspan,Stochastic=1,Vec_ax=Vec_ax,Vec_ay=Vec_ay ):\n",
      "    <source elided>\n",
      "\n",
      "\u001b[1m        fn = f(yn, tn)\n",
      "\u001b[0m        \u001b[1m^\u001b[0m\u001b[0m\n",
      "\u001b[0m\n",
      "  @jit\n",
      "C:\\Users\\camil\\anaconda3\\lib\\site-packages\\numba\\core\\object_mode_passes.py:177: NumbaWarning: \u001b[1mFunction \"EulerMaruyama\" was compiled in object mode without forceobj=True.\n",
      "\u001b[1m\n",
      "File \"<ipython-input-98-bfa0308f5292>\", line 21:\u001b[0m\n",
      "\u001b[1mdef EulerMaruyama(f, y0 , tspan,Stochastic=1,Vec_ax=Vec_ax,Vec_ay=Vec_ay ):\n",
      "    <source elided>\n",
      "    \n",
      "\u001b[1m    for n in range(0, Ns-1):\n",
      "\u001b[0m    \u001b[1m^\u001b[0m\u001b[0m\n",
      "\u001b[0m\n",
      "  warnings.warn(errors.NumbaWarning(warn_msg,\n",
      "C:\\Users\\camil\\anaconda3\\lib\\site-packages\\numba\\core\\object_mode_passes.py:187: NumbaDeprecationWarning: \u001b[1m\n",
      "Fall-back from the nopython compilation path to the object mode compilation path has been detected, this is deprecated behaviour.\n",
      "\n",
      "For more information visit http://numba.pydata.org/numba-doc/latest/reference/deprecation.html#deprecation-of-object-mode-fall-back-behaviour-when-using-jit\n",
      "\u001b[1m\n",
      "File \"<ipython-input-98-bfa0308f5292>\", line 21:\u001b[0m\n",
      "\u001b[1mdef EulerMaruyama(f, y0 , tspan,Stochastic=1,Vec_ax=Vec_ax,Vec_ay=Vec_ay ):\n",
      "    <source elided>\n",
      "    \n",
      "\u001b[1m    for n in range(0, Ns-1):\n",
      "\u001b[0m    \u001b[1m^\u001b[0m\u001b[0m\n",
      "\u001b[0m\n",
      "  warnings.warn(errors.NumbaDeprecationWarning(msg,\n"
     ]
    },
    {
     "name": "stdout",
     "output_type": "stream",
     "text": [
      "0\n"
     ]
    },
    {
     "name": "stderr",
     "output_type": "stream",
     "text": [
      "<ipython-input-99-5ae9837a217b>:3: NumbaWarning: \u001b[1m\n",
      "Compilation is falling back to object mode WITHOUT looplifting enabled because Function \"averages_sde\" failed type inference due to: \u001b[1mUntyped global name 'init_state':\u001b[0m \u001b[1m\u001b[1mcannot determine Numba type of <class 'function'>\u001b[0m\n",
      "\u001b[1m\n",
      "File \"<ipython-input-99-5ae9837a217b>\", line 13:\u001b[0m\n",
      "\u001b[1mdef averages_sde(itera=itera,N_atom=N_atom,tspan=tspan,Stochastic=1):\n",
      "    <source elided>\n",
      "    for j in range(itera-1):\n",
      "\u001b[1m        Trayec        = EulerMaruyama(f, init_state() , tspan , Stochastic )\n",
      "\u001b[0m        \u001b[1m^\u001b[0m\u001b[0m\n",
      "\u001b[0m\u001b[0m\n",
      "  @jit\n",
      "C:\\Users\\camil\\anaconda3\\lib\\site-packages\\numba\\core\\object_mode_passes.py:177: NumbaWarning: \u001b[1mFunction \"averages_sde\" was compiled in object mode without forceobj=True.\n",
      "\u001b[1m\n",
      "File \"<ipython-input-99-5ae9837a217b>\", line 12:\u001b[0m\n",
      "\u001b[1mdef averages_sde(itera=itera,N_atom=N_atom,tspan=tspan,Stochastic=1):\n",
      "    <source elided>\n",
      "\n",
      "\u001b[1m    for j in range(itera-1):\n",
      "\u001b[0m    \u001b[1m^\u001b[0m\u001b[0m\n",
      "\u001b[0m\n",
      "  warnings.warn(errors.NumbaWarning(warn_msg,\n",
      "C:\\Users\\camil\\anaconda3\\lib\\site-packages\\numba\\core\\object_mode_passes.py:187: NumbaDeprecationWarning: \u001b[1m\n",
      "Fall-back from the nopython compilation path to the object mode compilation path has been detected, this is deprecated behaviour.\n",
      "\n",
      "For more information visit http://numba.pydata.org/numba-doc/latest/reference/deprecation.html#deprecation-of-object-mode-fall-back-behaviour-when-using-jit\n",
      "\u001b[1m\n",
      "File \"<ipython-input-99-5ae9837a217b>\", line 12:\u001b[0m\n",
      "\u001b[1mdef averages_sde(itera=itera,N_atom=N_atom,tspan=tspan,Stochastic=1):\n",
      "    <source elided>\n",
      "\n",
      "\u001b[1m    for j in range(itera-1):\n",
      "\u001b[0m    \u001b[1m^\u001b[0m\u001b[0m\n",
      "\u001b[0m\n",
      "  warnings.warn(errors.NumbaDeprecationWarning(msg,\n"
     ]
    }
   ],
   "source": [
    "import time\n",
    "#t0=time.time()\n",
    "\n",
    "itera=30\n",
    "Result_varTWA_Col_SDE = averages_sde(itera=itera)\n",
    "#Result_varTWA_Col_TWA = averages_sde(itera=itera,N=N)\n",
    "\n",
    "#t1=time.time()\n",
    "\n",
    "#print(t1-t0)"
   ]
  },
  {
   "cell_type": "code",
   "execution_count": null,
   "metadata": {},
   "outputs": [],
   "source": []
  },
  {
   "cell_type": "code",
   "execution_count": null,
   "metadata": {},
   "outputs": [],
   "source": [
    "Result_varTWA_Col_SDE[:,0]+Result_varTWA_Col_SDE[:,3]\n",
    "\n",
    "Sx=Result_varTWA_Col_SDE[:,0]/2\n",
    "Sy=Result_varTWA_Col_SDE[:,1]/2\n",
    "Sz=Result_varTWA_Col_SDE[:,2]/2\n",
    "\n",
    "\n",
    "for j in range(1,N_atom):\n",
    "    \n",
    "    Sx=Sx+Result_varTWA_Col_SDE[:,3*j  ]/2\n",
    "    Sy=Sy+Result_varTWA_Col_SDE[:,3*j+1]/2\n",
    "    Sz=Sz+Result_varTWA_Col_SDE[:,3*j+2]/2\n",
    "    \n",
    "\n",
    "plt.plot(tspan,Sx)\n",
    "plt.plot(tspan,Sy)\n",
    "plt.plot(tspan,Sz)"
   ]
  },
  {
   "cell_type": "code",
   "execution_count": null,
   "metadata": {},
   "outputs": [],
   "source": []
  },
  {
   "cell_type": "code",
   "execution_count": null,
   "metadata": {},
   "outputs": [],
   "source": []
  },
  {
   "cell_type": "code",
   "execution_count": null,
   "metadata": {},
   "outputs": [],
   "source": []
  },
  {
   "cell_type": "code",
   "execution_count": null,
   "metadata": {},
   "outputs": [],
   "source": []
  },
  {
   "cell_type": "code",
   "execution_count": null,
   "metadata": {},
   "outputs": [],
   "source": []
  },
  {
   "cell_type": "code",
   "execution_count": null,
   "metadata": {},
   "outputs": [],
   "source": []
  },
  {
   "cell_type": "code",
   "execution_count": null,
   "metadata": {},
   "outputs": [],
   "source": []
  },
  {
   "cell_type": "code",
   "execution_count": null,
   "metadata": {},
   "outputs": [],
   "source": [
    "\n",
    "itera=500\n",
    "\n",
    "@jit\n",
    "def averages_twa(itera=itera,N_atom=N_atom,tspan=tspan):\n",
    "    Results =EulerTWA(f,g,init_state(),tspan)\n",
    "    \n",
    "    Result_First  =Results[0]\n",
    "    Second_moment =Results[1]\n",
    "\n",
    "    print(0)\n",
    "\n",
    "    for j in range(itera-1):\n",
    "        Trayec=EulerTWA(f,g,init_state(),tspan)\n",
    "        Result_First  =add(Result_First  ,Trayec[0])\n",
    "        Second_moment =add(Second_moment, Trayec[1])\n",
    "\n",
    "        print(j+1)\n",
    "    \n",
    "    return np.array(Result_First)/int(itera), np.array(Second_moment)/int(itera)"
   ]
  },
  {
   "cell_type": "code",
   "execution_count": null,
   "metadata": {},
   "outputs": [],
   "source": [
    "\n",
    "itera=500\n",
    "\n",
    "@jit\n",
    "def averages_sde(itera=itera,N_atom=N_atom,tspan=tspan,Stochastic=1):\n",
    "    Results =EulerMaruyama(f,g,init_state(),tspan,Stochastic=1)\n",
    "    \n",
    "    Result_First  =Results[0]\n",
    "    Second_moment =Results[1]\n",
    "\n",
    "    print(0)\n",
    "\n",
    "    for j in range(itera-1):\n",
    "        Trayec=EulerMaruyama(f,g,init_state(),tspan)\n",
    "        Result_First  =add(Result_First  ,Trayec[0])\n",
    "        Second_moment =add(Second_moment, Trayec[1])\n",
    "\n",
    "        print(j+1)\n",
    "    \n",
    "    return np.array(Result_First)/int(itera), np.array(Second_moment)/int(itera)"
   ]
  },
  {
   "cell_type": "code",
   "execution_count": null,
   "metadata": {},
   "outputs": [],
   "source": []
  },
  {
   "cell_type": "code",
   "execution_count": null,
   "metadata": {},
   "outputs": [],
   "source": [
    "#resEM[0][-1]\n",
    "\n",
    "#resEM[0].shape"
   ]
  },
  {
   "cell_type": "code",
   "execution_count": null,
   "metadata": {},
   "outputs": [],
   "source": []
  },
  {
   "cell_type": "code",
   "execution_count": null,
   "metadata": {},
   "outputs": [],
   "source": []
  },
  {
   "cell_type": "code",
   "execution_count": null,
   "metadata": {},
   "outputs": [],
   "source": [
    "import matplotlib.pyplot as plt\n",
    "import numpy as np\n",
    "#from google.colab import files\n",
    "\n",
    "\"\"\"In order to provide a better presentation of the graphs we use the rcParams options shown below.\"\"\"\n",
    "\n",
    "import matplotlib\n",
    "matplotlib.rcParams['text.usetex'] = False\n",
    "matplotlib.rcParams['mathtext.fontset'] = 'stix'\n",
    "matplotlib.rcParams['font.family'] = 'STIXGeneral'\n",
    "matplotlib.rcParams['font.size'] = 15\n",
    "matplotlib.rcParams['figure.figsize'] = (11.0, 8.0)\n",
    "\n",
    "from numpy import cos, sin\n",
    "\n",
    "label_size = 20\n",
    "\n",
    "from numpy import sqrt\n",
    "\n",
    "import time\n",
    "from numba import jit\n",
    "from numpy import sin, cos\n",
    "\n",
    "T0=time.time()\n",
    "\n",
    "import matplotlib\n",
    "matplotlib.rcParams['text.usetex'] = False\n",
    "matplotlib.rcParams['mathtext.fontset'] = 'stix'\n",
    "matplotlib.rcParams['font.family'] = 'STIXGeneral'\n",
    "matplotlib.rcParams['font.size'] = 15\n",
    "matplotlib.rcParams['figure.figsize'] = (11.0, 8.0)"
   ]
  },
  {
   "cell_type": "code",
   "execution_count": null,
   "metadata": {},
   "outputs": [],
   "source": []
  },
  {
   "cell_type": "code",
   "execution_count": null,
   "metadata": {},
   "outputs": [],
   "source": []
  },
  {
   "cell_type": "markdown",
   "metadata": {},
   "source": [
    "# Mean-Field"
   ]
  },
  {
   "cell_type": "code",
   "execution_count": null,
   "metadata": {},
   "outputs": [],
   "source": [
    "MF_result=EulerMaruyama(f, g, list(-b_fun()) , tspan,Stochastic=0 )[0]"
   ]
  },
  {
   "cell_type": "code",
   "execution_count": null,
   "metadata": {},
   "outputs": [],
   "source": [
    "\n",
    "SxMF=[]\n",
    "SyMF=[]\n",
    "SzMF=[]\n",
    "\n",
    "for j in range(MF_result.shape[0]):\n",
    "    \n",
    "    Sxyz=get_s_alpha(MF_result[j])\n",
    "    \n",
    "    SxMF.append(sum(Sxyz[0])/2)\n",
    "    SyMF.append(sum(Sxyz[1])/2)\n",
    "    SzMF.append(sum(Sxyz[2])/2)\n",
    "    "
   ]
  },
  {
   "cell_type": "code",
   "execution_count": null,
   "metadata": {},
   "outputs": [],
   "source": [
    "plt.title(\"Single Particle Operator Dynamics\",fontsize=30)\n",
    "\n",
    "fontsize=25\n",
    "\n",
    "plt.plot(tspan,np.array(SxMF)/N_atom,label=\"$\\\\left<\\hat{S}_x\\\\right>/N_{\\\\rm{atom}}$ Mean-Field\")\n",
    "plt.plot(tspan,np.array(SyMF)/N_atom,label=\"$\\\\left<\\hat{S}_y\\\\right>/N_{\\\\rm{atom}}$ Mean-Field\")\n",
    "plt.plot(tspan,np.array(SzMF)/N_atom,label=\"$\\\\left<\\hat{S}_z\\\\right>/N_{\\\\rm{atom}}$ Mean-Field\")\n",
    "\n",
    "plt.ylabel(\"$\\\\left<\\hat{S}_{\\\\alpha}\\\\right>/N_{\\\\rm{atom}}$\",fontsize=fontsize)\n",
    "plt.xlabel(\"$\\Gamma t$\",fontsize=fontsize)\n",
    "\n",
    "\n",
    "plt.legend(fontsize=fontsize-5)"
   ]
  },
  {
   "cell_type": "code",
   "execution_count": null,
   "metadata": {},
   "outputs": [],
   "source": [
    "N_atom"
   ]
  },
  {
   "cell_type": "code",
   "execution_count": null,
   "metadata": {},
   "outputs": [],
   "source": []
  },
  {
   "cell_type": "code",
   "execution_count": null,
   "metadata": {},
   "outputs": [],
   "source": []
  },
  {
   "cell_type": "code",
   "execution_count": null,
   "metadata": {},
   "outputs": [],
   "source": []
  },
  {
   "cell_type": "code",
   "execution_count": null,
   "metadata": {},
   "outputs": [],
   "source": []
  },
  {
   "cell_type": "code",
   "execution_count": null,
   "metadata": {},
   "outputs": [],
   "source": []
  },
  {
   "cell_type": "code",
   "execution_count": null,
   "metadata": {},
   "outputs": [],
   "source": []
  },
  {
   "cell_type": "markdown",
   "metadata": {},
   "source": [
    "# DTWA (Discrete-TWA)"
   ]
  },
  {
   "cell_type": "code",
   "execution_count": null,
   "metadata": {},
   "outputs": [],
   "source": []
  },
  {
   "cell_type": "code",
   "execution_count": null,
   "metadata": {},
   "outputs": [],
   "source": [
    "import time\n",
    "#t0=time.time()\n",
    "\n",
    "itera=100\n",
    "Result_varTWA_Col_TWA = averages_twa(itera=itera,N_atom=N_atom,tspan=tspan,Stochastic=0)\n",
    "#Result_varTWA_Col_TWA = averages_sde(itera=itera,N=N)\n",
    "\n",
    "#t1=time.time()\n",
    "\n",
    "#print(t1-t0)"
   ]
  },
  {
   "cell_type": "code",
   "execution_count": null,
   "metadata": {},
   "outputs": [],
   "source": []
  },
  {
   "cell_type": "code",
   "execution_count": null,
   "metadata": {},
   "outputs": [],
   "source": []
  },
  {
   "cell_type": "code",
   "execution_count": null,
   "metadata": {},
   "outputs": [],
   "source": []
  },
  {
   "cell_type": "markdown",
   "metadata": {},
   "source": [
    "# DissDTWA (Dissipative Discrete-TWA) "
   ]
  },
  {
   "cell_type": "code",
   "execution_count": null,
   "metadata": {},
   "outputs": [],
   "source": []
  },
  {
   "cell_type": "code",
   "execution_count": null,
   "metadata": {},
   "outputs": [],
   "source": [
    "import time\n",
    "#t0=time.time()\n",
    "\n",
    "itera=200\n",
    "Result_varTWA_Col_SDE = averages_sde(itera=itera,N_atom=N_atom,tspan=tspan,Stochastic=1)\n",
    "#Result_varTWA_Col_TWA = averages_sde(itera=itera,N=N)\n",
    "\n",
    "#t1=time.time()\n",
    "\n",
    "#print(t1-t0)"
   ]
  },
  {
   "cell_type": "code",
   "execution_count": null,
   "metadata": {},
   "outputs": [],
   "source": []
  },
  {
   "cell_type": "code",
   "execution_count": null,
   "metadata": {},
   "outputs": [],
   "source": [
    "len(tspan)"
   ]
  },
  {
   "cell_type": "code",
   "execution_count": null,
   "metadata": {},
   "outputs": [],
   "source": []
  },
  {
   "cell_type": "code",
   "execution_count": null,
   "metadata": {},
   "outputs": [],
   "source": []
  },
  {
   "cell_type": "code",
   "execution_count": null,
   "metadata": {},
   "outputs": [],
   "source": []
  },
  {
   "cell_type": "code",
   "execution_count": null,
   "metadata": {},
   "outputs": [],
   "source": [
    "Sx=[]\n",
    "Sy=[]\n",
    "Sz=[]\n",
    "\n",
    "for j in range(Result_Or.shape[0]):\n",
    "    \n",
    "    Sxyz=get_s_alpha(Result_Or[j])\n",
    "    \n",
    "    Sx.append(sum(Sxyz[0])/2)\n",
    "    Sy.append(sum(Sxyz[1])/2)\n",
    "    Sz.append(sum(Sxyz[2])/2)\n"
   ]
  },
  {
   "cell_type": "code",
   "execution_count": null,
   "metadata": {},
   "outputs": [],
   "source": [
    "d_r"
   ]
  },
  {
   "cell_type": "code",
   "execution_count": null,
   "metadata": {},
   "outputs": [],
   "source": []
  },
  {
   "cell_type": "code",
   "execution_count": null,
   "metadata": {},
   "outputs": [],
   "source": [
    "with open('Data_total_Sz_Cumulant_dynamics_to_equil_2_level_10_atoms_r_0,17_along_x_k_along_x_eL_along_y_rabi_4,5_detuning_0,0_tfin_50.txt') as f:\n",
    "    lines = f.readlines()\n",
    "    x_z = [line.split()[0] for line in lines]\n",
    "    y_z = [line.split()[1] for line in lines]\n",
    "    \n",
    "    \n",
    "Xfz=[]\n",
    "Yfz=[]\n",
    "\n",
    "for j in range(len(x)):\n",
    "    \n",
    "    Xfz.append(float(x_z[j]))\n",
    "    Yfz.append(float(y_z[j]))\n",
    "    \n",
    "    \n",
    "plt.title(\"\")\n",
    "\n",
    "\n",
    "plt.plot(Xf[:105],array(Yf[:105])/N_atom)\n",
    "\n",
    "        "
   ]
  },
  {
   "cell_type": "code",
   "execution_count": null,
   "metadata": {},
   "outputs": [],
   "source": [
    "with open('Data_total_Sx_Cumulant_dynamics_to_equil_2_level_10_atoms_r_0,17_along_x_k_along_x_eL_along_y_rabi_4,5_detuning_0,0_tfin_50.txt') as f:\n",
    "    lines = f.readlines()\n",
    "    x_x = [line.split()[0] for line in lines]\n",
    "    y_x = [line.split()[1] for line in lines]\n",
    "    \n",
    "    \n",
    "Xfx=[]\n",
    "Yfx=[]\n",
    "\n",
    "for j in range(len(x_x)):\n",
    "    \n",
    "    Xfx.append(float(x_x[j]))\n",
    "    Yfx.append(float(y_x[j]))\n",
    "    \n",
    "    \n",
    "plt.title(\"\")\n",
    "\n",
    "\n",
    "plt.plot(Xfx[:105],array(Yfx[:105])/N_atom)\n",
    "\n",
    "        "
   ]
  },
  {
   "cell_type": "code",
   "execution_count": null,
   "metadata": {},
   "outputs": [],
   "source": []
  },
  {
   "cell_type": "code",
   "execution_count": null,
   "metadata": {},
   "outputs": [],
   "source": [
    "with open('Data_total_Sy_Cumulant_dynamics_to_equil_2_level_10_atoms_r_0,17_along_x_k_along_x_eL_along_y_rabi_4,5_detuning_0,0_tfin_50.txt') as f:\n",
    "    lines = f.readlines()\n",
    "    x_y = [line.split()[0] for line in lines]\n",
    "    y_y = [line.split()[1] for line in lines]\n",
    "    \n",
    "    \n",
    "Xfy=[]\n",
    "Yfy=[]\n",
    "\n",
    "for j in range(len(x_y)):\n",
    "    \n",
    "    Xfy.append(float(x_y[j]))\n",
    "    Yfy.append(float(y_y[j]))\n",
    "    \n",
    "    \n",
    "plt.title(\"\")\n",
    "\n",
    "\n",
    "plt.plot(Xfy[:105],array(Yfy[:105])/N_atom)\n",
    "\n",
    "        "
   ]
  },
  {
   "cell_type": "code",
   "execution_count": null,
   "metadata": {},
   "outputs": [],
   "source": []
  },
  {
   "cell_type": "code",
   "execution_count": null,
   "metadata": {},
   "outputs": [],
   "source": [
    "Xf[105]"
   ]
  },
  {
   "cell_type": "code",
   "execution_count": null,
   "metadata": {},
   "outputs": [],
   "source": [
    "tspan[:lts][-1]"
   ]
  },
  {
   "cell_type": "code",
   "execution_count": null,
   "metadata": {},
   "outputs": [],
   "source": []
  },
  {
   "cell_type": "code",
   "execution_count": null,
   "metadata": {},
   "outputs": [],
   "source": [
    "plt.title(\"Single Particle Operator Dynamics $(\\Delta r=0.17\\lambda,N_{\\\\rm{atom}}=10)$\",fontsize=30)\n",
    "\n",
    "lts=4000\n",
    "\n",
    "#plt.plot(tspan[:lts],array(Sx[:lts])/N_atom,label=\"$\\\\left<\\hat{S}_x\\\\right>/N_{\\\\rm{atom}}$ DissTWA\")\n",
    "#plt.plot(tspan[:lts],array(Sy[:lts])/N_atom,label=\"$\\\\left<\\hat{S}_y\\\\right>/N_{\\\\rm{atom}}$ DissTWA\")\n",
    "#plt.plot(tspan[:lts],array(Sz[:lts])/N_atom,label=\"$\\\\left<\\hat{S}_z\\\\right>/N_{\\\\rm{atom}}$ DissTWA\")\n",
    "\n",
    "\n",
    "\n",
    "fontsize=25\n",
    "\n",
    "#plt.plot(tspan[:lts],np.array(SxMF[:lts])/N_atom,\"--\",label=\"$\\\\left<\\hat{S}_x\\\\right>/N_{\\\\rm{atom}}$ Mean-Field\")\n",
    "#plt.plot(tspan[:lts],np.array(SyMF[:lts])/N_atom,\"--\",label=\"$\\\\left<\\hat{S}_y\\\\right>/N_{\\\\rm{atom}}$ Mean-Field\")\n",
    "#plt.plot(tspan,np.array(SzMF)/N_atom,\"--\",label=\"$\\\\left<\\hat{S}_z\\\\right>/N_{\\\\rm{atom}}$ Mean-Field\")\n",
    "\n",
    "plt.ylabel(\"$\\\\left<\\hat{S}_{\\\\alpha}\\\\right>/N_{\\\\rm{atom}}$\",fontsize=fontsize)\n",
    "plt.xlabel(\"$\\Gamma t$\",fontsize=fontsize)\n",
    "plt.plot(Xfz[:114],array(Yfz[:114])/(2*N_atom),\"-*\",label=\"$\\\\left<\\hat{S}_z\\\\right>/N_{\\\\rm{atom}}$ Cumulant\")\n",
    "\n",
    "\n",
    "plt.plot(Xfz[:114],  np.interp(Xfz[:114], tspan , np.array(SzMF)/N_atom ))\n",
    "        \n",
    "\n",
    "plt.legend(fontsize=fontsize-5)\n",
    "\n",
    "plt.legend()"
   ]
  },
  {
   "cell_type": "code",
   "execution_count": null,
   "metadata": {},
   "outputs": [],
   "source": [
    "np.array(SzMF[:lts])/N_atom"
   ]
  },
  {
   "cell_type": "code",
   "execution_count": null,
   "metadata": {},
   "outputs": [],
   "source": [
    "np.interp(Xfz[:114], tspan , np.array(SxMF)/N_atom )"
   ]
  },
  {
   "cell_type": "code",
   "execution_count": null,
   "metadata": {},
   "outputs": [],
   "source": [
    "np.interp(Xfz[:114], tspan , np.array(SyMF)/N_atom )"
   ]
  },
  {
   "cell_type": "code",
   "execution_count": null,
   "metadata": {},
   "outputs": [],
   "source": []
  },
  {
   "cell_type": "code",
   "execution_count": null,
   "metadata": {},
   "outputs": [],
   "source": [
    "np.interp(Xfz[:114], tspan , np.array(SzMF)/N_atom )"
   ]
  },
  {
   "cell_type": "code",
   "execution_count": null,
   "metadata": {},
   "outputs": [],
   "source": []
  },
  {
   "cell_type": "code",
   "execution_count": null,
   "metadata": {},
   "outputs": [],
   "source": [
    "np.array(SzMF[:lts])/N_atom"
   ]
  },
  {
   "cell_type": "code",
   "execution_count": null,
   "metadata": {},
   "outputs": [],
   "source": []
  },
  {
   "cell_type": "code",
   "execution_count": null,
   "metadata": {},
   "outputs": [],
   "source": [
    "array(Sx[:lts])/N_atom"
   ]
  },
  {
   "cell_type": "code",
   "execution_count": null,
   "metadata": {},
   "outputs": [],
   "source": [
    "array(Sy[:lts])/N_atom"
   ]
  },
  {
   "cell_type": "code",
   "execution_count": null,
   "metadata": {},
   "outputs": [],
   "source": [
    "array(Sz[:lts])/N_atom"
   ]
  },
  {
   "cell_type": "code",
   "execution_count": null,
   "metadata": {},
   "outputs": [],
   "source": []
  },
  {
   "cell_type": "code",
   "execution_count": null,
   "metadata": {},
   "outputs": [],
   "source": []
  },
  {
   "cell_type": "code",
   "execution_count": null,
   "metadata": {},
   "outputs": [],
   "source": []
  },
  {
   "cell_type": "code",
   "execution_count": null,
   "metadata": {},
   "outputs": [],
   "source": [
    "MF_result=(TransR_m@(EulerMaruyama(f, g, list(b_fun()) , tspan,Stochastic=0 )[0].T)).T\n",
    "\n",
    "SxMF=[]\n",
    "SyMF=[]\n",
    "SzMF=[]\n",
    "\n",
    "for j in range(MF_result.shape[0]):\n",
    "    \n",
    "    Sxyz=get_s_alpha(MF_result[j])\n",
    "    \n",
    "    SxMF.append(sum(Sxyz[0])/2)\n",
    "    SyMF.append(sum(Sxyz[1])/2)\n",
    "    SzMF.append(sum(Sxyz[2])/2)\n"
   ]
  },
  {
   "cell_type": "code",
   "execution_count": null,
   "metadata": {},
   "outputs": [],
   "source": [
    "plt.title(\"Single Particle Operator Dynamics\",fontsize=30)\n",
    "\n",
    "fontsize=25\n",
    "\n",
    "plt.plot(tspan,np.array(SxMF)/N_atom,label=\"$\\\\left<\\hat{S}_x\\\\right>/N_{\\\\rm{atom}}$ Mean-Field\")\n",
    "plt.plot(tspan,np.array(SyMF)/N_atom,label=\"$\\\\left<\\hat{S}_y\\\\right>/N_{\\\\rm{atom}}$ Mean-Field\")\n",
    "plt.plot(tspan,np.array(SzMF)/N_atom,label=\"$\\\\left<\\hat{S}_z\\\\right>/N_{\\\\rm{atom}}$ Mean-Field\")\n",
    "\n",
    "plt.ylabel(\"$\\\\left<\\hat{S}_{\\\\alpha}\\\\right>/N_{\\\\rm{atom}}$\",fontsize=fontsize)\n",
    "plt.xlabel(\"$\\Gamma t$\",fontsize=fontsize)\n",
    "\n",
    "\n",
    "plt.legend(fontsize=fontsize-5)"
   ]
  },
  {
   "cell_type": "code",
   "execution_count": null,
   "metadata": {},
   "outputs": [],
   "source": []
  },
  {
   "cell_type": "code",
   "execution_count": null,
   "metadata": {},
   "outputs": [],
   "source": []
  },
  {
   "cell_type": "code",
   "execution_count": null,
   "metadata": {},
   "outputs": [],
   "source": []
  },
  {
   "cell_type": "code",
   "execution_count": null,
   "metadata": {},
   "outputs": [],
   "source": []
  },
  {
   "cell_type": "code",
   "execution_count": null,
   "metadata": {},
   "outputs": [],
   "source": []
  },
  {
   "cell_type": "code",
   "execution_count": null,
   "metadata": {},
   "outputs": [],
   "source": []
  },
  {
   "cell_type": "code",
   "execution_count": null,
   "metadata": {},
   "outputs": [],
   "source": []
  },
  {
   "cell_type": "code",
   "execution_count": null,
   "metadata": {},
   "outputs": [],
   "source": [
    "plt.plot(tspan,Sx,label=\"$<S_x> DissDTWA$\")\n",
    "plt.plot(tspan,Sy,label=\"$<S_y> DissDTWA$\")\n",
    "plt.plot(tspan,Sz,label=\"$<S_z> DissDTWA$\")\n",
    "plt.plot(tspan,SxMF,label=\"$<S_x> MF$\")\n",
    "plt.plot(tspan,SyMF,label=\"$<S_y> MF$\")\n",
    "plt.plot(tspan,SzMF,label=\"$<S_z> MF$\")\n",
    "\n",
    "plt.legend()"
   ]
  },
  {
   "cell_type": "code",
   "execution_count": null,
   "metadata": {},
   "outputs": [],
   "source": []
  },
  {
   "cell_type": "code",
   "execution_count": null,
   "metadata": {},
   "outputs": [],
   "source": []
  }
 ],
 "metadata": {
  "kernelspec": {
   "display_name": "Python 3",
   "language": "python",
   "name": "python3"
  },
  "language_info": {
   "codemirror_mode": {
    "name": "ipython",
    "version": 3
   },
   "file_extension": ".py",
   "mimetype": "text/x-python",
   "name": "python",
   "nbconvert_exporter": "python",
   "pygments_lexer": "ipython3",
   "version": "3.8.3"
  }
 },
 "nbformat": 4,
 "nbformat_minor": 4
}
